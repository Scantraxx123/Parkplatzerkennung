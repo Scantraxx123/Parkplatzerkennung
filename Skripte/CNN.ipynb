{
 "cells": [
  {
   "cell_type": "code",
   "execution_count": 1,
   "metadata": {},
   "outputs": [
    {
     "name": "stderr",
     "output_type": "stream",
     "text": [
      "Using TensorFlow backend.\n"
     ]
    },
    {
     "name": "stdout",
     "output_type": "stream",
     "text": [
      "WARNING:tensorflow:From C:\\Users\\FredeR\\Anaconda3\\lib\\site-packages\\tensorflow\\python\\framework\\op_def_library.py:263: colocate_with (from tensorflow.python.framework.ops) is deprecated and will be removed in a future version.\n",
      "Instructions for updating:\n",
      "Colocations handled automatically by placer.\n",
      "WARNING:tensorflow:From C:\\Users\\FredeR\\Anaconda3\\lib\\site-packages\\tensorflow\\python\\ops\\math_ops.py:3066: to_int32 (from tensorflow.python.ops.math_ops) is deprecated and will be removed in a future version.\n",
      "Instructions for updating:\n",
      "Use tf.cast instead.\n",
      "Train on 24000 samples, validate on 6000 samples\n",
      "Epoch 1/8\n",
      "24000/24000 [==============================] - 27s 1ms/step - loss: 0.1588 - acc: 0.9481 - val_loss: 0.0548 - val_acc: 0.9825\n",
      "Epoch 2/8\n",
      "24000/24000 [==============================] - 27s 1ms/step - loss: 0.0539 - acc: 0.9835 - val_loss: 0.0418 - val_acc: 0.9878\n",
      "Epoch 3/8\n",
      "24000/24000 [==============================] - 27s 1ms/step - loss: 0.0412 - acc: 0.9870 - val_loss: 0.0450 - val_acc: 0.9875\n",
      "Epoch 4/8\n",
      "24000/24000 [==============================] - 27s 1ms/step - loss: 0.0411 - acc: 0.9866 - val_loss: 0.0384 - val_acc: 0.9902\n",
      "Epoch 5/8\n",
      "24000/24000 [==============================] - 27s 1ms/step - loss: 0.0346 - acc: 0.9894 - val_loss: 0.0322 - val_acc: 0.9923\n",
      "Epoch 6/8\n",
      "24000/24000 [==============================] - 27s 1ms/step - loss: 0.0288 - acc: 0.9918 - val_loss: 0.0266 - val_acc: 0.9927\n",
      "Epoch 7/8\n",
      "24000/24000 [==============================] - 27s 1ms/step - loss: 0.0291 - acc: 0.9910 - val_loss: 0.0251 - val_acc: 0.9930\n",
      "Epoch 8/8\n",
      "24000/24000 [==============================] - 27s 1ms/step - loss: 0.0248 - acc: 0.9923 - val_loss: 0.0292 - val_acc: 0.9927\n"
     ]
    }
   ],
   "source": [
    "import numpy as np\n",
    "import tensorflow as tf\n",
    "from keras import models\n",
    "from keras import layers\n",
    "\n",
    "# Laden der Features und der Labels\n",
    "features = np.load('features.npy')\n",
    "labels = np.load('labels.npy')\n",
    "\n",
    "# Auswahl der Features und Label vom Datensatz für das Trainieren\n",
    "features = features[500000:530000] \n",
    "labels = labels[500000:530000]\n",
    "\n",
    "# Die RGB-Werte(Features) müssen auf 0-1 skaliert werden\n",
    "features = features/255.0\n",
    "\n",
    "# Das CNN\n",
    "# Das Model arbeitet sequentiell\n",
    "# Aktivierungsfunktion kann ersetzt werden\n",
    "# Die Anzahl der Neuronen der Layer kann verändert werden\n",
    "model = models.Sequential()\n",
    "model.add(layers.Conv2D(16, (3, 3), activation='relu', input_shape=features.shape[1:]))\n",
    "model.add(layers.MaxPooling2D(pool_size=(2, 2)))\n",
    "\n",
    "model.add(layers.Conv2D(16, (3, 3), activation='relu'))\n",
    "model.add(layers.MaxPooling2D(pool_size=(2, 2)))\n",
    "\n",
    "model.add(layers.Flatten()) # \"Abflachen\" der Layer zu 1D\n",
    "model.add(layers.Dense(16, activation='relu'))\n",
    "\n",
    "model.add(layers.Dense(1, activation='sigmoid'))\n",
    "\n",
    "\n",
    "# Auswahl der Loss-Function und des Optimizers\n",
    "# binary_crossentropy muss bestehen bleiben, da binäres Problem\n",
    "model.compile(loss='binary_crossentropy',\n",
    "              optimizer='adam',\n",
    "              metrics=['accuracy'])\n",
    "\n",
    "# Das CNN lernen lassen\n",
    "# batch_size = Anzahl der übertragenen Datenpakete auf einmal\n",
    "# epochs = Anzahl der Durchläufe durch alle Daten\n",
    "# validation_split = Aufteilen der Gesamtdaten in Trainingsdaten und Validierungsdaten(20%)\n",
    "history = model.fit(features, labels, batch_size=128, epochs=8, validation_split=0.2)\n"
   ]
  },
  {
   "cell_type": "code",
   "execution_count": 2,
   "metadata": {
    "scrolled": true
   },
   "outputs": [
    {
     "data": {
      "image/png": "[encoded data removed]",
      "text/plain": [
       "<Figure size 432x288 with 1 Axes>"
      ]
     },
     "metadata": {
      "needs_background": "light"
     },
     "output_type": "display_data"
    }
   ],
   "source": [
    "# Grafische (Verlaufs-)Darstellung des Loss\n",
    "\n",
    "%matplotlib inline  \n",
    "import matplotlib.pyplot as plt\n",
    "\n",
    "acc = history.history['acc']\n",
    "val_acc = history.history['val_acc']\n",
    "loss = history.history['loss']\n",
    "val_loss = history.history['val_loss']\n",
    "\n",
    "epochs = range(1, len(acc) + 1)\n",
    "\n",
    "# \"bo\" = Blauer Punkt\n",
    "plt.plot(epochs, loss, 'bo', label='Training loss')\n",
    "# \"b\" = Blaue Linie\n",
    "plt.plot(epochs, val_loss, 'b', label='Validation loss')\n",
    "plt.title('Training and validation loss')\n",
    "plt.xlabel('Epochs')\n",
    "plt.ylabel('Loss')\n",
    "plt.legend()\n",
    "\n",
    "plt.show()"
   ]
  },
  {
   "cell_type": "code",
   "execution_count": 3,
   "metadata": {},
   "outputs": [],
   "source": [
    "# Zum Testen des CNN\n",
    "testx = features[:10000]\n",
    "testy = labels[:10000]"
   ]
  },
  {
   "cell_type": "code",
   "execution_count": 4,
   "metadata": {},
   "outputs": [
    {
     "name": "stdout",
     "output_type": "stream",
     "text": [
      "10000/10000 [==============================] - 4s 425us/step\n",
      "0.02717282580509782 0.9922\n"
     ]
    }
   ],
   "source": [
    "# Loss und Accuracy werden berechnet\n",
    "val_loss, val_acc = model.evaluate(testx, testy)\n",
    "# Ausgabe der Ergebnisse\n",
    "print(val_loss, val_acc)"
   ]
  },
  {
   "cell_type": "code",
   "execution_count": null,
   "metadata": {},
   "outputs": [],
   "source": []
  },
  {
   "cell_type": "code",
   "execution_count": null,
   "metadata": {},
   "outputs": [],
   "source": []
  }
 ],
 "metadata": {
  "kernelspec": {
   "display_name": "Python 3",
   "language": "python",
   "name": "python3"
  },
  "language_info": {
   "codemirror_mode": {
    "name": "ipython",
    "version": 3
   },
   "file_extension": ".py",
   "mimetype": "text/x-python",
   "name": "python",
   "nbconvert_exporter": "python",
   "pygments_lexer": "ipython3",
   "version": "3.7.1"
  }
 },
 "nbformat": 4,
 "nbformat_minor": 2
}
