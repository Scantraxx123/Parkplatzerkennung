{
  "nbformat": 4,
  "nbformat_minor": 0,
  "metadata": {
    "colab": {
      "name": "MainCNN (1).ipynb",
      "version": "0.3.2",
      "provenance": [],
      "collapsed_sections": []
    },
    "language_info": {
      "codemirror_mode": {
        "name": "ipython",
        "version": 3
      },
      "file_extension": ".py",
      "mimetype": "text/x-python",
      "name": "python",
      "nbconvert_exporter": "python",
      "pygments_lexer": "ipython3",
      "version": "3.7.1"
    },
    "kernelspec": {
      "display_name": "Python 3",
      "language": "python",
      "name": "python3"
    },
    "accelerator": "GPU"
  },
  "cells": [
    {
      "cell_type": "code",
      "metadata": {
        "colab_type": "code",
        "id": "EkPo-oGGWq5F",
        "outputId": "da64c178-a460-4ec0-8f3c-3e05bddbd1ed",
        "colab": {
          "base_uri": "https://localhost:8080/",
          "height": 309
        }
      },
      "source": [
        "!wget --no-check-certificate \"https://onedrive.live.com/download?cid=11F71A1654195330&resid=11F71A1654195330%2145907&authkey=AEafDmEGTS9nfOU\""
      ],
      "execution_count": 1,
      "outputs": [
        {
          "output_type": "stream",
          "text": [
            "--2019-05-23 18:04:15--  https://onedrive.live.com/download?cid=11F71A1654195330&resid=11F71A1654195330%2145907&authkey=AEafDmEGTS9nfOU\n",
            "Resolving onedrive.live.com (onedrive.live.com)... 13.107.42.13\n",
            "Connecting to onedrive.live.com (onedrive.live.com)|13.107.42.13|:443... connected.\n",
            "HTTP request sent, awaiting response... 302 Found\n",
            "Location: https://kwo77w.am.files.1drv.com/y4mKP9nTM-g4rgH5figz6srahoEUOvaW40UudmmoHDnceoyMQV7HO4yxsIJPaWxinqsx-3kWMUrxIVDD2k6jb-rXFsM4PJIhYD2kGA2_nmDB6pMlkzte9KLQhhLbfBb7eFAcBoVAUWbTrW_hIQU1etjFK9YKsjdUalYMYuGbOV3jJvw9Ncrh6GylkJhprEYk_3fPbe-7KuyrN6LpnOeyKLD7g/PUC_50k.zip?download&psid=1 [following]\n",
            "--2019-05-23 18:04:21--  https://kwo77w.am.files.1drv.com/y4mKP9nTM-g4rgH5figz6srahoEUOvaW40UudmmoHDnceoyMQV7HO4yxsIJPaWxinqsx-3kWMUrxIVDD2k6jb-rXFsM4PJIhYD2kGA2_nmDB6pMlkzte9KLQhhLbfBb7eFAcBoVAUWbTrW_hIQU1etjFK9YKsjdUalYMYuGbOV3jJvw9Ncrh6GylkJhprEYk_3fPbe-7KuyrN6LpnOeyKLD7g/PUC_50k.zip?download&psid=1\n",
            "Resolving kwo77w.am.files.1drv.com (kwo77w.am.files.1drv.com)... 13.107.42.12\n",
            "Connecting to kwo77w.am.files.1drv.com (kwo77w.am.files.1drv.com)|13.107.42.12|:443... connected.\n",
            "HTTP request sent, awaiting response... 200 OK\n",
            "Length: 121276401 (116M) [application/zip]\n",
            "Saving to: ‘download?cid=11F71A1654195330&resid=11F71A1654195330!45907&authkey=AEafDmEGTS9nfOU’\n",
            "\n",
            "download?cid=11F71A 100%[===================>] 115.66M  22.2MB/s    in 5.2s    \n",
            "\n",
            "2019-05-23 18:04:27 (22.2 MB/s) - ‘download?cid=11F71A1654195330&resid=11F71A1654195330!45907&authkey=AEafDmEGTS9nfOU’ saved [121276401/121276401]\n",
            "\n"
          ],
          "name": "stdout"
        }
      ]
    },
    {
      "cell_type": "code",
      "metadata": {
        "colab_type": "code",
        "id": "ZqSyfoiY01E3",
        "colab": {}
      },
      "source": [
        "!unzip -q \"download?cid=11F71A1654195330&resid=11F71A1654195330!45907&authkey=AEafDmEGTS9nfOU\""
      ],
      "execution_count": 0,
      "outputs": []
    },
    {
      "cell_type": "code",
      "metadata": {
        "colab_type": "code",
        "id": "JW4ycYhNQ72d",
        "outputId": "130db800-1bd8-43d3-a320-70259b465d8f",
        "colab": {
          "base_uri": "https://localhost:8080/",
          "height": 442
        }
      },
      "source": [
        "import numpy as np\n",
        "import tensorflow as tf\n",
        "from keras import models\n",
        "from keras import layers\n",
        "import matplotlib.pyplot as plt\n",
        "import os\n",
        "\n",
        "\n",
        "data_dir = './PUC_50k'\n",
        "base_train_dir = os.path.join(data_dir, 'train')\n",
        "base_test_dir = os.path.join(data_dir, 'test')\n",
        "\n",
        "\n",
        "# Das CNN\n",
        "# Das Model arbeitet sequentiell\n",
        "# Aktivierungsfunktion kann ersetzt werden\n",
        "# Die Anzahl der Neuronen der Layer kann verändert werden\n",
        "model = models.Sequential()\n",
        "model.add(layers.Conv2D(16, (3, 3), activation='relu', input_shape=(60, 60, 3), use_bias=False))\n",
        "model.add(layers.BatchNormalization())\n",
        "model.add(layers.MaxPooling2D(pool_size=(2, 2)))\n",
        "\n",
        "model.add(layers.Conv2D(16, (3, 3), activation='relu', use_bias=False))\n",
        "model.add(layers.BatchNormalization())\n",
        "model.add(layers.MaxPooling2D(pool_size=(2, 2)))\n",
        "\n",
        "model.add(layers.Flatten()) # \"Abflachen\" der Layer zu 1D\n",
        "model.add(layers.Dense(10, activation='relu'))\n",
        "\n",
        "model.add(layers.Dense(1, activation='sigmoid'))\n",
        "\n",
        "model.summary()\n",
        "# Auswahl der Loss-Function und des Optimizers\n",
        "# binary_crossentropy muss bestehen bleiben, da binäres Problem\n",
        "model.compile(loss='binary_crossentropy',\n",
        "              optimizer='adam',\n",
        "              metrics=['accuracy'])\n"
      ],
      "execution_count": 6,
      "outputs": [
        {
          "output_type": "stream",
          "text": [
            "_________________________________________________________________\n",
            "Layer (type)                 Output Shape              Param #   \n",
            "=================================================================\n",
            "conv2d_3 (Conv2D)            (None, 58, 58, 16)        432       \n",
            "_________________________________________________________________\n",
            "batch_normalization_3 (Batch (None, 58, 58, 16)        64        \n",
            "_________________________________________________________________\n",
            "max_pooling2d_3 (MaxPooling2 (None, 29, 29, 16)        0         \n",
            "_________________________________________________________________\n",
            "conv2d_4 (Conv2D)            (None, 27, 27, 16)        2304      \n",
            "_________________________________________________________________\n",
            "batch_normalization_4 (Batch (None, 27, 27, 16)        64        \n",
            "_________________________________________________________________\n",
            "max_pooling2d_4 (MaxPooling2 (None, 13, 13, 16)        0         \n",
            "_________________________________________________________________\n",
            "flatten_2 (Flatten)          (None, 2704)              0         \n",
            "_________________________________________________________________\n",
            "dense_3 (Dense)              (None, 10)                27050     \n",
            "_________________________________________________________________\n",
            "dense_4 (Dense)              (None, 1)                 11        \n",
            "=================================================================\n",
            "Total params: 29,925\n",
            "Trainable params: 29,861\n",
            "Non-trainable params: 64\n",
            "_________________________________________________________________\n"
          ],
          "name": "stdout"
        }
      ]
    },
    {
      "cell_type": "code",
      "metadata": {
        "colab_type": "code",
        "id": "hKQN8cy1VsQJ",
        "outputId": "deecb442-9d2d-45b8-e38d-80c735a92f00",
        "colab": {
          "base_uri": "https://localhost:8080/",
          "height": 51
        }
      },
      "source": [
        "from keras.preprocessing.image import ImageDataGenerator\n",
        "\n",
        "train_datagen = ImageDataGenerator(rescale=1./255)\n",
        "\n",
        "\n",
        "\n",
        "test_datagen = ImageDataGenerator(rescale=1./255)\n",
        "\n",
        "train_generator = train_datagen.flow_from_directory(\n",
        "        base_train_dir,\n",
        "        target_size=(60, 60),\n",
        "        batch_size=128,\n",
        "        class_mode='binary'\n",
        "        )\n",
        "\n",
        "validation_generator = test_datagen.flow_from_directory(\n",
        "        base_test_dir,\n",
        "        target_size=(60, 60),\n",
        "        batch_size=128,\n",
        "        class_mode='binary'\n",
        "        )"
      ],
      "execution_count": 7,
      "outputs": [
        {
          "output_type": "stream",
          "text": [
            "Found 59751 images belonging to 2 classes.\n",
            "Found 10000 images belonging to 2 classes.\n"
          ],
          "name": "stdout"
        }
      ]
    },
    {
      "cell_type": "code",
      "metadata": {
        "colab_type": "code",
        "id": "p7IA3_1AV81B",
        "outputId": "0175e67f-3890-473e-eb8c-13fad815351e",
        "colab": {
          "base_uri": "https://localhost:8080/",
          "height": 306
        }
      },
      "source": [
        "from keras. callbacks import EarlyStopping\n",
        "\n",
        "es = EarlyStopping(monitor='val_acc', patience=5, restore_best_weights=True)\n",
        "\n",
        "history = model.fit_generator(\n",
        "                              train_generator,\n",
        "                              steps_per_epoch=313, \n",
        "                              epochs=100,\n",
        "                              validation_data=validation_generator,\n",
        "                              validation_steps=79, \n",
        "                              callbacks=[es]\n",
        "                             )"
      ],
      "execution_count": 8,
      "outputs": [
        {
          "output_type": "stream",
          "text": [
            "WARNING:tensorflow:From /usr/local/lib/python3.6/dist-packages/tensorflow/python/ops/math_ops.py:3066: to_int32 (from tensorflow.python.ops.math_ops) is deprecated and will be removed in a future version.\n",
            "Instructions for updating:\n",
            "Use tf.cast instead.\n",
            "Epoch 1/100\n",
            "313/313 [==============================] - 54s 173ms/step - loss: 0.0149 - acc: 0.9960 - val_loss: 0.3749 - val_acc: 0.9015\n",
            "Epoch 2/100\n",
            "313/313 [==============================] - 49s 158ms/step - loss: 0.0018 - acc: 0.9996 - val_loss: 0.4448 - val_acc: 0.9020\n",
            "Epoch 3/100\n",
            "313/313 [==============================] - 48s 152ms/step - loss: 0.0025 - acc: 0.9994 - val_loss: 0.5491 - val_acc: 0.8589\n",
            "Epoch 4/100\n",
            "313/313 [==============================] - 48s 154ms/step - loss: 0.0012 - acc: 0.9998 - val_loss: 1.5320 - val_acc: 0.7426\n",
            "Epoch 5/100\n",
            "313/313 [==============================] - 48s 155ms/step - loss: 0.0023 - acc: 0.9994 - val_loss: 0.6796 - val_acc: 0.8725\n",
            "Epoch 6/100\n",
            "313/313 [==============================] - 47s 150ms/step - loss: 0.0015 - acc: 0.9996 - val_loss: 0.7186 - val_acc: 0.8745\n",
            "Epoch 7/100\n",
            "313/313 [==============================] - 50s 161ms/step - loss: 0.0010 - acc: 0.9998 - val_loss: 0.7213 - val_acc: 0.8621\n"
          ],
          "name": "stdout"
        }
      ]
    },
    {
      "cell_type": "code",
      "metadata": {
        "colab_type": "code",
        "id": "gDlfCNijQ72j",
        "scrolled": true,
        "outputId": "f2f7cffe-5300-43d0-d210-53104a416cd4",
        "colab": {
          "base_uri": "https://localhost:8080/",
          "height": 295
        }
      },
      "source": [
        "# Grafische (Verlaufs-)Darstellung des Loss\n",
        "\n",
        "%matplotlib inline  \n",
        "\n",
        "acc = history.history['acc']\n",
        "val_acc = history.history['val_acc']\n",
        "loss = history.history['loss']\n",
        "val_loss = history.history['val_loss']\n",
        "\n",
        "epochs = range(1, len(acc) + 1)\n",
        "\n",
        "# \"bo\" = Blauer Punkt\n",
        "plt.plot(epochs, acc, 'bo', label='Training Accuracy')\n",
        "# \"b\" = Blaue Linie\n",
        "plt.plot(epochs, val_acc, 'b', label='Validation Accuracy')\n",
        "plt.title('Training and validation accuracy')\n",
        "plt.xlabel('Epochs')\n",
        "plt.ylabel('Accuracy')\n",
        "plt.legend()\n",
        "\n",
        "plt.show()\n"
      ],
      "execution_count": 9,
      "outputs": [
        {
          "output_type": "display_data",
          "data": {
            "image/png": "[encoded data removed]",
            "text/plain": [
              "<Figure size 432x288 with 1 Axes>"
            ]
          },
          "metadata": {
            "tags": []
          }
        }
      ]
    },
    {
      "cell_type": "code",
      "metadata": {
        "colab_type": "code",
        "id": "NfrvdBadQ72r",
        "outputId": "b8391121-cde7-49e9-d907-87d93d7a0381",
        "colab": {
          "base_uri": "https://localhost:8080/",
          "height": 309
        }
      },
      "source": [
        "!wget --no-check-certificate \"https://onedrive.live.com/download?cid=11F71A1654195330&resid=11F71A1654195330%2145681&authkey=AIicdVtkBEkQgvU\""
      ],
      "execution_count": 10,
      "outputs": [
        {
          "output_type": "stream",
          "text": [
            "--2019-05-23 18:10:35--  https://onedrive.live.com/download?cid=11F71A1654195330&resid=11F71A1654195330%2145681&authkey=AIicdVtkBEkQgvU\n",
            "Resolving onedrive.live.com (onedrive.live.com)... 13.107.42.13\n",
            "Connecting to onedrive.live.com (onedrive.live.com)|13.107.42.13|:443... connected.\n",
            "HTTP request sent, awaiting response... 302 Found\n",
            "Location: https://mwrg1q.am.files.1drv.com/y4mxct-LCZAYKIueXvUnjClfOS98fX_vcGhis3mkABRz6IHNTdS0BDgpro71wXj-1iorY1aDdjPFjqE5iMAJniDmOQaJu4IKPvERw1kDx_MtSFffJaV0hJiWjyB3E3AQfn6tVttoEnZKgKfITkDel-xK2ZmecQayS1Un0WMPrEFizIqA5j81s5H3j5rQDdCU8pemnuk2Apt5uV8gj3xjxmqGQ/CNR_TEST.zip?download&psid=1 [following]\n",
            "--2019-05-23 18:10:35--  https://mwrg1q.am.files.1drv.com/y4mxct-LCZAYKIueXvUnjClfOS98fX_vcGhis3mkABRz6IHNTdS0BDgpro71wXj-1iorY1aDdjPFjqE5iMAJniDmOQaJu4IKPvERw1kDx_MtSFffJaV0hJiWjyB3E3AQfn6tVttoEnZKgKfITkDel-xK2ZmecQayS1Un0WMPrEFizIqA5j81s5H3j5rQDdCU8pemnuk2Apt5uV8gj3xjxmqGQ/CNR_TEST.zip?download&psid=1\n",
            "Resolving mwrg1q.am.files.1drv.com (mwrg1q.am.files.1drv.com)... 13.107.42.12\n",
            "Connecting to mwrg1q.am.files.1drv.com (mwrg1q.am.files.1drv.com)|13.107.42.12|:443... connected.\n",
            "HTTP request sent, awaiting response... 200 OK\n",
            "Length: 437835825 (418M) [application/zip]\n",
            "Saving to: ‘download?cid=11F71A1654195330&resid=11F71A1654195330!45681&authkey=AIicdVtkBEkQgvU’\n",
            "\n",
            "download?cid=11F71A 100%[===================>] 417.55M  10.4MB/s    in 43s     \n",
            "\n",
            "2019-05-23 18:11:19 (9.69 MB/s) - ‘download?cid=11F71A1654195330&resid=11F71A1654195330!45681&authkey=AIicdVtkBEkQgvU’ saved [437835825/437835825]\n",
            "\n"
          ],
          "name": "stdout"
        }
      ]
    },
    {
      "cell_type": "code",
      "metadata": {
        "id": "r9TSFzB66SSz",
        "colab_type": "code",
        "colab": {}
      },
      "source": [
        "!unzip -q \"download?cid=11F71A1654195330&resid=11F71A1654195330!45681&authkey=AIicdVtkBEkQgvU\""
      ],
      "execution_count": 0,
      "outputs": []
    },
    {
      "cell_type": "code",
      "metadata": {
        "id": "nPT62hzg6Sl6",
        "colab_type": "code",
        "outputId": "50f9137d-788f-40fe-8cc3-6739ce1cf72c",
        "colab": {
          "base_uri": "https://localhost:8080/",
          "height": 51
        }
      },
      "source": [
        "temp = os.path.join(\"./CNR\", 'test')\n",
        "\n",
        "test_generator = test_datagen.flow_from_directory(\n",
        "        temp,\n",
        "        target_size=(60, 60),\n",
        "        batch_size=200,\n",
        "        class_mode='binary'\n",
        "        )\n",
        "\n",
        "\n",
        "\n",
        "model.evaluate_generator(test_generator,20)"
      ],
      "execution_count": 12,
      "outputs": [
        {
          "output_type": "stream",
          "text": [
            "Found 144965 images belonging to 2 classes.\n"
          ],
          "name": "stdout"
        },
        {
          "output_type": "execute_result",
          "data": {
            "text/plain": [
              "[0.47792801111936567, 0.8987499892711639]"
            ]
          },
          "metadata": {
            "tags": []
          },
          "execution_count": 12
        }
      ]
    },
    {
      "cell_type": "code",
      "metadata": {
        "id": "GvJWagy4YvZM",
        "colab_type": "code",
        "outputId": "d282b88b-238f-420b-e48f-b51fcd0b804d",
        "colab": {
          "base_uri": "https://localhost:8080/",
          "height": 34
        }
      },
      "source": [
        "import sys\n",
        "import numpy\n",
        "numpy.set_printoptions(threshold=sys.maxsize)\n",
        "\n",
        "\n",
        "result = model.predict_generator(test_generator,20)\n",
        "print(result[1])"
      ],
      "execution_count": 13,
      "outputs": [
        {
          "output_type": "stream",
          "text": [
            "[1.04010105e-05]\n"
          ],
          "name": "stdout"
        }
      ]
    },
    {
      "cell_type": "code",
      "metadata": {
        "id": "D9HaTDRDelTU",
        "colab_type": "code",
        "outputId": "43440b73-9614-4daf-85c2-a29e1caa1795",
        "colab": {
          "base_uri": "https://localhost:8080/",
          "height": 231
        }
      },
      "source": [
        "for i in range (0,128):\n",
        "    image = x_batch[i]\n",
        "    plt.imshow(image)\n",
        "    plt.show()\n",
        "    print(result[i])\n",
        "    print(y_batch[i])\n"
      ],
      "execution_count": 14,
      "outputs": [
        {
          "output_type": "error",
          "ename": "NameError",
          "evalue": "ignored",
          "traceback": [
            "\u001b[0;31m---------------------------------------------------------------------------\u001b[0m",
            "\u001b[0;31mNameError\u001b[0m                                 Traceback (most recent call last)",
            "\u001b[0;32m<ipython-input-14-481df27c128a>\u001b[0m in \u001b[0;36m<module>\u001b[0;34m()\u001b[0m\n\u001b[1;32m      1\u001b[0m \u001b[0;32mfor\u001b[0m \u001b[0mi\u001b[0m \u001b[0;32min\u001b[0m \u001b[0mrange\u001b[0m \u001b[0;34m(\u001b[0m\u001b[0;36m0\u001b[0m\u001b[0;34m,\u001b[0m\u001b[0;36m128\u001b[0m\u001b[0;34m)\u001b[0m\u001b[0;34m:\u001b[0m\u001b[0;34m\u001b[0m\u001b[0;34m\u001b[0m\u001b[0m\n\u001b[0;32m----> 2\u001b[0;31m     \u001b[0mimage\u001b[0m \u001b[0;34m=\u001b[0m \u001b[0mx_batch\u001b[0m\u001b[0;34m[\u001b[0m\u001b[0mi\u001b[0m\u001b[0;34m]\u001b[0m\u001b[0;34m\u001b[0m\u001b[0;34m\u001b[0m\u001b[0m\n\u001b[0m\u001b[1;32m      3\u001b[0m     \u001b[0mplt\u001b[0m\u001b[0;34m.\u001b[0m\u001b[0mimshow\u001b[0m\u001b[0;34m(\u001b[0m\u001b[0mimage\u001b[0m\u001b[0;34m)\u001b[0m\u001b[0;34m\u001b[0m\u001b[0;34m\u001b[0m\u001b[0m\n\u001b[1;32m      4\u001b[0m     \u001b[0mplt\u001b[0m\u001b[0;34m.\u001b[0m\u001b[0mshow\u001b[0m\u001b[0;34m(\u001b[0m\u001b[0;34m)\u001b[0m\u001b[0;34m\u001b[0m\u001b[0;34m\u001b[0m\u001b[0m\n\u001b[1;32m      5\u001b[0m     \u001b[0mprint\u001b[0m\u001b[0;34m(\u001b[0m\u001b[0mresult\u001b[0m\u001b[0;34m[\u001b[0m\u001b[0mi\u001b[0m\u001b[0;34m]\u001b[0m\u001b[0;34m)\u001b[0m\u001b[0;34m\u001b[0m\u001b[0;34m\u001b[0m\u001b[0m\n",
            "\u001b[0;31mNameError\u001b[0m: name 'x_batch' is not defined"
          ]
        }
      ]
    }
  ]
}