{
  "nbformat": 4,
  "nbformat_minor": 0,
  "metadata": {
    "colab": {
      "name": "MainCNN (1).ipynb",
      "version": "0.3.2",
      "provenance": [],
      "collapsed_sections": []
    },
    "language_info": {
      "codemirror_mode": {
        "name": "ipython",
        "version": 3
      },
      "file_extension": ".py",
      "mimetype": "text/x-python",
      "name": "python",
      "nbconvert_exporter": "python",
      "pygments_lexer": "ipython3",
      "version": "3.7.1"
    },
    "kernelspec": {
      "display_name": "Python 3",
      "language": "python",
      "name": "python3"
    },
    "accelerator": "GPU"
  },
  "cells": [
    {
      "cell_type": "code",
      "metadata": {
        "colab_type": "code",
        "id": "EkPo-oGGWq5F",
        "outputId": "d659be23-13a7-47a5-a979-6f94cb69cc65",
        "colab": {
          "base_uri": "https://localhost:8080/",
          "height": 309
        }
      },
      "source": [
        "!wget --no-check-certificate \"https://onedrive.live.com/download?cid=11F71A1654195330&resid=11F71A1654195330%2145909&authkey=AElKE_IA62qa2BQ\""
      ],
      "execution_count": 1,
      "outputs": [
        {
          "output_type": "stream",
          "text": [
            "--2019-05-23 18:20:09--  https://onedrive.live.com/download?cid=11F71A1654195330&resid=11F71A1654195330%2145909&authkey=AElKE_IA62qa2BQ\n",
            "Resolving onedrive.live.com (onedrive.live.com)... 13.107.42.13\n",
            "Connecting to onedrive.live.com (onedrive.live.com)|13.107.42.13|:443... connected.\n",
            "HTTP request sent, awaiting response... 302 Found\n",
            "Location: https://kwox7w.am.files.1drv.com/y4mgdtjvt9ORlqpynu0GwMEYGo23w5LkUyBfncP-XI6KdGbB9MDRyr4uM941n3g372538wFqVgSnTTWlilSHF1w8ziZcKk3JE2xS71fjPSI4Gn3GDO-3F00ryfL-JOh-yas6HzpQckOwbxeQJkUHAELVKd9FPO2t1RMbrZYiisLtolZR85q5fbdIqNA8UduJjqBEIMq66v3JsaZksAKGnZ05g/UFPR05_50k.zip?download&psid=1 [following]\n",
            "--2019-05-23 18:20:09--  https://kwox7w.am.files.1drv.com/y4mgdtjvt9ORlqpynu0GwMEYGo23w5LkUyBfncP-XI6KdGbB9MDRyr4uM941n3g372538wFqVgSnTTWlilSHF1w8ziZcKk3JE2xS71fjPSI4Gn3GDO-3F00ryfL-JOh-yas6HzpQckOwbxeQJkUHAELVKd9FPO2t1RMbrZYiisLtolZR85q5fbdIqNA8UduJjqBEIMq66v3JsaZksAKGnZ05g/UFPR05_50k.zip?download&psid=1\n",
            "Resolving kwox7w.am.files.1drv.com (kwox7w.am.files.1drv.com)... 13.107.42.12\n",
            "Connecting to kwox7w.am.files.1drv.com (kwox7w.am.files.1drv.com)|13.107.42.12|:443... connected.\n",
            "HTTP request sent, awaiting response... 200 OK\n",
            "Length: 177775829 (170M) [application/zip]\n",
            "Saving to: ‘download?cid=11F71A1654195330&resid=11F71A1654195330!45909&authkey=AElKE_IA62qa2BQ’\n",
            "\n",
            "download?cid=11F71A 100%[===================>] 169.54M  23.9MB/s    in 8.6s    \n",
            "\n",
            "2019-05-23 18:20:19 (19.7 MB/s) - ‘download?cid=11F71A1654195330&resid=11F71A1654195330!45909&authkey=AElKE_IA62qa2BQ’ saved [177775829/177775829]\n",
            "\n"
          ],
          "name": "stdout"
        }
      ]
    },
    {
      "cell_type": "code",
      "metadata": {
        "colab_type": "code",
        "id": "ZqSyfoiY01E3",
        "colab": {}
      },
      "source": [
        "!unzip -q \"download?cid=11F71A1654195330&resid=11F71A1654195330!45909&authkey=AElKE_IA62qa2BQ\""
      ],
      "execution_count": 0,
      "outputs": []
    },
    {
      "cell_type": "code",
      "metadata": {
        "colab_type": "code",
        "id": "JW4ycYhNQ72d",
        "outputId": "fc1a873e-c511-4823-8664-9b1e827b6ca4",
        "colab": {
          "base_uri": "https://localhost:8080/",
          "height": 442
        }
      },
      "source": [
        "import numpy as np\n",
        "import tensorflow as tf\n",
        "from keras import models\n",
        "from keras import layers\n",
        "import matplotlib.pyplot as plt\n",
        "import os\n",
        "\n",
        "\n",
        "data_dir = './UFPR05_50k'\n",
        "base_train_dir = os.path.join(data_dir, 'train')\n",
        "base_test_dir = os.path.join(data_dir, 'test')\n",
        "\n",
        "\n",
        "# Das CNN\n",
        "# Das Model arbeitet sequentiell\n",
        "# Aktivierungsfunktion kann ersetzt werden\n",
        "# Die Anzahl der Neuronen der Layer kann verändert werden\n",
        "model = models.Sequential()\n",
        "model.add(layers.Conv2D(16, (3, 3), activation='relu', input_shape=(60, 60, 3), use_bias=False))\n",
        "model.add(layers.BatchNormalization())\n",
        "model.add(layers.MaxPooling2D(pool_size=(2, 2)))\n",
        "\n",
        "model.add(layers.Conv2D(16, (3, 3), activation='relu', use_bias=False))\n",
        "model.add(layers.BatchNormalization())\n",
        "model.add(layers.MaxPooling2D(pool_size=(2, 2)))\n",
        "\n",
        "model.add(layers.Flatten()) # \"Abflachen\" der Layer zu 1D\n",
        "model.add(layers.Dense(10, activation='relu'))\n",
        "\n",
        "model.add(layers.Dense(1, activation='sigmoid'))\n",
        "\n",
        "model.summary()\n",
        "# Auswahl der Loss-Function und des Optimizers\n",
        "# binary_crossentropy muss bestehen bleiben, da binäres Problem\n",
        "model.compile(loss='binary_crossentropy',\n",
        "              optimizer='adam',\n",
        "              metrics=['accuracy'])\n"
      ],
      "execution_count": 6,
      "outputs": [
        {
          "output_type": "stream",
          "text": [
            "_________________________________________________________________\n",
            "Layer (type)                 Output Shape              Param #   \n",
            "=================================================================\n",
            "conv2d_3 (Conv2D)            (None, 58, 58, 16)        432       \n",
            "_________________________________________________________________\n",
            "batch_normalization_3 (Batch (None, 58, 58, 16)        64        \n",
            "_________________________________________________________________\n",
            "max_pooling2d_3 (MaxPooling2 (None, 29, 29, 16)        0         \n",
            "_________________________________________________________________\n",
            "conv2d_4 (Conv2D)            (None, 27, 27, 16)        2304      \n",
            "_________________________________________________________________\n",
            "batch_normalization_4 (Batch (None, 27, 27, 16)        64        \n",
            "_________________________________________________________________\n",
            "max_pooling2d_4 (MaxPooling2 (None, 13, 13, 16)        0         \n",
            "_________________________________________________________________\n",
            "flatten_2 (Flatten)          (None, 2704)              0         \n",
            "_________________________________________________________________\n",
            "dense_3 (Dense)              (None, 10)                27050     \n",
            "_________________________________________________________________\n",
            "dense_4 (Dense)              (None, 1)                 11        \n",
            "=================================================================\n",
            "Total params: 29,925\n",
            "Trainable params: 29,861\n",
            "Non-trainable params: 64\n",
            "_________________________________________________________________\n"
          ],
          "name": "stdout"
        }
      ]
    },
    {
      "cell_type": "code",
      "metadata": {
        "colab_type": "code",
        "id": "hKQN8cy1VsQJ",
        "outputId": "9d071bf9-27e4-42f9-fa30-baf5b6d4efe4",
        "colab": {
          "base_uri": "https://localhost:8080/",
          "height": 51
        }
      },
      "source": [
        "from keras.preprocessing.image import ImageDataGenerator\n",
        "\n",
        "train_datagen = ImageDataGenerator(rescale=1./255)\n",
        "\n",
        "\n",
        "\n",
        "test_datagen = ImageDataGenerator(rescale=1./255)\n",
        "\n",
        "train_generator = train_datagen.flow_from_directory(\n",
        "        base_train_dir,\n",
        "        target_size=(60, 60),\n",
        "        batch_size=128,\n",
        "        class_mode='binary'\n",
        "        )\n",
        "\n",
        "validation_generator = test_datagen.flow_from_directory(\n",
        "        base_test_dir,\n",
        "        target_size=(60, 60),\n",
        "        batch_size=128,\n",
        "        class_mode='binary'\n",
        "        )"
      ],
      "execution_count": 7,
      "outputs": [
        {
          "output_type": "stream",
          "text": [
            "Found 51992 images belonging to 2 classes.\n",
            "Found 10000 images belonging to 2 classes.\n"
          ],
          "name": "stdout"
        }
      ]
    },
    {
      "cell_type": "code",
      "metadata": {
        "colab_type": "code",
        "id": "p7IA3_1AV81B",
        "outputId": "66911cb2-4b05-46e6-a930-3fc86273cd10",
        "colab": {
          "base_uri": "https://localhost:8080/",
          "height": 408
        }
      },
      "source": [
        "from keras. callbacks import EarlyStopping\n",
        "\n",
        "es = EarlyStopping(monitor='val_acc', patience=5, restore_best_weights=True)\n",
        "\n",
        "history = model.fit_generator(\n",
        "                              train_generator,\n",
        "                              steps_per_epoch=313, \n",
        "                              epochs=100,\n",
        "                              validation_data=validation_generator,\n",
        "                              validation_steps=79, \n",
        "                              callbacks=[es]\n",
        "                             )"
      ],
      "execution_count": 8,
      "outputs": [
        {
          "output_type": "stream",
          "text": [
            "WARNING:tensorflow:From /usr/local/lib/python3.6/dist-packages/tensorflow/python/ops/math_ops.py:3066: to_int32 (from tensorflow.python.ops.math_ops) is deprecated and will be removed in a future version.\n",
            "Instructions for updating:\n",
            "Use tf.cast instead.\n",
            "Epoch 1/100\n",
            "313/313 [==============================] - 53s 169ms/step - loss: 0.0225 - acc: 0.9931 - val_loss: 0.7283 - val_acc: 0.8303\n",
            "Epoch 2/100\n",
            "313/313 [==============================] - 48s 152ms/step - loss: 0.0066 - acc: 0.9980 - val_loss: 0.7976 - val_acc: 0.8108\n",
            "Epoch 3/100\n",
            "313/313 [==============================] - 46s 148ms/step - loss: 0.0051 - acc: 0.9987 - val_loss: 0.6835 - val_acc: 0.8521\n",
            "Epoch 4/100\n",
            "313/313 [==============================] - 47s 150ms/step - loss: 0.0058 - acc: 0.9986 - val_loss: 0.4831 - val_acc: 0.8766\n",
            "Epoch 5/100\n",
            "313/313 [==============================] - 47s 151ms/step - loss: 0.0034 - acc: 0.9991 - val_loss: 0.4412 - val_acc: 0.8932\n",
            "Epoch 6/100\n",
            "313/313 [==============================] - 47s 149ms/step - loss: 0.0058 - acc: 0.9983 - val_loss: 0.6235 - val_acc: 0.8731\n",
            "Epoch 7/100\n",
            "313/313 [==============================] - 47s 151ms/step - loss: 0.0027 - acc: 0.9990 - val_loss: 0.8194 - val_acc: 0.8443\n",
            "Epoch 8/100\n",
            "313/313 [==============================] - 46s 146ms/step - loss: 0.0024 - acc: 0.9994 - val_loss: 0.8188 - val_acc: 0.8421\n",
            "Epoch 9/100\n",
            "313/313 [==============================] - 47s 150ms/step - loss: 0.0031 - acc: 0.9990 - val_loss: 0.5618 - val_acc: 0.8815\n",
            "Epoch 10/100\n",
            "313/313 [==============================] - 46s 147ms/step - loss: 0.0021 - acc: 0.9993 - val_loss: 0.8374 - val_acc: 0.8428\n"
          ],
          "name": "stdout"
        }
      ]
    },
    {
      "cell_type": "code",
      "metadata": {
        "colab_type": "code",
        "id": "gDlfCNijQ72j",
        "scrolled": true,
        "outputId": "3d926327-42ca-4c22-86ea-8f3413f353de",
        "colab": {
          "base_uri": "https://localhost:8080/",
          "height": 295
        }
      },
      "source": [
        "# Grafische (Verlaufs-)Darstellung des Loss\n",
        "\n",
        "%matplotlib inline  \n",
        "\n",
        "acc = history.history['acc']\n",
        "val_acc = history.history['val_acc']\n",
        "loss = history.history['loss']\n",
        "val_loss = history.history['val_loss']\n",
        "\n",
        "epochs = range(1, len(acc) + 1)\n",
        "\n",
        "# \"bo\" = Blauer Punkt\n",
        "plt.plot(epochs, acc, 'bo', label='Training Accuracy')\n",
        "# \"b\" = Blaue Linie\n",
        "plt.plot(epochs, val_acc, 'b', label='Validation Accuracy')\n",
        "plt.title('Training and validation accuracy')\n",
        "plt.xlabel('Epochs')\n",
        "plt.ylabel('Accuracy')\n",
        "plt.legend()\n",
        "\n",
        "plt.show()\n"
      ],
      "execution_count": 9,
      "outputs": [
        {
          "output_type": "display_data",
          "data": {
            "image/png": "[encoded data removed]",
            "text/plain": [
              "<Figure size 432x288 with 1 Axes>"
            ]
          },
          "metadata": {
            "tags": []
          }
        }
      ]
    },
    {
      "cell_type": "code",
      "metadata": {
        "colab_type": "code",
        "id": "NfrvdBadQ72r",
        "outputId": "30fc0fab-cee3-408c-e3dd-c1202e4c8959",
        "colab": {
          "base_uri": "https://localhost:8080/",
          "height": 309
        }
      },
      "source": [
        "!wget --no-check-certificate \"https://onedrive.live.com/download?cid=11F71A1654195330&resid=11F71A1654195330%2145681&authkey=AIicdVtkBEkQgvU\""
      ],
      "execution_count": 10,
      "outputs": [
        {
          "output_type": "stream",
          "text": [
            "--2019-05-23 18:28:36--  https://onedrive.live.com/download?cid=11F71A1654195330&resid=11F71A1654195330%2145681&authkey=AIicdVtkBEkQgvU\n",
            "Resolving onedrive.live.com (onedrive.live.com)... 13.107.42.13\n",
            "Connecting to onedrive.live.com (onedrive.live.com)|13.107.42.13|:443... connected.\n",
            "HTTP request sent, awaiting response... 302 Found\n",
            "Location: https://mwrg1q.am.files.1drv.com/y4mTnuWfZ5hZZknudLMLSY2NMzo6HafvsiG4tOryuxnnjTMzROf96dU7YQhmlB8mmY52Qpcneu_iS9HkNEDwZNgcuhVYS_XJdhqVxUlrhIHNA_Z0Tz9LhcQGUREGUbhNBh9n4NV6Hb8GXlo1HSWyi9516GK8JRqQFbMx2rRZhUpCIykpsBXrV_JRM5WI46MJ2MJ5nVUChVSCNzRf0Zx_yF7Iw/CNR_TEST.zip?download&psid=1 [following]\n",
            "--2019-05-23 18:28:37--  https://mwrg1q.am.files.1drv.com/y4mTnuWfZ5hZZknudLMLSY2NMzo6HafvsiG4tOryuxnnjTMzROf96dU7YQhmlB8mmY52Qpcneu_iS9HkNEDwZNgcuhVYS_XJdhqVxUlrhIHNA_Z0Tz9LhcQGUREGUbhNBh9n4NV6Hb8GXlo1HSWyi9516GK8JRqQFbMx2rRZhUpCIykpsBXrV_JRM5WI46MJ2MJ5nVUChVSCNzRf0Zx_yF7Iw/CNR_TEST.zip?download&psid=1\n",
            "Resolving mwrg1q.am.files.1drv.com (mwrg1q.am.files.1drv.com)... 13.107.42.12\n",
            "Connecting to mwrg1q.am.files.1drv.com (mwrg1q.am.files.1drv.com)|13.107.42.12|:443... connected.\n",
            "HTTP request sent, awaiting response... 200 OK\n",
            "Length: 437835825 (418M) [application/zip]\n",
            "Saving to: ‘download?cid=11F71A1654195330&resid=11F71A1654195330!45681&authkey=AIicdVtkBEkQgvU’\n",
            "\n",
            "download?cid=11F71A 100%[===================>] 417.55M  21.6MB/s    in 20s     \n",
            "\n",
            "2019-05-23 18:28:58 (20.7 MB/s) - ‘download?cid=11F71A1654195330&resid=11F71A1654195330!45681&authkey=AIicdVtkBEkQgvU’ saved [437835825/437835825]\n",
            "\n"
          ],
          "name": "stdout"
        }
      ]
    },
    {
      "cell_type": "code",
      "metadata": {
        "id": "r9TSFzB66SSz",
        "colab_type": "code",
        "colab": {}
      },
      "source": [
        "!unzip -q \"download?cid=11F71A1654195330&resid=11F71A1654195330!45681&authkey=AIicdVtkBEkQgvU\""
      ],
      "execution_count": 0,
      "outputs": []
    },
    {
      "cell_type": "code",
      "metadata": {
        "id": "nPT62hzg6Sl6",
        "colab_type": "code",
        "outputId": "e9f67539-b74f-4ea6-9c4f-a7d5efd0fe94",
        "colab": {
          "base_uri": "https://localhost:8080/",
          "height": 51
        }
      },
      "source": [
        "temp = os.path.join(\"./CNR\", 'test')\n",
        "\n",
        "test_generator = test_datagen.flow_from_directory(\n",
        "        temp,\n",
        "        target_size=(60, 60),\n",
        "        batch_size=200,\n",
        "        class_mode='binary'\n",
        "        )\n",
        "\n",
        "\n",
        "\n",
        "model.evaluate_generator(test_generator,20)"
      ],
      "execution_count": 12,
      "outputs": [
        {
          "output_type": "stream",
          "text": [
            "Found 144965 images belonging to 2 classes.\n"
          ],
          "name": "stdout"
        },
        {
          "output_type": "execute_result",
          "data": {
            "text/plain": [
              "[0.4603415742516518, 0.891499999165535]"
            ]
          },
          "metadata": {
            "tags": []
          },
          "execution_count": 12
        }
      ]
    },
    {
      "cell_type": "code",
      "metadata": {
        "id": "GvJWagy4YvZM",
        "colab_type": "code",
        "outputId": "c890f851-cec9-4cfb-8d16-133494c94bfe",
        "colab": {
          "base_uri": "https://localhost:8080/",
          "height": 34
        }
      },
      "source": [
        "import sys\n",
        "import numpy\n",
        "numpy.set_printoptions(threshold=sys.maxsize)\n",
        "\n",
        "\n",
        "result = model.predict_generator(test_generator,20)\n",
        "print(result[1])"
      ],
      "execution_count": 13,
      "outputs": [
        {
          "output_type": "stream",
          "text": [
            "[0.00306463]\n"
          ],
          "name": "stdout"
        }
      ]
    },
    {
      "cell_type": "code",
      "metadata": {
        "id": "D9HaTDRDelTU",
        "colab_type": "code",
        "outputId": "18f128f5-3ba7-44b1-bece-fa8a20fb71d9",
        "colab": {
          "base_uri": "https://localhost:8080/",
          "height": 231
        }
      },
      "source": [
        "for i in range (0,128):\n",
        "    image = x_batch[i]\n",
        "    plt.imshow(image)\n",
        "    plt.show()\n",
        "    print(result[i])\n",
        "    print(y_batch[i])\n"
      ],
      "execution_count": 14,
      "outputs": [
        {
          "output_type": "error",
          "ename": "NameError",
          "evalue": "ignored",
          "traceback": [
            "\u001b[0;31m---------------------------------------------------------------------------\u001b[0m",
            "\u001b[0;31mNameError\u001b[0m                                 Traceback (most recent call last)",
            "\u001b[0;32m<ipython-input-14-481df27c128a>\u001b[0m in \u001b[0;36m<module>\u001b[0;34m()\u001b[0m\n\u001b[1;32m      1\u001b[0m \u001b[0;32mfor\u001b[0m \u001b[0mi\u001b[0m \u001b[0;32min\u001b[0m \u001b[0mrange\u001b[0m \u001b[0;34m(\u001b[0m\u001b[0;36m0\u001b[0m\u001b[0;34m,\u001b[0m\u001b[0;36m128\u001b[0m\u001b[0;34m)\u001b[0m\u001b[0;34m:\u001b[0m\u001b[0;34m\u001b[0m\u001b[0;34m\u001b[0m\u001b[0m\n\u001b[0;32m----> 2\u001b[0;31m     \u001b[0mimage\u001b[0m \u001b[0;34m=\u001b[0m \u001b[0mx_batch\u001b[0m\u001b[0;34m[\u001b[0m\u001b[0mi\u001b[0m\u001b[0;34m]\u001b[0m\u001b[0;34m\u001b[0m\u001b[0;34m\u001b[0m\u001b[0m\n\u001b[0m\u001b[1;32m      3\u001b[0m     \u001b[0mplt\u001b[0m\u001b[0;34m.\u001b[0m\u001b[0mimshow\u001b[0m\u001b[0;34m(\u001b[0m\u001b[0mimage\u001b[0m\u001b[0;34m)\u001b[0m\u001b[0;34m\u001b[0m\u001b[0;34m\u001b[0m\u001b[0m\n\u001b[1;32m      4\u001b[0m     \u001b[0mplt\u001b[0m\u001b[0;34m.\u001b[0m\u001b[0mshow\u001b[0m\u001b[0;34m(\u001b[0m\u001b[0;34m)\u001b[0m\u001b[0;34m\u001b[0m\u001b[0;34m\u001b[0m\u001b[0m\n\u001b[1;32m      5\u001b[0m     \u001b[0mprint\u001b[0m\u001b[0;34m(\u001b[0m\u001b[0mresult\u001b[0m\u001b[0;34m[\u001b[0m\u001b[0mi\u001b[0m\u001b[0;34m]\u001b[0m\u001b[0;34m)\u001b[0m\u001b[0;34m\u001b[0m\u001b[0;34m\u001b[0m\u001b[0m\n",
            "\u001b[0;31mNameError\u001b[0m: name 'x_batch' is not defined"
          ]
        }
      ]
    }
  ]
}