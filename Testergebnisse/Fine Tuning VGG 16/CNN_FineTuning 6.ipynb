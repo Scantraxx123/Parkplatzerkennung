{
  "nbformat": 4,
  "nbformat_minor": 0,
  "metadata": {
    "colab": {
      "name": "CNN_FineTuning.ipynb",
      "version": "0.3.2",
      "provenance": [],
      "collapsed_sections": []
    },
    "kernelspec": {
      "name": "python3",
      "display_name": "Python 3"
    },
    "accelerator": "GPU"
  },
  "cells": [
    {
      "cell_type": "code",
      "metadata": {
        "id": "Ph1ajJJj4xdm",
        "colab_type": "code",
        "outputId": "786d0563-b356-4dc7-bd43-25e021880019",
        "colab": {
          "base_uri": "https://localhost:8080/",
          "height": 309
        }
      },
      "source": [
        "!wget --no-check-certificate \"https://onedrive.live.com/download?cid=11F71A1654195330&resid=11F71A1654195330%2145897&authkey=AAQKZ0FhjjfkhcM\""
      ],
      "execution_count": 64,
      "outputs": [
        {
          "output_type": "stream",
          "text": [
            "--2019-05-23 19:21:58--  https://onedrive.live.com/download?cid=11F71A1654195330&resid=11F71A1654195330%2145897&authkey=AAQKZ0FhjjfkhcM\n",
            "Resolving onedrive.live.com (onedrive.live.com)... 13.107.42.13\n",
            "Connecting to onedrive.live.com (onedrive.live.com)|13.107.42.13|:443... connected.\n",
            "HTTP request sent, awaiting response... 302 Found\n",
            "Location: https://mmrwyw.am.files.1drv.com/y4m2Z6P9k70vEzj432tFCg2HBOh5DRaoP13xPQ7nMTqGUj_sabWdBlXU-oaEGjVOFEjizfjOqBJjSnJ7VSDDjFYxGWxy2uO8sUmdS6lajtGsBTFpGNa0QetEH7P1dXPZj5CGKLQ7T1-htrKeQbcgyq5Mxi7jbSS2sozX7HFn4Mw4LxNEzZHimYEOOm2MOcg1tpw313zPzFAA_z3SaLUdVMeOw/50k_All_Parking_Spaces.zip?download&psid=1 [following]\n",
            "--2019-05-23 19:22:00--  https://mmrwyw.am.files.1drv.com/y4m2Z6P9k70vEzj432tFCg2HBOh5DRaoP13xPQ7nMTqGUj_sabWdBlXU-oaEGjVOFEjizfjOqBJjSnJ7VSDDjFYxGWxy2uO8sUmdS6lajtGsBTFpGNa0QetEH7P1dXPZj5CGKLQ7T1-htrKeQbcgyq5Mxi7jbSS2sozX7HFn4Mw4LxNEzZHimYEOOm2MOcg1tpw313zPzFAA_z3SaLUdVMeOw/50k_All_Parking_Spaces.zip?download&psid=1\n",
            "Resolving mmrwyw.am.files.1drv.com (mmrwyw.am.files.1drv.com)... 13.107.42.12\n",
            "Connecting to mmrwyw.am.files.1drv.com (mmrwyw.am.files.1drv.com)|13.107.42.12|:443... connected.\n",
            "HTTP request sent, awaiting response... 200 OK\n",
            "Length: 119482291 (114M) [application/zip]\n",
            "Saving to: ‘download?cid=11F71A1654195330&resid=11F71A1654195330!45897&authkey=AAQKZ0FhjjfkhcM.8’\n",
            "\n",
            "download?cid=11F71A 100%[===================>] 113.95M  11.7MB/s    in 9.7s    \n",
            "\n",
            "2019-05-23 19:22:10 (11.7 MB/s) - ‘download?cid=11F71A1654195330&resid=11F71A1654195330!45897&authkey=AAQKZ0FhjjfkhcM.8’ saved [119482291/119482291]\n",
            "\n"
          ],
          "name": "stdout"
        }
      ]
    },
    {
      "cell_type": "code",
      "metadata": {
        "id": "WXmqE-_Am56h",
        "colab_type": "code",
        "outputId": "f16c4168-a104-4495-9969-e4ed46af9f0a",
        "colab": {
          "base_uri": "https://localhost:8080/",
          "height": 34
        }
      },
      "source": [
        "!unzip -q \"download?cid=11F71A1654195330&resid=11F71A1654195330!45897&authkey=AAQKZ0FhjjfkhcM\""
      ],
      "execution_count": 65,
      "outputs": [
        {
          "output_type": "stream",
          "text": [
            "replace 50k_All_Parking_Spaces/test/Empty/O_2015-11-16_07.10_C01_185.jpg? [y]es, [n]o, [A]ll, [N]one, [r]ename: N\n"
          ],
          "name": "stdout"
        }
      ]
    },
    {
      "cell_type": "code",
      "metadata": {
        "id": "pegnwZsqKd0Q",
        "colab_type": "code",
        "outputId": "0df00960-1fba-4154-ddce-87b1ee65097d",
        "colab": {
          "base_uri": "https://localhost:8080/",
          "height": 782
        }
      },
      "source": [
        "import numpy as np\n",
        "import tensorflow as tf\n",
        "from keras import models\n",
        "from keras import layers\n",
        "import os\n",
        "from keras import applications\n",
        "\n",
        "\n",
        "IMG_HEIGHT = 60\n",
        "IMG_WIDTH = 60\n",
        "\n",
        "vgg16_model = applications.vgg16.VGG16(weights='imagenet', include_top=False, input_shape=(60, 60, 3))\n",
        "\n",
        "vgg16_model.summary()\n",
        "\n",
        "model = models.Sequential()\n",
        "for layer in vgg16_model.layers:\n",
        "  model.add(layer)"
      ],
      "execution_count": 66,
      "outputs": [
        {
          "output_type": "stream",
          "text": [
            "_________________________________________________________________\n",
            "Layer (type)                 Output Shape              Param #   \n",
            "=================================================================\n",
            "input_8 (InputLayer)         (None, 60, 60, 3)         0         \n",
            "_________________________________________________________________\n",
            "block1_conv1 (Conv2D)        (None, 60, 60, 64)        1792      \n",
            "_________________________________________________________________\n",
            "block1_conv2 (Conv2D)        (None, 60, 60, 64)        36928     \n",
            "_________________________________________________________________\n",
            "block1_pool (MaxPooling2D)   (None, 30, 30, 64)        0         \n",
            "_________________________________________________________________\n",
            "block2_conv1 (Conv2D)        (None, 30, 30, 128)       73856     \n",
            "_________________________________________________________________\n",
            "block2_conv2 (Conv2D)        (None, 30, 30, 128)       147584    \n",
            "_________________________________________________________________\n",
            "block2_pool (MaxPooling2D)   (None, 15, 15, 128)       0         \n",
            "_________________________________________________________________\n",
            "block3_conv1 (Conv2D)        (None, 15, 15, 256)       295168    \n",
            "_________________________________________________________________\n",
            "block3_conv2 (Conv2D)        (None, 15, 15, 256)       590080    \n",
            "_________________________________________________________________\n",
            "block3_conv3 (Conv2D)        (None, 15, 15, 256)       590080    \n",
            "_________________________________________________________________\n",
            "block3_pool (MaxPooling2D)   (None, 7, 7, 256)         0         \n",
            "_________________________________________________________________\n",
            "block4_conv1 (Conv2D)        (None, 7, 7, 512)         1180160   \n",
            "_________________________________________________________________\n",
            "block4_conv2 (Conv2D)        (None, 7, 7, 512)         2359808   \n",
            "_________________________________________________________________\n",
            "block4_conv3 (Conv2D)        (None, 7, 7, 512)         2359808   \n",
            "_________________________________________________________________\n",
            "block4_pool (MaxPooling2D)   (None, 3, 3, 512)         0         \n",
            "_________________________________________________________________\n",
            "block5_conv1 (Conv2D)        (None, 3, 3, 512)         2359808   \n",
            "_________________________________________________________________\n",
            "block5_conv2 (Conv2D)        (None, 3, 3, 512)         2359808   \n",
            "_________________________________________________________________\n",
            "block5_conv3 (Conv2D)        (None, 3, 3, 512)         2359808   \n",
            "_________________________________________________________________\n",
            "block5_pool (MaxPooling2D)   (None, 1, 1, 512)         0         \n",
            "=================================================================\n",
            "Total params: 14,714,688\n",
            "Trainable params: 14,714,688\n",
            "Non-trainable params: 0\n",
            "_________________________________________________________________\n"
          ],
          "name": "stdout"
        }
      ]
    },
    {
      "cell_type": "code",
      "metadata": {
        "id": "l0aa_Wz6LHyH",
        "colab_type": "code",
        "colab": {}
      },
      "source": [
        "for layer in model.layers:\n",
        "  layer.trainable = False\n",
        "  \n",
        "model.add(layers.Flatten(input_shape=model.output_shape[1:]))\n",
        "model.add(layers.Dense(256, use_bias=False))\n",
        "model.add(layers.BatchNormalization())\n",
        "model.add(layers.Activation('relu'))\n",
        "\n",
        "model.add(layers.Dense(128, use_bias=False))\n",
        "model.add(layers.BatchNormalization())\n",
        "model.add(layers.Activation('relu'))\n",
        "\n",
        "model.add(layers.Dense(64, use_bias=False))\n",
        "model.add(layers.BatchNormalization())\n",
        "model.add(layers.Activation('relu'))\n",
        "\n",
        "model.add(layers.Dense(1, activation='sigmoid'))\n",
        "\n",
        "model.compile(loss='binary_crossentropy',\n",
        "              optimizer='adam',\n",
        "              metrics=['accuracy'])"
      ],
      "execution_count": 0,
      "outputs": []
    },
    {
      "cell_type": "code",
      "metadata": {
        "id": "5ITCp6wrNLPo",
        "colab_type": "code",
        "outputId": "e9ec932c-3f14-45f3-e159-bb1b45b839f5",
        "colab": {
          "base_uri": "https://localhost:8080/",
          "height": 1122
        }
      },
      "source": [
        "model.summary()"
      ],
      "execution_count": 68,
      "outputs": [
        {
          "output_type": "stream",
          "text": [
            "_________________________________________________________________\n",
            "Layer (type)                 Output Shape              Param #   \n",
            "=================================================================\n",
            "block1_conv1 (Conv2D)        (None, 60, 60, 64)        1792      \n",
            "_________________________________________________________________\n",
            "block1_conv2 (Conv2D)        (None, 60, 60, 64)        36928     \n",
            "_________________________________________________________________\n",
            "block1_pool (MaxPooling2D)   (None, 30, 30, 64)        0         \n",
            "_________________________________________________________________\n",
            "block2_conv1 (Conv2D)        (None, 30, 30, 128)       73856     \n",
            "_________________________________________________________________\n",
            "block2_conv2 (Conv2D)        (None, 30, 30, 128)       147584    \n",
            "_________________________________________________________________\n",
            "block2_pool (MaxPooling2D)   (None, 15, 15, 128)       0         \n",
            "_________________________________________________________________\n",
            "block3_conv1 (Conv2D)        (None, 15, 15, 256)       295168    \n",
            "_________________________________________________________________\n",
            "block3_conv2 (Conv2D)        (None, 15, 15, 256)       590080    \n",
            "_________________________________________________________________\n",
            "block3_conv3 (Conv2D)        (None, 15, 15, 256)       590080    \n",
            "_________________________________________________________________\n",
            "block3_pool (MaxPooling2D)   (None, 7, 7, 256)         0         \n",
            "_________________________________________________________________\n",
            "block4_conv1 (Conv2D)        (None, 7, 7, 512)         1180160   \n",
            "_________________________________________________________________\n",
            "block4_conv2 (Conv2D)        (None, 7, 7, 512)         2359808   \n",
            "_________________________________________________________________\n",
            "block4_conv3 (Conv2D)        (None, 7, 7, 512)         2359808   \n",
            "_________________________________________________________________\n",
            "block4_pool (MaxPooling2D)   (None, 3, 3, 512)         0         \n",
            "_________________________________________________________________\n",
            "block5_conv1 (Conv2D)        (None, 3, 3, 512)         2359808   \n",
            "_________________________________________________________________\n",
            "block5_conv2 (Conv2D)        (None, 3, 3, 512)         2359808   \n",
            "_________________________________________________________________\n",
            "block5_conv3 (Conv2D)        (None, 3, 3, 512)         2359808   \n",
            "_________________________________________________________________\n",
            "block5_pool (MaxPooling2D)   (None, 1, 1, 512)         0         \n",
            "_________________________________________________________________\n",
            "flatten_11 (Flatten)         (None, 512)               0         \n",
            "_________________________________________________________________\n",
            "dense_24 (Dense)             (None, 256)               131072    \n",
            "_________________________________________________________________\n",
            "batch_normalization_6 (Batch (None, 256)               1024      \n",
            "_________________________________________________________________\n",
            "activation_1 (Activation)    (None, 256)               0         \n",
            "_________________________________________________________________\n",
            "dense_25 (Dense)             (None, 128)               32768     \n",
            "_________________________________________________________________\n",
            "batch_normalization_7 (Batch (None, 128)               512       \n",
            "_________________________________________________________________\n",
            "activation_2 (Activation)    (None, 128)               0         \n",
            "_________________________________________________________________\n",
            "dense_26 (Dense)             (None, 64)                8192      \n",
            "_________________________________________________________________\n",
            "batch_normalization_8 (Batch (None, 64)                256       \n",
            "_________________________________________________________________\n",
            "activation_3 (Activation)    (None, 64)                0         \n",
            "_________________________________________________________________\n",
            "dense_27 (Dense)             (None, 1)                 65        \n",
            "=================================================================\n",
            "Total params: 14,888,577\n",
            "Trainable params: 172,993\n",
            "Non-trainable params: 14,715,584\n",
            "_________________________________________________________________\n"
          ],
          "name": "stdout"
        }
      ]
    },
    {
      "cell_type": "code",
      "metadata": {
        "id": "55W-wvJ5NeJu",
        "colab_type": "code",
        "outputId": "6c748ad8-e930-4b1b-a161-691598ad052a",
        "colab": {
          "base_uri": "https://localhost:8080/",
          "height": 51
        }
      },
      "source": [
        "from keras.preprocessing.image import ImageDataGenerator\n",
        "\n",
        "data_dir = './50k_All_Parking_Spaces'\n",
        "\n",
        "base_train_dir = os.path.join(data_dir, 'train')\n",
        "base_val_dir = os.path.join(data_dir, 'test')\n",
        "\n",
        "\n",
        "train_datagen = ImageDataGenerator(rescale=1./255)\n",
        "\n",
        "val_datagen = ImageDataGenerator(rescale=1./255)\n",
        "\n",
        "train_generator = train_datagen.flow_from_directory(\n",
        "        base_train_dir,\n",
        "        target_size=(IMG_SIZE_HEIGTH, IMG_SIZE_WIDTH),\n",
        "        batch_size=128,\n",
        "        class_mode='binary'\n",
        "        )\n",
        "\n",
        "validation_generator = val_datagen.flow_from_directory(\n",
        "        base_val_dir,\n",
        "        target_size=(IMG_SIZE_HEIGTH, IMG_SIZE_WIDTH),\n",
        "        batch_size=128,\n",
        "        class_mode='binary'\n",
        "        )"
      ],
      "execution_count": 69,
      "outputs": [
        {
          "output_type": "stream",
          "text": [
            "Found 43448 images belonging to 2 classes.\n",
            "Found 9999 images belonging to 2 classes.\n"
          ],
          "name": "stdout"
        }
      ]
    },
    {
      "cell_type": "code",
      "metadata": {
        "id": "AcGUMH_eSt_o",
        "colab_type": "code",
        "outputId": "33600c5a-05e2-4d31-b53d-2613ded2ad32",
        "colab": {
          "base_uri": "https://localhost:8080/",
          "height": 765
        }
      },
      "source": [
        "from keras. callbacks import EarlyStopping\n",
        "\n",
        "es = EarlyStopping(monitor='val_acc', patience=10, restore_best_weights=True)\n",
        "\n",
        "history = model.fit_generator(\n",
        "                              train_generator,\n",
        "                              steps_per_epoch=339, \n",
        "                              epochs=100,\n",
        "                              validation_data=validation_generator,\n",
        "                              validation_steps=78, \n",
        "                              callbacks=[es]\n",
        "                             )"
      ],
      "execution_count": 70,
      "outputs": [
        {
          "output_type": "stream",
          "text": [
            "Epoch 1/100\n",
            "339/339 [==============================] - 64s 188ms/step - loss: 0.0462 - acc: 0.9849 - val_loss: 0.2669 - val_acc: 0.8945\n",
            "Epoch 2/100\n",
            "339/339 [==============================] - 62s 182ms/step - loss: 0.0094 - acc: 0.9976 - val_loss: 0.2986 - val_acc: 0.9149\n",
            "Epoch 3/100\n",
            "339/339 [==============================] - 62s 184ms/step - loss: 0.0069 - acc: 0.9981 - val_loss: 0.4747 - val_acc: 0.8885\n",
            "Epoch 4/100\n",
            "339/339 [==============================] - 63s 185ms/step - loss: 0.0048 - acc: 0.9984 - val_loss: 0.3360 - val_acc: 0.9207\n",
            "Epoch 5/100\n",
            "339/339 [==============================] - 61s 180ms/step - loss: 0.0043 - acc: 0.9986 - val_loss: 0.3797 - val_acc: 0.9165\n",
            "Epoch 6/100\n",
            "339/339 [==============================] - 60s 177ms/step - loss: 0.0042 - acc: 0.9987 - val_loss: 0.4910 - val_acc: 0.8952\n",
            "Epoch 7/100\n",
            "339/339 [==============================] - 61s 181ms/step - loss: 0.0029 - acc: 0.9992 - val_loss: 0.3381 - val_acc: 0.9129\n",
            "Epoch 8/100\n",
            "339/339 [==============================] - 62s 182ms/step - loss: 0.0030 - acc: 0.9991 - val_loss: 0.4487 - val_acc: 0.9159\n",
            "Epoch 9/100\n",
            "339/339 [==============================] - 64s 188ms/step - loss: 0.0028 - acc: 0.9991 - val_loss: 0.5165 - val_acc: 0.9059\n",
            "Epoch 10/100\n",
            "339/339 [==============================] - 64s 190ms/step - loss: 0.0025 - acc: 0.9992 - val_loss: 0.6261 - val_acc: 0.8980\n",
            "Epoch 11/100\n",
            "339/339 [==============================] - 61s 181ms/step - loss: 0.0024 - acc: 0.9993 - val_loss: 0.4248 - val_acc: 0.9198\n",
            "Epoch 12/100\n",
            "339/339 [==============================] - 61s 181ms/step - loss: 0.0025 - acc: 0.9992 - val_loss: 0.3159 - val_acc: 0.9358\n",
            "Epoch 13/100\n",
            "339/339 [==============================] - 64s 188ms/step - loss: 0.0012 - acc: 0.9996 - val_loss: 0.4340 - val_acc: 0.9192\n",
            "Epoch 14/100\n",
            "339/339 [==============================] - 63s 185ms/step - loss: 0.0025 - acc: 0.9993 - val_loss: 0.6587 - val_acc: 0.8906\n",
            "Epoch 15/100\n",
            "339/339 [==============================] - 62s 184ms/step - loss: 0.0015 - acc: 0.9996 - val_loss: 0.4553 - val_acc: 0.9119\n",
            "Epoch 16/100\n",
            "339/339 [==============================] - 65s 190ms/step - loss: 0.0023 - acc: 0.9992 - val_loss: 0.4285 - val_acc: 0.9187\n",
            "Epoch 17/100\n",
            "339/339 [==============================] - 65s 191ms/step - loss: 0.0015 - acc: 0.9995 - val_loss: 0.8169 - val_acc: 0.8797\n",
            "Epoch 18/100\n",
            "339/339 [==============================] - 65s 193ms/step - loss: 0.0018 - acc: 0.9994 - val_loss: 0.6054 - val_acc: 0.9052\n",
            "Epoch 19/100\n",
            "339/339 [==============================] - 65s 192ms/step - loss: 0.0021 - acc: 0.9994 - val_loss: 0.6007 - val_acc: 0.8982\n",
            "Epoch 20/100\n",
            "339/339 [==============================] - 66s 194ms/step - loss: 0.0012 - acc: 0.9996 - val_loss: 0.8513 - val_acc: 0.8753\n",
            "Epoch 21/100\n",
            "339/339 [==============================] - 65s 192ms/step - loss: 0.0018 - acc: 0.9994 - val_loss: 0.7546 - val_acc: 0.8814\n",
            "Epoch 22/100\n",
            "339/339 [==============================] - 67s 197ms/step - loss: 9.8354e-04 - acc: 0.9997 - val_loss: 0.7211 - val_acc: 0.8901\n"
          ],
          "name": "stdout"
        }
      ]
    },
    {
      "cell_type": "code",
      "metadata": {
        "id": "eQjNZuRHS2V9",
        "colab_type": "code",
        "outputId": "13e7570d-26a2-42c8-d673-532126956889",
        "colab": {
          "base_uri": "https://localhost:8080/",
          "height": 295
        }
      },
      "source": [
        "%matplotlib inline  \n",
        "import matplotlib.pyplot as plt\n",
        "\n",
        "acc = history.history['acc']\n",
        "val_acc = history.history['val_acc']\n",
        "loss = history.history['loss']\n",
        "val_loss = history.history['val_loss']\n",
        "epochs = range(1, len(acc) + 1)\n",
        "# \"bo\" = Blauer Punkt\n",
        "plt.plot(epochs, acc, 'bo', label='Training Accuracy')\n",
        "# \"b\" = Blaue Linie\n",
        "plt.plot(epochs, val_acc, 'b', label='Validation Accuracy')\n",
        "plt.title('Training and validation accuracy')\n",
        "plt.xlabel('Epochs')\n",
        "plt.ylabel('Accuracy')\n",
        "plt.legend()\n",
        "\n",
        "plt.show()"
      ],
      "execution_count": 71,
      "outputs": [
        {
          "output_type": "display_data",
          "data": {
            "image/png": "[encoded data removed]",
            "text/plain": [
              "<Figure size 432x288 with 1 Axes>"
            ]
          },
          "metadata": {
            "tags": []
          }
        }
      ]
    }
  ]
}