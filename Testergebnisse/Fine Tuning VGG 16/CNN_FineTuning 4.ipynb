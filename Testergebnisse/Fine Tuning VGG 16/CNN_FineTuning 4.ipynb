{
  "nbformat": 4,
  "nbformat_minor": 0,
  "metadata": {
    "colab": {
      "name": "CNN_FineTuning.ipynb",
      "version": "0.3.2",
      "provenance": [],
      "collapsed_sections": []
    },
    "kernelspec": {
      "name": "python3",
      "display_name": "Python 3"
    },
    "accelerator": "GPU"
  },
  "cells": [
    {
      "cell_type": "code",
      "metadata": {
        "id": "Ph1ajJJj4xdm",
        "colab_type": "code",
        "outputId": "2be91efa-3a1c-4c49-a16d-fe3013be2797",
        "colab": {
          "base_uri": "https://localhost:8080/",
          "height": 309
        }
      },
      "source": [
        "!wget --no-check-certificate \"https://onedrive.live.com/download?cid=11F71A1654195330&resid=11F71A1654195330%2145897&authkey=AAQKZ0FhjjfkhcM\""
      ],
      "execution_count": 48,
      "outputs": [
        {
          "output_type": "stream",
          "text": [
            "--2019-05-23 18:32:10--  https://onedrive.live.com/download?cid=11F71A1654195330&resid=11F71A1654195330%2145897&authkey=AAQKZ0FhjjfkhcM\n",
            "Resolving onedrive.live.com (onedrive.live.com)... 13.107.42.13\n",
            "Connecting to onedrive.live.com (onedrive.live.com)|13.107.42.13|:443... connected.\n",
            "HTTP request sent, awaiting response... 302 Found\n",
            "Location: https://mmrwyw.am.files.1drv.com/y4mRomcwnskaZ_e1rUjr8rIwtOLRg-QQZUdqXdB3iZxUSWphInDs5P8T6LNxs1xIkqnkxF6JtGCcRQtQMrKdRIxS0h2fFq_SAMh6cXl_xdWKqpXKQTS-vff7cmy2qMGYzZd_WuXdF8wMfLfGnMFVbrgitO_-pEVQV_i7DAsUfx8DIufpFL5Q3XfYk_942OOudw3C68WzX73U3_yKXA-ck3WjQ/50k_All_Parking_Spaces.zip?download&psid=1 [following]\n",
            "--2019-05-23 18:32:10--  https://mmrwyw.am.files.1drv.com/y4mRomcwnskaZ_e1rUjr8rIwtOLRg-QQZUdqXdB3iZxUSWphInDs5P8T6LNxs1xIkqnkxF6JtGCcRQtQMrKdRIxS0h2fFq_SAMh6cXl_xdWKqpXKQTS-vff7cmy2qMGYzZd_WuXdF8wMfLfGnMFVbrgitO_-pEVQV_i7DAsUfx8DIufpFL5Q3XfYk_942OOudw3C68WzX73U3_yKXA-ck3WjQ/50k_All_Parking_Spaces.zip?download&psid=1\n",
            "Resolving mmrwyw.am.files.1drv.com (mmrwyw.am.files.1drv.com)... 13.107.42.12\n",
            "Connecting to mmrwyw.am.files.1drv.com (mmrwyw.am.files.1drv.com)|13.107.42.12|:443... connected.\n",
            "HTTP request sent, awaiting response... 200 OK\n",
            "Length: 119482291 (114M) [application/zip]\n",
            "Saving to: ‘download?cid=11F71A1654195330&resid=11F71A1654195330!45897&authkey=AAQKZ0FhjjfkhcM.6’\n",
            "\n",
            "download?cid=11F71A 100%[===================>] 113.95M  11.9MB/s    in 9.6s    \n",
            "\n",
            "2019-05-23 18:32:21 (11.9 MB/s) - ‘download?cid=11F71A1654195330&resid=11F71A1654195330!45897&authkey=AAQKZ0FhjjfkhcM.6’ saved [119482291/119482291]\n",
            "\n"
          ],
          "name": "stdout"
        }
      ]
    },
    {
      "cell_type": "code",
      "metadata": {
        "id": "WXmqE-_Am56h",
        "colab_type": "code",
        "outputId": "11595bf5-66fc-490c-a364-093f18737ee5",
        "colab": {
          "base_uri": "https://localhost:8080/",
          "height": 34
        }
      },
      "source": [
        "!unzip -q \"download?cid=11F71A1654195330&resid=11F71A1654195330!45897&authkey=AAQKZ0FhjjfkhcM\""
      ],
      "execution_count": 49,
      "outputs": [
        {
          "output_type": "stream",
          "text": [
            "replace 50k_All_Parking_Spaces/test/Empty/O_2015-11-16_07.10_C01_185.jpg? [y]es, [n]o, [A]ll, [N]one, [r]ename: N\n"
          ],
          "name": "stdout"
        }
      ]
    },
    {
      "cell_type": "code",
      "metadata": {
        "id": "pegnwZsqKd0Q",
        "colab_type": "code",
        "outputId": "d6812990-730e-48bb-96f3-e7be033185a9",
        "colab": {
          "base_uri": "https://localhost:8080/",
          "height": 782
        }
      },
      "source": [
        "import numpy as np\n",
        "import tensorflow as tf\n",
        "from keras import models\n",
        "from keras import layers\n",
        "import os\n",
        "from keras import applications\n",
        "\n",
        "\n",
        "IMG_HEIGHT = 60\n",
        "IMG_WIDTH = 60\n",
        "\n",
        "vgg16_model = applications.vgg16.VGG16(weights='imagenet', include_top=False, input_shape=(60, 60, 3))\n",
        "\n",
        "vgg16_model.summary()\n",
        "\n",
        "model = models.Sequential()\n",
        "for layer in vgg16_model.layers:\n",
        "  model.add(layer)"
      ],
      "execution_count": 50,
      "outputs": [
        {
          "output_type": "stream",
          "text": [
            "_________________________________________________________________\n",
            "Layer (type)                 Output Shape              Param #   \n",
            "=================================================================\n",
            "input_6 (InputLayer)         (None, 60, 60, 3)         0         \n",
            "_________________________________________________________________\n",
            "block1_conv1 (Conv2D)        (None, 60, 60, 64)        1792      \n",
            "_________________________________________________________________\n",
            "block1_conv2 (Conv2D)        (None, 60, 60, 64)        36928     \n",
            "_________________________________________________________________\n",
            "block1_pool (MaxPooling2D)   (None, 30, 30, 64)        0         \n",
            "_________________________________________________________________\n",
            "block2_conv1 (Conv2D)        (None, 30, 30, 128)       73856     \n",
            "_________________________________________________________________\n",
            "block2_conv2 (Conv2D)        (None, 30, 30, 128)       147584    \n",
            "_________________________________________________________________\n",
            "block2_pool (MaxPooling2D)   (None, 15, 15, 128)       0         \n",
            "_________________________________________________________________\n",
            "block3_conv1 (Conv2D)        (None, 15, 15, 256)       295168    \n",
            "_________________________________________________________________\n",
            "block3_conv2 (Conv2D)        (None, 15, 15, 256)       590080    \n",
            "_________________________________________________________________\n",
            "block3_conv3 (Conv2D)        (None, 15, 15, 256)       590080    \n",
            "_________________________________________________________________\n",
            "block3_pool (MaxPooling2D)   (None, 7, 7, 256)         0         \n",
            "_________________________________________________________________\n",
            "block4_conv1 (Conv2D)        (None, 7, 7, 512)         1180160   \n",
            "_________________________________________________________________\n",
            "block4_conv2 (Conv2D)        (None, 7, 7, 512)         2359808   \n",
            "_________________________________________________________________\n",
            "block4_conv3 (Conv2D)        (None, 7, 7, 512)         2359808   \n",
            "_________________________________________________________________\n",
            "block4_pool (MaxPooling2D)   (None, 3, 3, 512)         0         \n",
            "_________________________________________________________________\n",
            "block5_conv1 (Conv2D)        (None, 3, 3, 512)         2359808   \n",
            "_________________________________________________________________\n",
            "block5_conv2 (Conv2D)        (None, 3, 3, 512)         2359808   \n",
            "_________________________________________________________________\n",
            "block5_conv3 (Conv2D)        (None, 3, 3, 512)         2359808   \n",
            "_________________________________________________________________\n",
            "block5_pool (MaxPooling2D)   (None, 1, 1, 512)         0         \n",
            "=================================================================\n",
            "Total params: 14,714,688\n",
            "Trainable params: 14,714,688\n",
            "Non-trainable params: 0\n",
            "_________________________________________________________________\n"
          ],
          "name": "stdout"
        }
      ]
    },
    {
      "cell_type": "code",
      "metadata": {
        "id": "l0aa_Wz6LHyH",
        "colab_type": "code",
        "colab": {}
      },
      "source": [
        "for layer in model.layers:\n",
        "  layer.trainable = False\n",
        "  \n",
        "model.add(layers.Flatten(input_shape=model.output_shape[1:]))\n",
        "model.add(layers.Dense(256, activation='relu', use_bias=False))\n",
        "model.add(layers.BatchNormalization())\n",
        "model.add(layers.Dense(128, activation='relu', use_bias=False))\n",
        "model.add(layers.BatchNormalization())\n",
        "model.add(layers.Dense(1, activation='sigmoid'))\n",
        "\n",
        "model.compile(loss='binary_crossentropy',\n",
        "              optimizer='adam',\n",
        "              metrics=['accuracy'])"
      ],
      "execution_count": 0,
      "outputs": []
    },
    {
      "cell_type": "code",
      "metadata": {
        "id": "5ITCp6wrNLPo",
        "colab_type": "code",
        "outputId": "20f780a2-45de-4d9f-a9b3-b2af78238ffb",
        "colab": {
          "base_uri": "https://localhost:8080/",
          "height": 952
        }
      },
      "source": [
        "model.summary()"
      ],
      "execution_count": 52,
      "outputs": [
        {
          "output_type": "stream",
          "text": [
            "_________________________________________________________________\n",
            "Layer (type)                 Output Shape              Param #   \n",
            "=================================================================\n",
            "block1_conv1 (Conv2D)        (None, 60, 60, 64)        1792      \n",
            "_________________________________________________________________\n",
            "block1_conv2 (Conv2D)        (None, 60, 60, 64)        36928     \n",
            "_________________________________________________________________\n",
            "block1_pool (MaxPooling2D)   (None, 30, 30, 64)        0         \n",
            "_________________________________________________________________\n",
            "block2_conv1 (Conv2D)        (None, 30, 30, 128)       73856     \n",
            "_________________________________________________________________\n",
            "block2_conv2 (Conv2D)        (None, 30, 30, 128)       147584    \n",
            "_________________________________________________________________\n",
            "block2_pool (MaxPooling2D)   (None, 15, 15, 128)       0         \n",
            "_________________________________________________________________\n",
            "block3_conv1 (Conv2D)        (None, 15, 15, 256)       295168    \n",
            "_________________________________________________________________\n",
            "block3_conv2 (Conv2D)        (None, 15, 15, 256)       590080    \n",
            "_________________________________________________________________\n",
            "block3_conv3 (Conv2D)        (None, 15, 15, 256)       590080    \n",
            "_________________________________________________________________\n",
            "block3_pool (MaxPooling2D)   (None, 7, 7, 256)         0         \n",
            "_________________________________________________________________\n",
            "block4_conv1 (Conv2D)        (None, 7, 7, 512)         1180160   \n",
            "_________________________________________________________________\n",
            "block4_conv2 (Conv2D)        (None, 7, 7, 512)         2359808   \n",
            "_________________________________________________________________\n",
            "block4_conv3 (Conv2D)        (None, 7, 7, 512)         2359808   \n",
            "_________________________________________________________________\n",
            "block4_pool (MaxPooling2D)   (None, 3, 3, 512)         0         \n",
            "_________________________________________________________________\n",
            "block5_conv1 (Conv2D)        (None, 3, 3, 512)         2359808   \n",
            "_________________________________________________________________\n",
            "block5_conv2 (Conv2D)        (None, 3, 3, 512)         2359808   \n",
            "_________________________________________________________________\n",
            "block5_conv3 (Conv2D)        (None, 3, 3, 512)         2359808   \n",
            "_________________________________________________________________\n",
            "block5_pool (MaxPooling2D)   (None, 1, 1, 512)         0         \n",
            "_________________________________________________________________\n",
            "flatten_9 (Flatten)          (None, 512)               0         \n",
            "_________________________________________________________________\n",
            "dense_17 (Dense)             (None, 256)               131072    \n",
            "_________________________________________________________________\n",
            "batch_normalization_1 (Batch (None, 256)               1024      \n",
            "_________________________________________________________________\n",
            "dense_18 (Dense)             (None, 128)               32768     \n",
            "_________________________________________________________________\n",
            "batch_normalization_2 (Batch (None, 128)               512       \n",
            "_________________________________________________________________\n",
            "dense_19 (Dense)             (None, 1)                 129       \n",
            "=================================================================\n",
            "Total params: 14,880,193\n",
            "Trainable params: 164,737\n",
            "Non-trainable params: 14,715,456\n",
            "_________________________________________________________________\n"
          ],
          "name": "stdout"
        }
      ]
    },
    {
      "cell_type": "code",
      "metadata": {
        "id": "55W-wvJ5NeJu",
        "colab_type": "code",
        "outputId": "528809ca-1dd3-43ea-c03c-072aca472a63",
        "colab": {
          "base_uri": "https://localhost:8080/",
          "height": 51
        }
      },
      "source": [
        "from keras.preprocessing.image import ImageDataGenerator\n",
        "\n",
        "data_dir = './50k_All_Parking_Spaces'\n",
        "\n",
        "base_train_dir = os.path.join(data_dir, 'train')\n",
        "base_val_dir = os.path.join(data_dir, 'test')\n",
        "\n",
        "\n",
        "train_datagen = ImageDataGenerator(rescale=1./255)\n",
        "\n",
        "val_datagen = ImageDataGenerator(rescale=1./255)\n",
        "\n",
        "train_generator = train_datagen.flow_from_directory(\n",
        "        base_train_dir,\n",
        "        target_size=(IMG_SIZE_HEIGTH, IMG_SIZE_WIDTH),\n",
        "        batch_size=128,\n",
        "        class_mode='binary'\n",
        "        )\n",
        "\n",
        "validation_generator = val_datagen.flow_from_directory(\n",
        "        base_val_dir,\n",
        "        target_size=(IMG_SIZE_HEIGTH, IMG_SIZE_WIDTH),\n",
        "        batch_size=128,\n",
        "        class_mode='binary'\n",
        "        )"
      ],
      "execution_count": 53,
      "outputs": [
        {
          "output_type": "stream",
          "text": [
            "Found 43448 images belonging to 2 classes.\n",
            "Found 9999 images belonging to 2 classes.\n"
          ],
          "name": "stdout"
        }
      ]
    },
    {
      "cell_type": "code",
      "metadata": {
        "id": "AcGUMH_eSt_o",
        "colab_type": "code",
        "outputId": "125af24d-2195-4dcd-c0b2-48a55f73d7a1",
        "colab": {
          "base_uri": "https://localhost:8080/",
          "height": 561
        }
      },
      "source": [
        "from keras. callbacks import EarlyStopping\n",
        "\n",
        "es = EarlyStopping(monitor='val_acc', patience=10, restore_best_weights=True)\n",
        "\n",
        "history = model.fit_generator(\n",
        "                              train_generator,\n",
        "                              steps_per_epoch=339, \n",
        "                              epochs=100,\n",
        "                              validation_data=validation_generator,\n",
        "                              validation_steps=78, \n",
        "                              callbacks=[es]\n",
        "                             )"
      ],
      "execution_count": 54,
      "outputs": [
        {
          "output_type": "stream",
          "text": [
            "Epoch 1/100\n",
            "339/339 [==============================] - 68s 201ms/step - loss: 0.0329 - acc: 0.9882 - val_loss: 0.2121 - val_acc: 0.9303\n",
            "Epoch 2/100\n",
            "339/339 [==============================] - 65s 192ms/step - loss: 0.0119 - acc: 0.9964 - val_loss: 0.3715 - val_acc: 0.8946\n",
            "Epoch 3/100\n",
            "339/339 [==============================] - 63s 187ms/step - loss: 0.0095 - acc: 0.9972 - val_loss: 0.3724 - val_acc: 0.9046\n",
            "Epoch 4/100\n",
            "339/339 [==============================] - 64s 187ms/step - loss: 0.0065 - acc: 0.9981 - val_loss: 0.4382 - val_acc: 0.8930\n",
            "Epoch 5/100\n",
            "339/339 [==============================] - 64s 189ms/step - loss: 0.0066 - acc: 0.9978 - val_loss: 0.3917 - val_acc: 0.9197\n",
            "Epoch 6/100\n",
            "339/339 [==============================] - 63s 186ms/step - loss: 0.0058 - acc: 0.9983 - val_loss: 0.2709 - val_acc: 0.9357\n",
            "Epoch 7/100\n",
            "339/339 [==============================] - 64s 188ms/step - loss: 0.0042 - acc: 0.9986 - val_loss: 0.3731 - val_acc: 0.9195\n",
            "Epoch 8/100\n",
            "339/339 [==============================] - 65s 191ms/step - loss: 0.0027 - acc: 0.9992 - val_loss: 0.7048 - val_acc: 0.8820\n",
            "Epoch 9/100\n",
            "339/339 [==============================] - 64s 189ms/step - loss: 0.0024 - acc: 0.9993 - val_loss: 0.4843 - val_acc: 0.9042\n",
            "Epoch 10/100\n",
            "339/339 [==============================] - 64s 188ms/step - loss: 0.0047 - acc: 0.9986 - val_loss: 0.3069 - val_acc: 0.9270\n",
            "Epoch 11/100\n",
            "339/339 [==============================] - 64s 190ms/step - loss: 0.0042 - acc: 0.9988 - val_loss: 0.4828 - val_acc: 0.9157\n",
            "Epoch 12/100\n",
            "339/339 [==============================] - 63s 186ms/step - loss: 0.0025 - acc: 0.9992 - val_loss: 0.7935 - val_acc: 0.8064\n",
            "Epoch 13/100\n",
            "339/339 [==============================] - 62s 184ms/step - loss: 0.0017 - acc: 0.9994 - val_loss: 0.5547 - val_acc: 0.9053\n",
            "Epoch 14/100\n",
            "339/339 [==============================] - 64s 188ms/step - loss: 0.0021 - acc: 0.9992 - val_loss: 0.6458 - val_acc: 0.8933\n",
            "Epoch 15/100\n",
            "339/339 [==============================] - 61s 181ms/step - loss: 0.0041 - acc: 0.9988 - val_loss: 1.3546 - val_acc: 0.8302\n",
            "Epoch 16/100\n",
            "339/339 [==============================] - 61s 179ms/step - loss: 0.0025 - acc: 0.9993 - val_loss: 0.6489 - val_acc: 0.8934\n"
          ],
          "name": "stdout"
        }
      ]
    },
    {
      "cell_type": "code",
      "metadata": {
        "id": "eQjNZuRHS2V9",
        "colab_type": "code",
        "outputId": "980efbec-74c3-42b5-8d2e-7e002bbf1026",
        "colab": {
          "base_uri": "https://localhost:8080/",
          "height": 295
        }
      },
      "source": [
        "%matplotlib inline  \n",
        "import matplotlib.pyplot as plt\n",
        "\n",
        "acc = history.history['acc']\n",
        "val_acc = history.history['val_acc']\n",
        "loss = history.history['loss']\n",
        "val_loss = history.history['val_loss']\n",
        "epochs = range(1, len(acc) + 1)\n",
        "# \"bo\" = Blauer Punkt\n",
        "plt.plot(epochs, acc, 'bo', label='Training Accuracy')\n",
        "# \"b\" = Blaue Linie\n",
        "plt.plot(epochs, val_acc, 'b', label='Validation Accuracy')\n",
        "plt.title('Training and validation accuracy')\n",
        "plt.xlabel('Epochs')\n",
        "plt.ylabel('Accuracy')\n",
        "plt.legend()\n",
        "\n",
        "plt.show()"
      ],
      "execution_count": 55,
      "outputs": [
        {
          "output_type": "display_data",
          "data": {
            "image/png": "[encoded data removed]",
            "text/plain": [
              "<Figure size 432x288 with 1 Axes>"
            ]
          },
          "metadata": {
            "tags": []
          }
        }
      ]
    }
  ]
}