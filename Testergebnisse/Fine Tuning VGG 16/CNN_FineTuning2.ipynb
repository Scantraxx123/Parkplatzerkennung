{
  "nbformat": 4,
  "nbformat_minor": 0,
  "metadata": {
    "colab": {
      "name": "CNN_FineTuning.ipynb",
      "version": "0.3.2",
      "provenance": [],
      "collapsed_sections": []
    },
    "kernelspec": {
      "name": "python3",
      "display_name": "Python 3"
    },
    "accelerator": "GPU"
  },
  "cells": [
    {
      "cell_type": "code",
      "metadata": {
        "id": "Ph1ajJJj4xdm",
        "colab_type": "code",
        "outputId": "6a449bb0-c778-4e46-f4f1-94809ef96d51",
        "colab": {
          "base_uri": "https://localhost:8080/",
          "height": 309
        }
      },
      "source": [
        "!wget --no-check-certificate \"https://onedrive.live.com/download?cid=11F71A1654195330&resid=11F71A1654195330%2145897&authkey=AAQKZ0FhjjfkhcM\""
      ],
      "execution_count": 28,
      "outputs": [
        {
          "output_type": "stream",
          "text": [
            "--2019-05-23 17:21:46--  https://onedrive.live.com/download?cid=11F71A1654195330&resid=11F71A1654195330%2145897&authkey=AAQKZ0FhjjfkhcM\n",
            "Resolving onedrive.live.com (onedrive.live.com)... 13.107.42.13\n",
            "Connecting to onedrive.live.com (onedrive.live.com)|13.107.42.13|:443... connected.\n",
            "HTTP request sent, awaiting response... 302 Found\n",
            "Location: https://mmrwyw.am.files.1drv.com/y4mPSrz2LMwXoP_hCSriUYf-ea4v7fvzaP5iubVhS9xupnT7lT_7ZdOJmfZJQjSk8HNP6zP2fhh2JYPxx1EmPRlFjc8FdoN6paSo-DHdpCdS5xrkJntaL5xVQvrXcu3e45nL5AbbeZBRGj9PlM_0Cxf4-K1cmjIIgnXF4HcgQMKbnvIkh1hoZgVvSStpkITvHQZ-1zYB5xSYoUtAIv0UFXTTQ/50k_All_Parking_Spaces.zip?download&psid=1 [following]\n",
            "--2019-05-23 17:21:48--  https://mmrwyw.am.files.1drv.com/y4mPSrz2LMwXoP_hCSriUYf-ea4v7fvzaP5iubVhS9xupnT7lT_7ZdOJmfZJQjSk8HNP6zP2fhh2JYPxx1EmPRlFjc8FdoN6paSo-DHdpCdS5xrkJntaL5xVQvrXcu3e45nL5AbbeZBRGj9PlM_0Cxf4-K1cmjIIgnXF4HcgQMKbnvIkh1hoZgVvSStpkITvHQZ-1zYB5xSYoUtAIv0UFXTTQ/50k_All_Parking_Spaces.zip?download&psid=1\n",
            "Resolving mmrwyw.am.files.1drv.com (mmrwyw.am.files.1drv.com)... 13.107.42.12\n",
            "Connecting to mmrwyw.am.files.1drv.com (mmrwyw.am.files.1drv.com)|13.107.42.12|:443... connected.\n",
            "HTTP request sent, awaiting response... 200 OK\n",
            "Length: 119482291 (114M) [application/zip]\n",
            "Saving to: ‘download?cid=11F71A1654195330&resid=11F71A1654195330!45897&authkey=AAQKZ0FhjjfkhcM.4’\n",
            "\n",
            "download?cid=11F71A 100%[===================>] 113.95M  14.2MB/s    in 8.0s    \n",
            "\n",
            "2019-05-23 17:21:57 (14.2 MB/s) - ‘download?cid=11F71A1654195330&resid=11F71A1654195330!45897&authkey=AAQKZ0FhjjfkhcM.4’ saved [119482291/119482291]\n",
            "\n"
          ],
          "name": "stdout"
        }
      ]
    },
    {
      "cell_type": "code",
      "metadata": {
        "id": "WXmqE-_Am56h",
        "colab_type": "code",
        "outputId": "c3b4d69c-34aa-4fe1-c249-2d5d058b1679",
        "colab": {
          "base_uri": "https://localhost:8080/",
          "height": 34
        }
      },
      "source": [
        "!unzip -q \"download?cid=11F71A1654195330&resid=11F71A1654195330!45897&authkey=AAQKZ0FhjjfkhcM\""
      ],
      "execution_count": 29,
      "outputs": [
        {
          "output_type": "stream",
          "text": [
            "replace 50k_All_Parking_Spaces/test/Empty/O_2015-11-16_07.10_C01_185.jpg? [y]es, [n]o, [A]ll, [N]one, [r]ename: N\n"
          ],
          "name": "stdout"
        }
      ]
    },
    {
      "cell_type": "code",
      "metadata": {
        "id": "pegnwZsqKd0Q",
        "colab_type": "code",
        "outputId": "b5a0b197-8651-4f4d-f928-734dc2b53ac1",
        "colab": {
          "base_uri": "https://localhost:8080/",
          "height": 782
        }
      },
      "source": [
        "import numpy as np\n",
        "import tensorflow as tf\n",
        "from keras import models\n",
        "from keras import layers\n",
        "import os\n",
        "from keras import applications\n",
        "\n",
        "\n",
        "IMG_HEIGHT = 60\n",
        "IMG_WIDTH = 60\n",
        "\n",
        "vgg16_model = applications.vgg16.VGG16(weights='imagenet', include_top=False, input_shape=(60, 60, 3))\n",
        "\n",
        "vgg16_model.summary()\n",
        "\n",
        "model = models.Sequential()\n",
        "for layer in vgg16_model.layers:\n",
        "  model.add(layer)"
      ],
      "execution_count": 30,
      "outputs": [
        {
          "output_type": "stream",
          "text": [
            "_________________________________________________________________\n",
            "Layer (type)                 Output Shape              Param #   \n",
            "=================================================================\n",
            "input_4 (InputLayer)         (None, 60, 60, 3)         0         \n",
            "_________________________________________________________________\n",
            "block1_conv1 (Conv2D)        (None, 60, 60, 64)        1792      \n",
            "_________________________________________________________________\n",
            "block1_conv2 (Conv2D)        (None, 60, 60, 64)        36928     \n",
            "_________________________________________________________________\n",
            "block1_pool (MaxPooling2D)   (None, 30, 30, 64)        0         \n",
            "_________________________________________________________________\n",
            "block2_conv1 (Conv2D)        (None, 30, 30, 128)       73856     \n",
            "_________________________________________________________________\n",
            "block2_conv2 (Conv2D)        (None, 30, 30, 128)       147584    \n",
            "_________________________________________________________________\n",
            "block2_pool (MaxPooling2D)   (None, 15, 15, 128)       0         \n",
            "_________________________________________________________________\n",
            "block3_conv1 (Conv2D)        (None, 15, 15, 256)       295168    \n",
            "_________________________________________________________________\n",
            "block3_conv2 (Conv2D)        (None, 15, 15, 256)       590080    \n",
            "_________________________________________________________________\n",
            "block3_conv3 (Conv2D)        (None, 15, 15, 256)       590080    \n",
            "_________________________________________________________________\n",
            "block3_pool (MaxPooling2D)   (None, 7, 7, 256)         0         \n",
            "_________________________________________________________________\n",
            "block4_conv1 (Conv2D)        (None, 7, 7, 512)         1180160   \n",
            "_________________________________________________________________\n",
            "block4_conv2 (Conv2D)        (None, 7, 7, 512)         2359808   \n",
            "_________________________________________________________________\n",
            "block4_conv3 (Conv2D)        (None, 7, 7, 512)         2359808   \n",
            "_________________________________________________________________\n",
            "block4_pool (MaxPooling2D)   (None, 3, 3, 512)         0         \n",
            "_________________________________________________________________\n",
            "block5_conv1 (Conv2D)        (None, 3, 3, 512)         2359808   \n",
            "_________________________________________________________________\n",
            "block5_conv2 (Conv2D)        (None, 3, 3, 512)         2359808   \n",
            "_________________________________________________________________\n",
            "block5_conv3 (Conv2D)        (None, 3, 3, 512)         2359808   \n",
            "_________________________________________________________________\n",
            "block5_pool (MaxPooling2D)   (None, 1, 1, 512)         0         \n",
            "=================================================================\n",
            "Total params: 14,714,688\n",
            "Trainable params: 14,714,688\n",
            "Non-trainable params: 0\n",
            "_________________________________________________________________\n"
          ],
          "name": "stdout"
        }
      ]
    },
    {
      "cell_type": "code",
      "metadata": {
        "id": "l0aa_Wz6LHyH",
        "colab_type": "code",
        "colab": {}
      },
      "source": [
        "for layer in model.layers:\n",
        "  layer.trainable = False\n",
        "  \n",
        "model.add(layers.Flatten(input_shape=model.output_shape[1:]))\n",
        "model.add(layers.Dense(256, activation='relu'))\n",
        "model.add(layers.Dense(128, activation='relu'))\n",
        "model.add(layers.Dense(1, activation='sigmoid'))\n",
        "\n",
        "model.compile(loss='binary_crossentropy',\n",
        "              optimizer='adam',\n",
        "              metrics=['accuracy'])"
      ],
      "execution_count": 0,
      "outputs": []
    },
    {
      "cell_type": "code",
      "metadata": {
        "id": "5ITCp6wrNLPo",
        "colab_type": "code",
        "outputId": "aad08957-3def-4e75-9b1f-3a6fb3bdee6c",
        "colab": {
          "base_uri": "https://localhost:8080/",
          "height": 884
        }
      },
      "source": [
        "model.summary()"
      ],
      "execution_count": 32,
      "outputs": [
        {
          "output_type": "stream",
          "text": [
            "_________________________________________________________________\n",
            "Layer (type)                 Output Shape              Param #   \n",
            "=================================================================\n",
            "block1_conv1 (Conv2D)        (None, 60, 60, 64)        1792      \n",
            "_________________________________________________________________\n",
            "block1_conv2 (Conv2D)        (None, 60, 60, 64)        36928     \n",
            "_________________________________________________________________\n",
            "block1_pool (MaxPooling2D)   (None, 30, 30, 64)        0         \n",
            "_________________________________________________________________\n",
            "block2_conv1 (Conv2D)        (None, 30, 30, 128)       73856     \n",
            "_________________________________________________________________\n",
            "block2_conv2 (Conv2D)        (None, 30, 30, 128)       147584    \n",
            "_________________________________________________________________\n",
            "block2_pool (MaxPooling2D)   (None, 15, 15, 128)       0         \n",
            "_________________________________________________________________\n",
            "block3_conv1 (Conv2D)        (None, 15, 15, 256)       295168    \n",
            "_________________________________________________________________\n",
            "block3_conv2 (Conv2D)        (None, 15, 15, 256)       590080    \n",
            "_________________________________________________________________\n",
            "block3_conv3 (Conv2D)        (None, 15, 15, 256)       590080    \n",
            "_________________________________________________________________\n",
            "block3_pool (MaxPooling2D)   (None, 7, 7, 256)         0         \n",
            "_________________________________________________________________\n",
            "block4_conv1 (Conv2D)        (None, 7, 7, 512)         1180160   \n",
            "_________________________________________________________________\n",
            "block4_conv2 (Conv2D)        (None, 7, 7, 512)         2359808   \n",
            "_________________________________________________________________\n",
            "block4_conv3 (Conv2D)        (None, 7, 7, 512)         2359808   \n",
            "_________________________________________________________________\n",
            "block4_pool (MaxPooling2D)   (None, 3, 3, 512)         0         \n",
            "_________________________________________________________________\n",
            "block5_conv1 (Conv2D)        (None, 3, 3, 512)         2359808   \n",
            "_________________________________________________________________\n",
            "block5_conv2 (Conv2D)        (None, 3, 3, 512)         2359808   \n",
            "_________________________________________________________________\n",
            "block5_conv3 (Conv2D)        (None, 3, 3, 512)         2359808   \n",
            "_________________________________________________________________\n",
            "block5_pool (MaxPooling2D)   (None, 1, 1, 512)         0         \n",
            "_________________________________________________________________\n",
            "flatten_5 (Flatten)          (None, 512)               0         \n",
            "_________________________________________________________________\n",
            "dense_10 (Dense)             (None, 256)               131328    \n",
            "_________________________________________________________________\n",
            "dense_11 (Dense)             (None, 128)               32896     \n",
            "_________________________________________________________________\n",
            "dense_12 (Dense)             (None, 1)                 129       \n",
            "=================================================================\n",
            "Total params: 14,879,041\n",
            "Trainable params: 164,353\n",
            "Non-trainable params: 14,714,688\n",
            "_________________________________________________________________\n"
          ],
          "name": "stdout"
        }
      ]
    },
    {
      "cell_type": "code",
      "metadata": {
        "id": "55W-wvJ5NeJu",
        "colab_type": "code",
        "outputId": "d1ef79fc-3775-40d7-b19a-f5f61dce1a4b",
        "colab": {
          "base_uri": "https://localhost:8080/",
          "height": 51
        }
      },
      "source": [
        "from keras.preprocessing.image import ImageDataGenerator\n",
        "\n",
        "data_dir = './50k_All_Parking_Spaces'\n",
        "\n",
        "base_train_dir = os.path.join(data_dir, 'train')\n",
        "base_val_dir = os.path.join(data_dir, 'test')\n",
        "\n",
        "\n",
        "train_datagen = ImageDataGenerator(rescale=1./255)\n",
        "\n",
        "val_datagen = ImageDataGenerator(rescale=1./255)\n",
        "\n",
        "train_generator = train_datagen.flow_from_directory(\n",
        "        base_train_dir,\n",
        "        target_size=(IMG_SIZE_HEIGTH, IMG_SIZE_WIDTH),\n",
        "        batch_size=128,\n",
        "        class_mode='binary'\n",
        "        )\n",
        "\n",
        "validation_generator = val_datagen.flow_from_directory(\n",
        "        base_val_dir,\n",
        "        target_size=(IMG_SIZE_HEIGTH, IMG_SIZE_WIDTH),\n",
        "        batch_size=128,\n",
        "        class_mode='binary'\n",
        "        )"
      ],
      "execution_count": 33,
      "outputs": [
        {
          "output_type": "stream",
          "text": [
            "Found 43448 images belonging to 2 classes.\n",
            "Found 9999 images belonging to 2 classes.\n"
          ],
          "name": "stdout"
        }
      ]
    },
    {
      "cell_type": "code",
      "metadata": {
        "id": "AcGUMH_eSt_o",
        "colab_type": "code",
        "outputId": "5671a8ba-4331-4bc9-ccc2-fce9c03be3f5",
        "colab": {
          "base_uri": "https://localhost:8080/",
          "height": 459
        }
      },
      "source": [
        "from keras. callbacks import EarlyStopping\n",
        "\n",
        "es = EarlyStopping(monitor='val_acc', patience=10, restore_best_weights=True)\n",
        "\n",
        "history = model.fit_generator(\n",
        "                              train_generator,\n",
        "                              steps_per_epoch=339, \n",
        "                              epochs=100,\n",
        "                              validation_data=validation_generator,\n",
        "                              validation_steps=78, \n",
        "                              callbacks=[es]\n",
        "                             )"
      ],
      "execution_count": 36,
      "outputs": [
        {
          "output_type": "stream",
          "text": [
            "Epoch 1/100\n",
            "339/339 [==============================] - 64s 190ms/step - loss: 0.0092 - acc: 0.9969 - val_loss: 0.2874 - val_acc: 0.9219\n",
            "Epoch 2/100\n",
            "339/339 [==============================] - 63s 186ms/step - loss: 0.0068 - acc: 0.9980 - val_loss: 0.5051 - val_acc: 0.8904\n",
            "Epoch 3/100\n",
            "339/339 [==============================] - 63s 185ms/step - loss: 0.0048 - acc: 0.9984 - val_loss: 0.3256 - val_acc: 0.9274\n",
            "Epoch 4/100\n",
            "339/339 [==============================] - 62s 184ms/step - loss: 0.0040 - acc: 0.9989 - val_loss: 0.4838 - val_acc: 0.9029\n",
            "Epoch 5/100\n",
            "339/339 [==============================] - 63s 185ms/step - loss: 0.0033 - acc: 0.9989 - val_loss: 0.5990 - val_acc: 0.8976\n",
            "Epoch 6/100\n",
            "339/339 [==============================] - 63s 186ms/step - loss: 0.0027 - acc: 0.9990 - val_loss: 0.5208 - val_acc: 0.9053\n",
            "Epoch 7/100\n",
            "339/339 [==============================] - 63s 186ms/step - loss: 0.0035 - acc: 0.9988 - val_loss: 0.5243 - val_acc: 0.8958\n",
            "Epoch 8/100\n",
            "339/339 [==============================] - 64s 190ms/step - loss: 0.0027 - acc: 0.9991 - val_loss: 0.4036 - val_acc: 0.9230\n",
            "Epoch 9/100\n",
            "339/339 [==============================] - 64s 188ms/step - loss: 0.0029 - acc: 0.9991 - val_loss: 0.6915 - val_acc: 0.8890\n",
            "Epoch 10/100\n",
            "339/339 [==============================] - 63s 187ms/step - loss: 0.0030 - acc: 0.9990 - val_loss: 0.5428 - val_acc: 0.9063\n",
            "Epoch 11/100\n",
            "339/339 [==============================] - 63s 185ms/step - loss: 0.0020 - acc: 0.9993 - val_loss: 0.7903 - val_acc: 0.8866\n",
            "Epoch 12/100\n",
            "339/339 [==============================] - 63s 187ms/step - loss: 0.0025 - acc: 0.9992 - val_loss: 0.4835 - val_acc: 0.9171\n",
            "Epoch 13/100\n",
            "339/339 [==============================] - 63s 186ms/step - loss: 0.0020 - acc: 0.9993 - val_loss: 0.4929 - val_acc: 0.9127\n"
          ],
          "name": "stdout"
        }
      ]
    },
    {
      "cell_type": "code",
      "metadata": {
        "id": "eQjNZuRHS2V9",
        "colab_type": "code",
        "outputId": "60e6d753-24b1-4a07-dd01-cfa6136e1884",
        "colab": {
          "base_uri": "https://localhost:8080/",
          "height": 295
        }
      },
      "source": [
        "%matplotlib inline  \n",
        "import matplotlib.pyplot as plt\n",
        "\n",
        "acc = history.history['acc']\n",
        "val_acc = history.history['val_acc']\n",
        "loss = history.history['loss']\n",
        "val_loss = history.history['val_loss']\n",
        "epochs = range(1, len(acc) + 1)\n",
        "# \"bo\" = Blauer Punkt\n",
        "plt.plot(epochs, acc, 'bo', label='Training Accuracy')\n",
        "# \"b\" = Blaue Linie\n",
        "plt.plot(epochs, val_acc, 'b', label='Validation Accuracy')\n",
        "plt.title('Training and validation accuracy')\n",
        "plt.xlabel('Epochs')\n",
        "plt.ylabel('Accuracy')\n",
        "plt.legend()\n",
        "\n",
        "plt.show()"
      ],
      "execution_count": 37,
      "outputs": [
        {
          "output_type": "display_data",
          "data": {
            "image/png": "[encoded data removed]",
            "text/plain": [
              "<Figure size 432x288 with 1 Axes>"
            ]
          },
          "metadata": {
            "tags": []
          }
        }
      ]
    }
  ]
}