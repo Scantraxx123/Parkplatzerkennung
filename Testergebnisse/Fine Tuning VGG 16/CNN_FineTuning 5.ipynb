{
  "nbformat": 4,
  "nbformat_minor": 0,
  "metadata": {
    "colab": {
      "name": "CNN_FineTuning.ipynb",
      "version": "0.3.2",
      "provenance": [],
      "collapsed_sections": []
    },
    "kernelspec": {
      "name": "python3",
      "display_name": "Python 3"
    },
    "accelerator": "GPU"
  },
  "cells": [
    {
      "cell_type": "code",
      "metadata": {
        "id": "Ph1ajJJj4xdm",
        "colab_type": "code",
        "outputId": "b40cb80b-9025-47dc-86fe-e3faed980e32",
        "colab": {
          "base_uri": "https://localhost:8080/",
          "height": 309
        }
      },
      "source": [
        "!wget --no-check-certificate \"https://onedrive.live.com/download?cid=11F71A1654195330&resid=11F71A1654195330%2145897&authkey=AAQKZ0FhjjfkhcM\""
      ],
      "execution_count": 56,
      "outputs": [
        {
          "output_type": "stream",
          "text": [
            "--2019-05-23 18:58:35--  https://onedrive.live.com/download?cid=11F71A1654195330&resid=11F71A1654195330%2145897&authkey=AAQKZ0FhjjfkhcM\n",
            "Resolving onedrive.live.com (onedrive.live.com)... 13.107.42.13\n",
            "Connecting to onedrive.live.com (onedrive.live.com)|13.107.42.13|:443... connected.\n",
            "HTTP request sent, awaiting response... 302 Found\n",
            "Location: https://mmrwyw.am.files.1drv.com/y4mQWbnrg4EfUVZ97gn5M0yGgFcfUyqQSp8sO0ZHF6aGtHTy_zk_H5HRhnWniNqu8wa2LwoNMuHaWkt0QyqBj33dw11Nsv2j8fBv48bkphfMxV5Uo0mVM3uZ_28TOpUuhy0uWlcQQs7YPPNMTYNvU4NsQOLUQOA43KG1YGva0eqroCbT9AkSO3nVCLXwdJYNqy_QOrlMvTDNQ5X6KYe5W0GtQ/50k_All_Parking_Spaces.zip?download&psid=1 [following]\n",
            "--2019-05-23 18:58:36--  https://mmrwyw.am.files.1drv.com/y4mQWbnrg4EfUVZ97gn5M0yGgFcfUyqQSp8sO0ZHF6aGtHTy_zk_H5HRhnWniNqu8wa2LwoNMuHaWkt0QyqBj33dw11Nsv2j8fBv48bkphfMxV5Uo0mVM3uZ_28TOpUuhy0uWlcQQs7YPPNMTYNvU4NsQOLUQOA43KG1YGva0eqroCbT9AkSO3nVCLXwdJYNqy_QOrlMvTDNQ5X6KYe5W0GtQ/50k_All_Parking_Spaces.zip?download&psid=1\n",
            "Resolving mmrwyw.am.files.1drv.com (mmrwyw.am.files.1drv.com)... 13.107.42.12\n",
            "Connecting to mmrwyw.am.files.1drv.com (mmrwyw.am.files.1drv.com)|13.107.42.12|:443... connected.\n",
            "HTTP request sent, awaiting response... 200 OK\n",
            "Length: 119482291 (114M) [application/zip]\n",
            "Saving to: ‘download?cid=11F71A1654195330&resid=11F71A1654195330!45897&authkey=AAQKZ0FhjjfkhcM.7’\n",
            "\n",
            "download?cid=11F71A 100%[===================>] 113.95M  11.1MB/s    in 10s     \n",
            "\n",
            "2019-05-23 18:58:48 (11.1 MB/s) - ‘download?cid=11F71A1654195330&resid=11F71A1654195330!45897&authkey=AAQKZ0FhjjfkhcM.7’ saved [119482291/119482291]\n",
            "\n"
          ],
          "name": "stdout"
        }
      ]
    },
    {
      "cell_type": "code",
      "metadata": {
        "id": "WXmqE-_Am56h",
        "colab_type": "code",
        "outputId": "f9609e8a-2fac-4a16-f279-ab98ca780ac8",
        "colab": {
          "base_uri": "https://localhost:8080/",
          "height": 34
        }
      },
      "source": [
        "!unzip -q \"download?cid=11F71A1654195330&resid=11F71A1654195330!45897&authkey=AAQKZ0FhjjfkhcM\""
      ],
      "execution_count": 57,
      "outputs": [
        {
          "output_type": "stream",
          "text": [
            "replace 50k_All_Parking_Spaces/test/Empty/O_2015-11-16_07.10_C01_185.jpg? [y]es, [n]o, [A]ll, [N]one, [r]ename: N\n"
          ],
          "name": "stdout"
        }
      ]
    },
    {
      "cell_type": "code",
      "metadata": {
        "id": "pegnwZsqKd0Q",
        "colab_type": "code",
        "outputId": "7304e952-d6aa-4d05-c4b3-29a1836b1892",
        "colab": {
          "base_uri": "https://localhost:8080/",
          "height": 782
        }
      },
      "source": [
        "import numpy as np\n",
        "import tensorflow as tf\n",
        "from keras import models\n",
        "from keras import layers\n",
        "import os\n",
        "from keras import applications\n",
        "\n",
        "\n",
        "IMG_HEIGHT = 60\n",
        "IMG_WIDTH = 60\n",
        "\n",
        "vgg16_model = applications.vgg16.VGG16(weights='imagenet', include_top=False, input_shape=(60, 60, 3))\n",
        "\n",
        "vgg16_model.summary()\n",
        "\n",
        "model = models.Sequential()\n",
        "for layer in vgg16_model.layers:\n",
        "  model.add(layer)"
      ],
      "execution_count": 58,
      "outputs": [
        {
          "output_type": "stream",
          "text": [
            "_________________________________________________________________\n",
            "Layer (type)                 Output Shape              Param #   \n",
            "=================================================================\n",
            "input_7 (InputLayer)         (None, 60, 60, 3)         0         \n",
            "_________________________________________________________________\n",
            "block1_conv1 (Conv2D)        (None, 60, 60, 64)        1792      \n",
            "_________________________________________________________________\n",
            "block1_conv2 (Conv2D)        (None, 60, 60, 64)        36928     \n",
            "_________________________________________________________________\n",
            "block1_pool (MaxPooling2D)   (None, 30, 30, 64)        0         \n",
            "_________________________________________________________________\n",
            "block2_conv1 (Conv2D)        (None, 30, 30, 128)       73856     \n",
            "_________________________________________________________________\n",
            "block2_conv2 (Conv2D)        (None, 30, 30, 128)       147584    \n",
            "_________________________________________________________________\n",
            "block2_pool (MaxPooling2D)   (None, 15, 15, 128)       0         \n",
            "_________________________________________________________________\n",
            "block3_conv1 (Conv2D)        (None, 15, 15, 256)       295168    \n",
            "_________________________________________________________________\n",
            "block3_conv2 (Conv2D)        (None, 15, 15, 256)       590080    \n",
            "_________________________________________________________________\n",
            "block3_conv3 (Conv2D)        (None, 15, 15, 256)       590080    \n",
            "_________________________________________________________________\n",
            "block3_pool (MaxPooling2D)   (None, 7, 7, 256)         0         \n",
            "_________________________________________________________________\n",
            "block4_conv1 (Conv2D)        (None, 7, 7, 512)         1180160   \n",
            "_________________________________________________________________\n",
            "block4_conv2 (Conv2D)        (None, 7, 7, 512)         2359808   \n",
            "_________________________________________________________________\n",
            "block4_conv3 (Conv2D)        (None, 7, 7, 512)         2359808   \n",
            "_________________________________________________________________\n",
            "block4_pool (MaxPooling2D)   (None, 3, 3, 512)         0         \n",
            "_________________________________________________________________\n",
            "block5_conv1 (Conv2D)        (None, 3, 3, 512)         2359808   \n",
            "_________________________________________________________________\n",
            "block5_conv2 (Conv2D)        (None, 3, 3, 512)         2359808   \n",
            "_________________________________________________________________\n",
            "block5_conv3 (Conv2D)        (None, 3, 3, 512)         2359808   \n",
            "_________________________________________________________________\n",
            "block5_pool (MaxPooling2D)   (None, 1, 1, 512)         0         \n",
            "=================================================================\n",
            "Total params: 14,714,688\n",
            "Trainable params: 14,714,688\n",
            "Non-trainable params: 0\n",
            "_________________________________________________________________\n"
          ],
          "name": "stdout"
        }
      ]
    },
    {
      "cell_type": "code",
      "metadata": {
        "id": "l0aa_Wz6LHyH",
        "colab_type": "code",
        "colab": {}
      },
      "source": [
        "for layer in model.layers:\n",
        "  layer.trainable = False\n",
        "  \n",
        "model.add(layers.Flatten(input_shape=model.output_shape[1:]))\n",
        "model.add(layers.Dense(256, activation='relu', use_bias=False))\n",
        "model.add(layers.BatchNormalization())\n",
        "model.add(layers.Dense(128, activation='relu', use_bias=False))\n",
        "model.add(layers.BatchNormalization())\n",
        "model.add(layers.Dense(64, activation='relu', use_bias=False))\n",
        "model.add(layers.BatchNormalization())\n",
        "model.add(layers.Dense(1, activation='sigmoid'))\n",
        "\n",
        "model.compile(loss='binary_crossentropy',\n",
        "              optimizer='adam',\n",
        "              metrics=['accuracy'])"
      ],
      "execution_count": 0,
      "outputs": []
    },
    {
      "cell_type": "code",
      "metadata": {
        "id": "5ITCp6wrNLPo",
        "colab_type": "code",
        "outputId": "0dc51700-d522-4432-cbe4-7858fa6126c2",
        "colab": {
          "base_uri": "https://localhost:8080/",
          "height": 1020
        }
      },
      "source": [
        "model.summary()"
      ],
      "execution_count": 60,
      "outputs": [
        {
          "output_type": "stream",
          "text": [
            "_________________________________________________________________\n",
            "Layer (type)                 Output Shape              Param #   \n",
            "=================================================================\n",
            "block1_conv1 (Conv2D)        (None, 60, 60, 64)        1792      \n",
            "_________________________________________________________________\n",
            "block1_conv2 (Conv2D)        (None, 60, 60, 64)        36928     \n",
            "_________________________________________________________________\n",
            "block1_pool (MaxPooling2D)   (None, 30, 30, 64)        0         \n",
            "_________________________________________________________________\n",
            "block2_conv1 (Conv2D)        (None, 30, 30, 128)       73856     \n",
            "_________________________________________________________________\n",
            "block2_conv2 (Conv2D)        (None, 30, 30, 128)       147584    \n",
            "_________________________________________________________________\n",
            "block2_pool (MaxPooling2D)   (None, 15, 15, 128)       0         \n",
            "_________________________________________________________________\n",
            "block3_conv1 (Conv2D)        (None, 15, 15, 256)       295168    \n",
            "_________________________________________________________________\n",
            "block3_conv2 (Conv2D)        (None, 15, 15, 256)       590080    \n",
            "_________________________________________________________________\n",
            "block3_conv3 (Conv2D)        (None, 15, 15, 256)       590080    \n",
            "_________________________________________________________________\n",
            "block3_pool (MaxPooling2D)   (None, 7, 7, 256)         0         \n",
            "_________________________________________________________________\n",
            "block4_conv1 (Conv2D)        (None, 7, 7, 512)         1180160   \n",
            "_________________________________________________________________\n",
            "block4_conv2 (Conv2D)        (None, 7, 7, 512)         2359808   \n",
            "_________________________________________________________________\n",
            "block4_conv3 (Conv2D)        (None, 7, 7, 512)         2359808   \n",
            "_________________________________________________________________\n",
            "block4_pool (MaxPooling2D)   (None, 3, 3, 512)         0         \n",
            "_________________________________________________________________\n",
            "block5_conv1 (Conv2D)        (None, 3, 3, 512)         2359808   \n",
            "_________________________________________________________________\n",
            "block5_conv2 (Conv2D)        (None, 3, 3, 512)         2359808   \n",
            "_________________________________________________________________\n",
            "block5_conv3 (Conv2D)        (None, 3, 3, 512)         2359808   \n",
            "_________________________________________________________________\n",
            "block5_pool (MaxPooling2D)   (None, 1, 1, 512)         0         \n",
            "_________________________________________________________________\n",
            "flatten_10 (Flatten)         (None, 512)               0         \n",
            "_________________________________________________________________\n",
            "dense_20 (Dense)             (None, 256)               131072    \n",
            "_________________________________________________________________\n",
            "batch_normalization_3 (Batch (None, 256)               1024      \n",
            "_________________________________________________________________\n",
            "dense_21 (Dense)             (None, 128)               32768     \n",
            "_________________________________________________________________\n",
            "batch_normalization_4 (Batch (None, 128)               512       \n",
            "_________________________________________________________________\n",
            "dense_22 (Dense)             (None, 64)                8192      \n",
            "_________________________________________________________________\n",
            "batch_normalization_5 (Batch (None, 64)                256       \n",
            "_________________________________________________________________\n",
            "dense_23 (Dense)             (None, 1)                 65        \n",
            "=================================================================\n",
            "Total params: 14,888,577\n",
            "Trainable params: 172,993\n",
            "Non-trainable params: 14,715,584\n",
            "_________________________________________________________________\n"
          ],
          "name": "stdout"
        }
      ]
    },
    {
      "cell_type": "code",
      "metadata": {
        "id": "55W-wvJ5NeJu",
        "colab_type": "code",
        "outputId": "0eb7e0d6-7e49-4aeb-b6ff-e5d5eca444b1",
        "colab": {
          "base_uri": "https://localhost:8080/",
          "height": 51
        }
      },
      "source": [
        "from keras.preprocessing.image import ImageDataGenerator\n",
        "\n",
        "data_dir = './50k_All_Parking_Spaces'\n",
        "\n",
        "base_train_dir = os.path.join(data_dir, 'train')\n",
        "base_val_dir = os.path.join(data_dir, 'test')\n",
        "\n",
        "\n",
        "train_datagen = ImageDataGenerator(rescale=1./255)\n",
        "\n",
        "val_datagen = ImageDataGenerator(rescale=1./255)\n",
        "\n",
        "train_generator = train_datagen.flow_from_directory(\n",
        "        base_train_dir,\n",
        "        target_size=(IMG_SIZE_HEIGTH, IMG_SIZE_WIDTH),\n",
        "        batch_size=128,\n",
        "        class_mode='binary'\n",
        "        )\n",
        "\n",
        "validation_generator = val_datagen.flow_from_directory(\n",
        "        base_val_dir,\n",
        "        target_size=(IMG_SIZE_HEIGTH, IMG_SIZE_WIDTH),\n",
        "        batch_size=128,\n",
        "        class_mode='binary'\n",
        "        )"
      ],
      "execution_count": 61,
      "outputs": [
        {
          "output_type": "stream",
          "text": [
            "Found 43448 images belonging to 2 classes.\n",
            "Found 9999 images belonging to 2 classes.\n"
          ],
          "name": "stdout"
        }
      ]
    },
    {
      "cell_type": "code",
      "metadata": {
        "id": "AcGUMH_eSt_o",
        "colab_type": "code",
        "outputId": "c0552c88-c497-4a28-d7f4-cbed2d0d19a1",
        "colab": {
          "base_uri": "https://localhost:8080/",
          "height": 663
        }
      },
      "source": [
        "from keras. callbacks import EarlyStopping\n",
        "\n",
        "es = EarlyStopping(monitor='val_acc', patience=10, restore_best_weights=True)\n",
        "\n",
        "history = model.fit_generator(\n",
        "                              train_generator,\n",
        "                              steps_per_epoch=339, \n",
        "                              epochs=100,\n",
        "                              validation_data=validation_generator,\n",
        "                              validation_steps=78, \n",
        "                              callbacks=[es]\n",
        "                             )"
      ],
      "execution_count": 62,
      "outputs": [
        {
          "output_type": "stream",
          "text": [
            "Epoch 1/100\n",
            "339/339 [==============================] - 64s 190ms/step - loss: 0.0320 - acc: 0.9892 - val_loss: 0.4913 - val_acc: 0.8812\n",
            "Epoch 2/100\n",
            "339/339 [==============================] - 60s 177ms/step - loss: 0.0130 - acc: 0.9958 - val_loss: 0.3182 - val_acc: 0.9064\n",
            "Epoch 3/100\n",
            "339/339 [==============================] - 62s 182ms/step - loss: 0.0079 - acc: 0.9973 - val_loss: 0.5770 - val_acc: 0.8790\n",
            "Epoch 4/100\n",
            "339/339 [==============================] - 61s 181ms/step - loss: 0.0077 - acc: 0.9974 - val_loss: 0.7825 - val_acc: 0.8493\n",
            "Epoch 5/100\n",
            "339/339 [==============================] - 60s 178ms/step - loss: 0.0056 - acc: 0.9983 - val_loss: 0.6063 - val_acc: 0.8928\n",
            "Epoch 6/100\n",
            "339/339 [==============================] - 61s 179ms/step - loss: 0.0053 - acc: 0.9983 - val_loss: 0.3050 - val_acc: 0.9189\n",
            "Epoch 7/100\n",
            "339/339 [==============================] - 60s 178ms/step - loss: 0.0053 - acc: 0.9982 - val_loss: 0.2788 - val_acc: 0.9302\n",
            "Epoch 8/100\n",
            "339/339 [==============================] - 61s 179ms/step - loss: 0.0044 - acc: 0.9988 - val_loss: 0.6444 - val_acc: 0.8805\n",
            "Epoch 9/100\n",
            "339/339 [==============================] - 62s 183ms/step - loss: 0.0047 - acc: 0.9982 - val_loss: 0.3744 - val_acc: 0.9326\n",
            "Epoch 10/100\n",
            "339/339 [==============================] - 66s 194ms/step - loss: 0.0037 - acc: 0.9988 - val_loss: 0.3419 - val_acc: 0.9257\n",
            "Epoch 11/100\n",
            "339/339 [==============================] - 66s 195ms/step - loss: 0.0038 - acc: 0.9988 - val_loss: 0.6383 - val_acc: 0.8877\n",
            "Epoch 12/100\n",
            "339/339 [==============================] - 66s 193ms/step - loss: 0.0026 - acc: 0.9993 - val_loss: 0.5579 - val_acc: 0.9120\n",
            "Epoch 13/100\n",
            "339/339 [==============================] - 66s 194ms/step - loss: 0.0037 - acc: 0.9989 - val_loss: 0.3927 - val_acc: 0.9127\n",
            "Epoch 14/100\n",
            "339/339 [==============================] - 66s 194ms/step - loss: 0.0030 - acc: 0.9991 - val_loss: 0.4940 - val_acc: 0.9050\n",
            "Epoch 15/100\n",
            "339/339 [==============================] - 62s 183ms/step - loss: 0.0032 - acc: 0.9991 - val_loss: 0.7796 - val_acc: 0.8823\n",
            "Epoch 16/100\n",
            "339/339 [==============================] - 62s 182ms/step - loss: 0.0029 - acc: 0.9992 - val_loss: 0.4727 - val_acc: 0.9195\n",
            "Epoch 17/100\n",
            "339/339 [==============================] - 60s 178ms/step - loss: 0.0037 - acc: 0.9986 - val_loss: 0.3971 - val_acc: 0.9206\n",
            "Epoch 18/100\n",
            "339/339 [==============================] - 61s 178ms/step - loss: 0.0019 - acc: 0.9994 - val_loss: 0.4390 - val_acc: 0.9099\n",
            "Epoch 19/100\n",
            "339/339 [==============================] - 61s 180ms/step - loss: 0.0016 - acc: 0.9995 - val_loss: 0.5293 - val_acc: 0.9156\n"
          ],
          "name": "stdout"
        }
      ]
    },
    {
      "cell_type": "code",
      "metadata": {
        "id": "eQjNZuRHS2V9",
        "colab_type": "code",
        "outputId": "91bd1ce9-9d9d-4d7b-8d37-c21d5cce1adb",
        "colab": {
          "base_uri": "https://localhost:8080/",
          "height": 295
        }
      },
      "source": [
        "%matplotlib inline  \n",
        "import matplotlib.pyplot as plt\n",
        "\n",
        "acc = history.history['acc']\n",
        "val_acc = history.history['val_acc']\n",
        "loss = history.history['loss']\n",
        "val_loss = history.history['val_loss']\n",
        "epochs = range(1, len(acc) + 1)\n",
        "# \"bo\" = Blauer Punkt\n",
        "plt.plot(epochs, acc, 'bo', label='Training Accuracy')\n",
        "# \"b\" = Blaue Linie\n",
        "plt.plot(epochs, val_acc, 'b', label='Validation Accuracy')\n",
        "plt.title('Training and validation accuracy')\n",
        "plt.xlabel('Epochs')\n",
        "plt.ylabel('Accuracy')\n",
        "plt.legend()\n",
        "\n",
        "plt.show()"
      ],
      "execution_count": 63,
      "outputs": [
        {
          "output_type": "display_data",
          "data": {
            "image/png": "[encoded data removed]",
            "text/plain": [
              "<Figure size 432x288 with 1 Axes>"
            ]
          },
          "metadata": {
            "tags": []
          }
        }
      ]
    }
  ]
}