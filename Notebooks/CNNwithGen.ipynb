{
  "nbformat": 4,
  "nbformat_minor": 0,
  "metadata": {
    "colab": {
      "name": "CNNwithGen.ipynb",
      "version": "0.3.2",
      "provenance": [],
      "collapsed_sections": []
    },
    "language_info": {
      "codemirror_mode": {
        "name": "ipython",
        "version": 3
      },
      "file_extension": ".py",
      "mimetype": "text/x-python",
      "name": "python",
      "nbconvert_exporter": "python",
      "pygments_lexer": "ipython3",
      "version": "3.7.1"
    },
    "kernelspec": {
      "display_name": "Python 3",
      "language": "python",
      "name": "python3"
    },
    "accelerator": "GPU"
  },
  "cells": [
    {
      "cell_type": "code",
      "metadata": {
        "colab_type": "code",
        "id": "EkPo-oGGWq5F",
        "outputId": "47e70ecc-873e-461f-ba91-2f9955a9d8c1",
        "colab": {
          "base_uri": "https://localhost:8080/",
          "height": 309
        }
      },
      "source": [
        "!wget --no-check-certificate \"https://onedrive.live.com/download?cid=11F71A1654195330&resid=11F71A1654195330%2145714&authkey=ACWhFouJ6_327I8\""
      ],
      "execution_count": 0,
      "outputs": [
        {
          "output_type": "stream",
          "text": [
            "--2019-05-10 07:20:11--  https://onedrive.live.com/download?cid=11F71A1654195330&resid=11F71A1654195330%2145714&authkey=ACWhFouJ6_327I8\n",
            "Resolving onedrive.live.com (onedrive.live.com)... 13.107.42.13\n",
            "Connecting to onedrive.live.com (onedrive.live.com)|13.107.42.13|:443... connected.\n",
            "HTTP request sent, awaiting response... 302 Found\n",
            "Location: https://kmowyq.am.files.1drv.com/y4mpkyUqU02bq73TOx_lQ4VP4YB53PahUxghWfbiMxU1nrZir-6M-Af1Y3zEYyTTGOiscMoG9I84iNyfyO--ycNSi4EjqgUEFHfg1wk0UmkGlHP7XGVyvVL-I8yTZrpYEStqLroLN40B3Gpt1THtjzLJx23qGSZUGBvs7lg_KJI4keYmAhtie4joVWrawLus1mVlUhkap1xDJINBZti0TUSVA/PUC_UFPR05_04_50_50.zip?download&psid=1 [following]\n",
            "--2019-05-10 07:20:12--  https://kmowyq.am.files.1drv.com/y4mpkyUqU02bq73TOx_lQ4VP4YB53PahUxghWfbiMxU1nrZir-6M-Af1Y3zEYyTTGOiscMoG9I84iNyfyO--ycNSi4EjqgUEFHfg1wk0UmkGlHP7XGVyvVL-I8yTZrpYEStqLroLN40B3Gpt1THtjzLJx23qGSZUGBvs7lg_KJI4keYmAhtie4joVWrawLus1mVlUhkap1xDJINBZti0TUSVA/PUC_UFPR05_04_50_50.zip?download&psid=1\n",
            "Resolving kmowyq.am.files.1drv.com (kmowyq.am.files.1drv.com)... 13.107.42.12\n",
            "Connecting to kmowyq.am.files.1drv.com (kmowyq.am.files.1drv.com)|13.107.42.12|:443... connected.\n",
            "HTTP request sent, awaiting response... 200 OK\n",
            "Length: 1458020582 (1.4G) [application/zip]\n",
            "Saving to: ‘download?cid=11F71A1654195330&resid=11F71A1654195330!45714&authkey=ACWhFouJ6_327I8’\n",
            "\n",
            "download?cid=11F71A 100%[===================>]   1.36G  33.8MB/s    in 53s     \n",
            "\n",
            "2019-05-10 07:21:05 (26.4 MB/s) - ‘download?cid=11F71A1654195330&resid=11F71A1654195330!45714&authkey=ACWhFouJ6_327I8’ saved [1458020582/1458020582]\n",
            "\n"
          ],
          "name": "stdout"
        }
      ]
    },
    {
      "cell_type": "code",
      "metadata": {
        "id": "tIvTmWBbJivH",
        "colab_type": "code",
        "colab": {}
      },
      "source": [
        ""
      ],
      "execution_count": 0,
      "outputs": []
    },
    {
      "cell_type": "code",
      "metadata": {
        "colab_type": "code",
        "id": "ZqSyfoiY01E3",
        "colab": {}
      },
      "source": [
        "!unzip -q \"download?cid=11F71A1654195330&resid=11F71A1654195330!45714&authkey=ACWhFouJ6_327I8\""
      ],
      "execution_count": 0,
      "outputs": []
    },
    {
      "cell_type": "code",
      "metadata": {
        "colab_type": "code",
        "id": "JW4ycYhNQ72d",
        "outputId": "2df3a21d-c5e1-43b3-8522-65ff79be7ec8",
        "colab": {
          "base_uri": "https://localhost:8080/",
          "height": 442
        }
      },
      "source": [
        "import numpy as np\n",
        "import tensorflow as tf\n",
        "from keras import models\n",
        "from keras import layers\n",
        "import os\n",
        "\n",
        "\n",
        "data_dir = './PUC_UFPR05_04_50_50'\n",
        "base_train_dir = os.path.join(data_dir, 'train')\n",
        "base_test_dir = os.path.join(data_dir, 'test')\n",
        "\n",
        "\n",
        "# Das CNN\n",
        "# Das Model arbeitet sequentiell\n",
        "# Aktivierungsfunktion kann ersetzt werden\n",
        "# Die Anzahl der Neuronen der Layer kann verändert werden\n",
        "model = models.Sequential()\n",
        "model.add(layers.Conv2D(16, (3, 3), activation='relu', input_shape=(60, 60, 3)))\n",
        "model.add(layers.MaxPooling2D(pool_size=(2, 2)))\n",
        "\n",
        "model.add(layers.Conv2D(16, (3, 3), activation='relu'))\n",
        "model.add(layers.MaxPooling2D(pool_size=(2, 2)))\n",
        "\n",
        "model.add(layers.Flatten()) # \"Abflachen\" der Layer zu 1D\n",
        "model.add(layers.Dense(16, activation='relu'))\n",
        "\n",
        "model.add(layers.Dense(1, activation='sigmoid'))\n",
        "\n",
        "model.summary()\n",
        "# Auswahl der Loss-Function und des Optimizers\n",
        "# binary_crossentropy muss bestehen bleiben, da binäres Problem\n",
        "model.compile(loss='binary_crossentropy',\n",
        "              optimizer='adam',\n",
        "              metrics=['accuracy'])\n"
      ],
      "execution_count": 0,
      "outputs": [
        {
          "output_type": "stream",
          "text": [
            "WARNING:tensorflow:From /usr/local/lib/python3.6/dist-packages/tensorflow/python/framework/op_def_library.py:263: colocate_with (from tensorflow.python.framework.ops) is deprecated and will be removed in a future version.\n",
            "Instructions for updating:\n",
            "Colocations handled automatically by placer.\n"
          ],
          "name": "stdout"
        },
        {
          "output_type": "stream",
          "text": [
            "Using TensorFlow backend.\n"
          ],
          "name": "stderr"
        },
        {
          "output_type": "stream",
          "text": [
            "_________________________________________________________________\n",
            "Layer (type)                 Output Shape              Param #   \n",
            "=================================================================\n",
            "conv2d_1 (Conv2D)            (None, 58, 58, 16)        448       \n",
            "_________________________________________________________________\n",
            "max_pooling2d_1 (MaxPooling2 (None, 29, 29, 16)        0         \n",
            "_________________________________________________________________\n",
            "conv2d_2 (Conv2D)            (None, 27, 27, 16)        2320      \n",
            "_________________________________________________________________\n",
            "max_pooling2d_2 (MaxPooling2 (None, 13, 13, 16)        0         \n",
            "_________________________________________________________________\n",
            "flatten_1 (Flatten)          (None, 2704)              0         \n",
            "_________________________________________________________________\n",
            "dense_1 (Dense)              (None, 16)                43280     \n",
            "_________________________________________________________________\n",
            "dense_2 (Dense)              (None, 1)                 17        \n",
            "=================================================================\n",
            "Total params: 46,065\n",
            "Trainable params: 46,065\n",
            "Non-trainable params: 0\n",
            "_________________________________________________________________\n"
          ],
          "name": "stdout"
        }
      ]
    },
    {
      "cell_type": "code",
      "metadata": {
        "colab_type": "code",
        "id": "hKQN8cy1VsQJ",
        "outputId": "3e7a7907-aa4a-4322-854b-16b1eba4977a",
        "colab": {
          "base_uri": "https://localhost:8080/",
          "height": 51
        }
      },
      "source": [
        "from keras.preprocessing.image import ImageDataGenerator\n",
        "\n",
        "train_datagen = ImageDataGenerator(rescale=1./255)\n",
        "\n",
        "\n",
        "\n",
        "test_datagen = ImageDataGenerator(rescale=1./255)\n",
        "\n",
        "train_generator = train_datagen.flow_from_directory(\n",
        "        base_train_dir,\n",
        "        target_size=(60, 60),\n",
        "        batch_size=2048,\n",
        "        class_mode='binary'\n",
        "        )\n",
        "\n",
        "validation_generator = test_datagen.flow_from_directory(\n",
        "        base_test_dir,\n",
        "        target_size=(60, 60),\n",
        "        batch_size=2048,\n",
        "        class_mode='binary'\n",
        "        )"
      ],
      "execution_count": 0,
      "outputs": [
        {
          "output_type": "stream",
          "text": [
            "Found 347924 images belonging to 2 classes.\n",
            "Found 347927 images belonging to 2 classes.\n"
          ],
          "name": "stdout"
        }
      ]
    },
    {
      "cell_type": "code",
      "metadata": {
        "colab_type": "code",
        "id": "p7IA3_1AV81B",
        "outputId": "c0c2bff5-66e3-49ad-8b1c-98176a2f3b8a",
        "colab": {
          "base_uri": "https://localhost:8080/",
          "height": 221
        }
      },
      "source": [
        "from keras. callbacks import EarlyStopping\n",
        "\n",
        "es = EarlyStopping(monitor='val_acc', patience=5, restore_best_weights=True)\n",
        "\n",
        "history = model.fit_generator(\n",
        "                              train_generator,\n",
        "                              steps_per_epoch=169, \n",
        "                              epochs=5,\n",
        "                              validation_data=validation_generator,\n",
        "                              validation_steps=169, \n",
        "                              \n",
        "                             )"
      ],
      "execution_count": 0,
      "outputs": [
        {
          "output_type": "stream",
          "text": [
            "Epoch 1/5\n",
            "169/169 [==============================] - 491s 3s/step - loss: 0.0048 - acc: 0.9992 - val_loss: 0.0066 - val_acc: 0.9989\n",
            "Epoch 2/5\n",
            "  1/169 [..............................] - ETA: 30s - loss: 0.0038 - acc: 0.9995\b\b\b\b\b\b\b\b\b\b\b\b\b\b\b\b\b\b\b\b\b\b\b\b\b\b\b\b\b\b\b\b\b\b\b\b\b\b\b\b\b\b\b\b\b\b\b\b\b\b\b\b\b\b\b\b\b\b\b\b\b\b\b\b\b\b\b\b\b\b\b\b\b\b\b\b\b\b\b\b"
          ],
          "name": "stdout"
        },
        {
          "output_type": "stream",
          "text": [
            "/usr/local/lib/python3.6/dist-packages/keras/callbacks.py:122: UserWarning: Method on_batch_end() is slow compared to the batch update (0.168945). Check your callbacks.\n",
            "  % delta_t_median)\n"
          ],
          "name": "stderr"
        },
        {
          "output_type": "stream",
          "text": [
            "169/169 [==============================] - 475s 3s/step - loss: 0.0041 - acc: 0.9993 - val_loss: 0.0066 - val_acc: 0.9989\n",
            "Epoch 3/5\n",
            "169/169 [==============================] - 473s 3s/step - loss: 0.0044 - acc: 0.9992 - val_loss: 0.0062 - val_acc: 0.9990\n",
            "Epoch 4/5\n",
            "169/169 [==============================] - 476s 3s/step - loss: 0.0043 - acc: 0.9992 - val_loss: 0.0071 - val_acc: 0.9988\n",
            "Epoch 5/5\n",
            "169/169 [==============================] - 472s 3s/step - loss: 0.0041 - acc: 0.9993 - val_loss: 0.0066 - val_acc: 0.9989\n"
          ],
          "name": "stdout"
        }
      ]
    },
    {
      "cell_type": "code",
      "metadata": {
        "colab_type": "code",
        "id": "gDlfCNijQ72j",
        "scrolled": true,
        "outputId": "c2dbacb1-584e-48a9-c488-42a9173d8b6f",
        "colab": {
          "base_uri": "https://localhost:8080/",
          "height": 295
        }
      },
      "source": [
        "# Grafische (Verlaufs-)Darstellung des Loss\n",
        "\n",
        "%matplotlib inline  \n",
        "import matplotlib.pyplot as plt\n",
        "\n",
        "acc = history.history['acc']\n",
        "val_acc = history.history['val_acc']\n",
        "loss = history.history['loss']\n",
        "val_loss = history.history['val_loss']\n",
        "\n",
        "epochs = range(1, len(acc) + 1)\n",
        "\n",
        "# \"bo\" = Blauer Punkt\n",
        "plt.plot(epochs, acc, 'bo', label='Training Accuracy')\n",
        "# \"b\" = Blaue Linie\n",
        "plt.plot(epochs, val_acc, 'b', label='Validation Accuracy')\n",
        "plt.title('Training and validation accuracy')\n",
        "plt.xlabel('Epochs')\n",
        "plt.ylabel('Accuracy')\n",
        "plt.legend()\n",
        "\n",
        "plt.show()"
      ],
      "execution_count": 0,
      "outputs": [
        {
          "output_type": "display_data",
          "data": {
            "image/png": "[encoded data removed]",
            "text/plain": [
              "<Figure size 432x288 with 1 Axes>"
            ]
          },
          "metadata": {
            "tags": []
          }
        }
      ]
    },
    {
      "cell_type": "code",
      "metadata": {
        "colab_type": "code",
        "id": "NfrvdBadQ72r",
        "outputId": "a8ba32c1-45c6-4340-ae3c-06cda0193e40",
        "colab": {
          "base_uri": "https://localhost:8080/",
          "height": 309
        }
      },
      "source": [
        "!wget --no-check-certificate \"https://onedrive.live.com/download?cid=11F71A1654195330&resid=11F71A1654195330%2145681&authkey=AIicdVtkBEkQgvU\""
      ],
      "execution_count": 0,
      "outputs": [
        {
          "output_type": "stream",
          "text": [
            "--2019-05-10 12:59:27--  https://onedrive.live.com/download?cid=11F71A1654195330&resid=11F71A1654195330%2145681&authkey=AIicdVtkBEkQgvU\n",
            "Resolving onedrive.live.com (onedrive.live.com)... 13.107.43.13\n",
            "Connecting to onedrive.live.com (onedrive.live.com)|13.107.43.13|:443... connected.\n",
            "HTTP request sent, awaiting response... 302 Found\n",
            "Location: https://mwrg1q.am.files.1drv.com/y4mKZ8tlYg3UwVqshdz1SBVtStvfexzqFqTQ9QnJUIVgUKTAaTbU9a0SzCFy08VD9BHDzPgCnmzF1OwGe1hC7whkXIFNR90q7u-g7Y9hIh_Himpz1k6rs6ksH6gGp_Ow7BbJwvtWYJu2oHgM9OYMW6L66a_kE2VGKPgx1ciop-JqJztaPv_JIaGrfpT8wt-Tpi7RkKE6xSysDWW2Yy3qmgtzA/CNR_TEST.zip?download&psid=1 [following]\n",
            "--2019-05-10 12:59:28--  https://mwrg1q.am.files.1drv.com/y4mKZ8tlYg3UwVqshdz1SBVtStvfexzqFqTQ9QnJUIVgUKTAaTbU9a0SzCFy08VD9BHDzPgCnmzF1OwGe1hC7whkXIFNR90q7u-g7Y9hIh_Himpz1k6rs6ksH6gGp_Ow7BbJwvtWYJu2oHgM9OYMW6L66a_kE2VGKPgx1ciop-JqJztaPv_JIaGrfpT8wt-Tpi7RkKE6xSysDWW2Yy3qmgtzA/CNR_TEST.zip?download&psid=1\n",
            "Resolving mwrg1q.am.files.1drv.com (mwrg1q.am.files.1drv.com)... 13.107.42.12\n",
            "Connecting to mwrg1q.am.files.1drv.com (mwrg1q.am.files.1drv.com)|13.107.42.12|:443... connected.\n",
            "HTTP request sent, awaiting response... 200 OK\n",
            "Length: 437835825 (418M) [application/zip]\n",
            "Saving to: ‘download?cid=11F71A1654195330&resid=11F71A1654195330!45681&authkey=AIicdVtkBEkQgvU’\n",
            "\n",
            "download?cid=11F71A 100%[===================>] 417.55M  28.8MB/s    in 14s     \n",
            "\n",
            "2019-05-10 12:59:43 (29.5 MB/s) - ‘download?cid=11F71A1654195330&resid=11F71A1654195330!45681&authkey=AIicdVtkBEkQgvU’ saved [437835825/437835825]\n",
            "\n"
          ],
          "name": "stdout"
        }
      ]
    },
    {
      "cell_type": "code",
      "metadata": {
        "id": "r9TSFzB66SSz",
        "colab_type": "code",
        "colab": {}
      },
      "source": [
        "!unzip -q \"download?cid=11F71A1654195330&resid=11F71A1654195330!45681&authkey=AIicdVtkBEkQgvU\""
      ],
      "execution_count": 0,
      "outputs": []
    },
    {
      "cell_type": "code",
      "metadata": {
        "id": "nPT62hzg6Sl6",
        "colab_type": "code",
        "outputId": "a0242880-a546-406c-f77b-525a1953d7a7",
        "colab": {
          "base_uri": "https://localhost:8080/",
          "height": 51
        }
      },
      "source": [
        "temp = os.path.join(\"./CNR\", 'test')\n",
        "\n",
        "test_generator = test_datagen.flow_from_directory(\n",
        "        temp,\n",
        "        target_size=(60, 60),\n",
        "        batch_size=200,\n",
        "        class_mode='binary'\n",
        "        )\n",
        "\n",
        "\n",
        "model.evaluate_generator(test_generator,20)"
      ],
      "execution_count": 0,
      "outputs": [
        {
          "output_type": "stream",
          "text": [
            "Found 144965 images belonging to 2 classes.\n"
          ],
          "name": "stdout"
        },
        {
          "output_type": "execute_result",
          "data": {
            "text/plain": [
              "[0.4813853219151497, 0.8832500100135803]"
            ]
          },
          "metadata": {
            "tags": []
          },
          "execution_count": 10
        }
      ]
    },
    {
      "cell_type": "code",
      "metadata": {
        "id": "L8-4Hk1TJeNO",
        "colab_type": "code",
        "colab": {}
      },
      "source": [
        ""
      ],
      "execution_count": 0,
      "outputs": []
    }
  ]
}