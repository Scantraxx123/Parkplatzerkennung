{
  "nbformat": 4,
  "nbformat_minor": 0,
  "metadata": {
    "colab": {
      "name": "CNNwithGen.ipynb",
      "version": "0.3.2",
      "provenance": [],
      "collapsed_sections": []
    },
    "language_info": {
      "codemirror_mode": {
        "name": "ipython",
        "version": 3
      },
      "file_extension": ".py",
      "mimetype": "text/x-python",
      "name": "python",
      "nbconvert_exporter": "python",
      "pygments_lexer": "ipython3",
      "version": "3.7.1"
    },
    "kernelspec": {
      "display_name": "Python 3",
      "language": "python",
      "name": "python3"
    },
    "accelerator": "GPU"
  },
  "cells": [
    {
      "cell_type": "code",
      "metadata": {
        "colab_type": "code",
        "id": "EkPo-oGGWq5F",
        "outputId": "79cb6e7a-8427-4f62-ae91-64fa5d709d87",
        "colab": {
          "base_uri": "https://localhost:8080/",
          "height": 309
        }
      },
      "source": [
        "!wget --no-check-certificate \"https://onedrive.live.com/download?cid=11F71A1654195330&resid=11F71A1654195330%2145714&authkey=ACWhFouJ6_327I8\""
      ],
      "execution_count": 0,
      "outputs": [
        {
          "output_type": "stream",
          "text": [
            "--2019-05-08 15:23:44--  https://onedrive.live.com/download?cid=11F71A1654195330&resid=11F71A1654195330%2145714&authkey=ACWhFouJ6_327I8\n",
            "Resolving onedrive.live.com (onedrive.live.com)... 13.107.42.13\n",
            "Connecting to onedrive.live.com (onedrive.live.com)|13.107.42.13|:443... connected.\n",
            "HTTP request sent, awaiting response... 302 Found\n",
            "Location: https://kmowyq.am.files.1drv.com/y4mqMgXn8NSZy43UyNG2ZoPZBU9fyIiKDw-1IAtJxo1F7FQxmr8cH3E5nMxoeFm00--JfTNgKUATdLBgK9MEG103iWDC3NX1qNt8rqWT2MqiVamsTL8WWWM2HvlEx22GEmOdjaM56bd-S51H6FVN3gKkBvkA2n87gdKXQR4Ah6JOXAEFMZYCe1ICaeiOAorklv5j1RkM9C-ogmfEjKYNmHvsg/PUC_UFPR05_04_50_50.zip?download&psid=1 [following]\n",
            "--2019-05-08 15:23:45--  https://kmowyq.am.files.1drv.com/y4mqMgXn8NSZy43UyNG2ZoPZBU9fyIiKDw-1IAtJxo1F7FQxmr8cH3E5nMxoeFm00--JfTNgKUATdLBgK9MEG103iWDC3NX1qNt8rqWT2MqiVamsTL8WWWM2HvlEx22GEmOdjaM56bd-S51H6FVN3gKkBvkA2n87gdKXQR4Ah6JOXAEFMZYCe1ICaeiOAorklv5j1RkM9C-ogmfEjKYNmHvsg/PUC_UFPR05_04_50_50.zip?download&psid=1\n",
            "Resolving kmowyq.am.files.1drv.com (kmowyq.am.files.1drv.com)... 13.107.42.12\n",
            "Connecting to kmowyq.am.files.1drv.com (kmowyq.am.files.1drv.com)|13.107.42.12|:443... connected.\n",
            "HTTP request sent, awaiting response... 200 OK\n",
            "Length: 1458020582 (1.4G) [application/zip]\n",
            "Saving to: ‘download?cid=11F71A1654195330&resid=11F71A1654195330!45714&authkey=ACWhFouJ6_327I8’\n",
            "\n",
            "download?cid=11F71A 100%[===================>]   1.36G  25.4MB/s    in 52s     \n",
            "\n",
            "2019-05-08 15:24:38 (26.9 MB/s) - ‘download?cid=11F71A1654195330&resid=11F71A1654195330!45714&authkey=ACWhFouJ6_327I8’ saved [1458020582/1458020582]\n",
            "\n"
          ],
          "name": "stdout"
        }
      ]
    },
    {
      "cell_type": "code",
      "metadata": {
        "colab_type": "code",
        "id": "ZqSyfoiY01E3",
        "outputId": "b6651893-d938-4dee-d76e-fcfcb5fb2a07",
        "colab": {
          "base_uri": "https://localhost:8080/",
          "height": 51
        }
      },
      "source": [
        "!unzip -q \"download?cid=11F71A1654195330&resid=11F71A1654195330!45714&authkey=ACWhFouJ6_327I8\""
      ],
      "execution_count": 0,
      "outputs": [
        {
          "output_type": "stream",
          "text": [
            "replace PUC_UFPR05_04_50_50/test/Empty/2012-09-11_15_16_58#004.jpg? [y]es, [n]o, [A]ll, [N]one, [r]ename: n\n",
            "replace PUC_UFPR05_04_50_50/test/Empty/2012-09-11_15_16_58#011.jpg? [y]es, [n]o, [A]ll, [N]one, [r]ename: "
          ],
          "name": "stdout"
        }
      ]
    },
    {
      "cell_type": "code",
      "metadata": {
        "colab_type": "code",
        "id": "JW4ycYhNQ72d",
        "outputId": "50bc0acb-665c-4637-b6d4-6668c2fdeb72",
        "colab": {
          "base_uri": "https://localhost:8080/",
          "height": 374
        }
      },
      "source": [
        "import numpy as np\n",
        "import tensorflow as tf\n",
        "from keras import models\n",
        "from keras import layers\n",
        "import os\n",
        "\n",
        "\n",
        "data_dir = './PUC_UFPR05_04_50_50'\n",
        "base_train_dir = os.path.join(data_dir, 'train')\n",
        "base_test_dir = os.path.join(data_dir, 'test')\n",
        "\n",
        "\n",
        "# Das CNN\n",
        "# Das Model arbeitet sequentiell\n",
        "# Aktivierungsfunktion kann ersetzt werden\n",
        "# Die Anzahl der Neuronen der Layer kann verändert werden\n",
        "model = models.Sequential()\n",
        "model.add(layers.Conv2D(16, (3, 3), activation='relu', input_shape=(60, 60, 3)))\n",
        "model.add(layers.MaxPooling2D(pool_size=(2, 2)))\n",
        "\n",
        "model.add(layers.Conv2D(16, (3, 3), activation='relu'))\n",
        "model.add(layers.MaxPooling2D(pool_size=(2, 2)))\n",
        "\n",
        "model.add(layers.Flatten()) # \"Abflachen\" der Layer zu 1D\n",
        "model.add(layers.Dense(16, activation='relu'))\n",
        "\n",
        "model.add(layers.Dense(1, activation='sigmoid'))\n",
        "\n",
        "model.summary()\n",
        "# Auswahl der Loss-Function und des Optimizers\n",
        "# binary_crossentropy muss bestehen bleiben, da binäres Problem\n",
        "model.compile(loss='binary_crossentropy',\n",
        "              optimizer='adam',\n",
        "              metrics=['accuracy'])\n"
      ],
      "execution_count": 0,
      "outputs": [
        {
          "output_type": "stream",
          "text": [
            "_________________________________________________________________\n",
            "Layer (type)                 Output Shape              Param #   \n",
            "=================================================================\n",
            "conv2d_5 (Conv2D)            (None, 58, 58, 16)        448       \n",
            "_________________________________________________________________\n",
            "max_pooling2d_5 (MaxPooling2 (None, 29, 29, 16)        0         \n",
            "_________________________________________________________________\n",
            "conv2d_6 (Conv2D)            (None, 27, 27, 16)        2320      \n",
            "_________________________________________________________________\n",
            "max_pooling2d_6 (MaxPooling2 (None, 13, 13, 16)        0         \n",
            "_________________________________________________________________\n",
            "flatten_3 (Flatten)          (None, 2704)              0         \n",
            "_________________________________________________________________\n",
            "dense_5 (Dense)              (None, 16)                43280     \n",
            "_________________________________________________________________\n",
            "dense_6 (Dense)              (None, 1)                 17        \n",
            "=================================================================\n",
            "Total params: 46,065\n",
            "Trainable params: 46,065\n",
            "Non-trainable params: 0\n",
            "_________________________________________________________________\n"
          ],
          "name": "stdout"
        }
      ]
    },
    {
      "cell_type": "code",
      "metadata": {
        "colab_type": "code",
        "id": "hKQN8cy1VsQJ",
        "outputId": "6a732c94-762b-4949-dc85-41413d512b53",
        "colab": {
          "base_uri": "https://localhost:8080/",
          "height": 51
        }
      },
      "source": [
        "from keras.preprocessing.image import ImageDataGenerator\n",
        "\n",
        "train_datagen = ImageDataGenerator(rescale=1./255)\n",
        "\n",
        "\n",
        "\n",
        "test_datagen = ImageDataGenerator(rescale=1./255)\n",
        "\n",
        "train_generator = train_datagen.flow_from_directory(\n",
        "        base_train_dir,\n",
        "        target_size=(60, 60),\n",
        "        batch_size=256,\n",
        "        class_mode='binary'\n",
        "        )\n",
        "\n",
        "validation_generator = test_datagen.flow_from_directory(\n",
        "        base_test_dir,\n",
        "        target_size=(60, 60),\n",
        "        batch_size=200,\n",
        "        class_mode='binary'\n",
        "        )"
      ],
      "execution_count": 0,
      "outputs": [
        {
          "output_type": "stream",
          "text": [
            "Found 347924 images belonging to 2 classes.\n",
            "Found 347927 images belonging to 2 classes.\n"
          ],
          "name": "stdout"
        }
      ]
    },
    {
      "cell_type": "code",
      "metadata": {
        "colab_type": "code",
        "id": "p7IA3_1AV81B",
        "outputId": "2b860e31-ccb4-4554-8638-5d18106a3b3f",
        "colab": {
          "base_uri": "https://localhost:8080/",
          "height": 1397
        }
      },
      "source": [
        "from keras. callbacks import EarlyStopping\n",
        "\n",
        "es = EarlyStopping(monitor='val_acc', patience=5, restore_best_weights=True)\n",
        "\n",
        "history = model.fit_generator(\n",
        "                              train_generator,\n",
        "                              steps_per_epoch=162, \n",
        "                              epochs=100,\n",
        "                              validation_data=validation_generator,\n",
        "                              validation_steps=111, \n",
        "                              callbacks=[es], \n",
        "                             )"
      ],
      "execution_count": 0,
      "outputs": [
        {
          "output_type": "stream",
          "text": [
            "Epoch 1/100\n",
            "162/162 [==============================] - 180s 1s/step - loss: 0.0096 - acc: 0.9977 - val_loss: 0.0161 - val_acc: 0.9959\n",
            "Epoch 2/100\n",
            "162/162 [==============================] - 183s 1s/step - loss: 0.0303 - acc: 0.9904 - val_loss: 0.0118 - val_acc: 0.9966\n",
            "Epoch 3/100\n",
            "  2/162 [..............................] - ETA: 25s - loss: 0.0058 - acc: 0.9961"
          ],
          "name": "stdout"
        },
        {
          "output_type": "stream",
          "text": [
            "/usr/local/lib/python3.6/dist-packages/keras/callbacks.py:122: UserWarning: Method on_batch_end() is slow compared to the batch update (0.238640). Check your callbacks.\n",
            "  % delta_t_median)\n",
            "/usr/local/lib/python3.6/dist-packages/keras/callbacks.py:122: UserWarning: Method on_batch_end() is slow compared to the batch update (0.187194). Check your callbacks.\n",
            "  % delta_t_median)\n"
          ],
          "name": "stderr"
        },
        {
          "output_type": "stream",
          "text": [
            "  4/162 [..............................] - ETA: 32s - loss: 0.0075 - acc: 0.9961"
          ],
          "name": "stdout"
        },
        {
          "output_type": "stream",
          "text": [
            "/usr/local/lib/python3.6/dist-packages/keras/callbacks.py:122: UserWarning: Method on_batch_end() is slow compared to the batch update (0.137098). Check your callbacks.\n",
            "  % delta_t_median)\n",
            "/usr/local/lib/python3.6/dist-packages/keras/callbacks.py:122: UserWarning: Method on_batch_end() is slow compared to the batch update (0.136423). Check your callbacks.\n",
            "  % delta_t_median)\n"
          ],
          "name": "stderr"
        },
        {
          "output_type": "stream",
          "text": [
            "  7/162 [>.............................] - ETA: 25s - loss: 0.0097 - acc: 0.9961"
          ],
          "name": "stdout"
        },
        {
          "output_type": "stream",
          "text": [
            "/usr/local/lib/python3.6/dist-packages/keras/callbacks.py:122: UserWarning: Method on_batch_end() is slow compared to the batch update (0.135748). Check your callbacks.\n",
            "  % delta_t_median)\n"
          ],
          "name": "stderr"
        },
        {
          "output_type": "stream",
          "text": [
            "162/162 [==============================] - 184s 1s/step - loss: 0.0135 - acc: 0.9967 - val_loss: 0.0118 - val_acc: 0.9973\n",
            "Epoch 4/100\n",
            "  7/162 [>.............................] - ETA: 28s - loss: 0.0104 - acc: 0.9961"
          ],
          "name": "stdout"
        },
        {
          "output_type": "stream",
          "text": [
            "/usr/local/lib/python3.6/dist-packages/keras/callbacks.py:122: UserWarning: Method on_batch_end() is slow compared to the batch update (0.125891). Check your callbacks.\n",
            "  % delta_t_median)\n"
          ],
          "name": "stderr"
        },
        {
          "output_type": "stream",
          "text": [
            "162/162 [==============================] - 184s 1s/step - loss: 0.0121 - acc: 0.9969 - val_loss: 0.0098 - val_acc: 0.9975\n",
            "Epoch 5/100\n",
            "  1/162 [..............................] - ETA: 21s - loss: 0.0185 - acc: 0.9961"
          ],
          "name": "stdout"
        },
        {
          "output_type": "stream",
          "text": [
            "/usr/local/lib/python3.6/dist-packages/keras/callbacks.py:122: UserWarning: Method on_batch_end() is slow compared to the batch update (0.113501). Check your callbacks.\n",
            "  % delta_t_median)\n"
          ],
          "name": "stderr"
        },
        {
          "output_type": "stream",
          "text": [
            "\b\b\b\b\b\b\b\b\b\b\b\b\b\b\b\b\b\b\b\b\b\b\b\b\b\b\b\b\b\b\b\b\b\b\b\b\b\b\b\b\b\b\b\b\b\b\b\b\b\b\b\b\b\b\b\b\b\b\b\b\b\b\b\b\b\b\b\b\b\b\b\b\b\b\b\b\b\b\b\b\r  2/162 [..............................] - ETA: 34s - loss: 0.0134 - acc: 0.9961"
          ],
          "name": "stdout"
        },
        {
          "output_type": "stream",
          "text": [
            "/usr/local/lib/python3.6/dist-packages/keras/callbacks.py:122: UserWarning: Method on_batch_end() is slow compared to the batch update (0.167025). Check your callbacks.\n",
            "  % delta_t_median)\n"
          ],
          "name": "stderr"
        },
        {
          "output_type": "stream",
          "text": [
            "  8/162 [>.............................] - ETA: 24s - loss: 0.0076 - acc: 0.9985"
          ],
          "name": "stdout"
        },
        {
          "output_type": "stream",
          "text": [
            "/usr/local/lib/python3.6/dist-packages/keras/callbacks.py:122: UserWarning: Method on_batch_end() is slow compared to the batch update (0.125173). Check your callbacks.\n",
            "  % delta_t_median)\n"
          ],
          "name": "stderr"
        },
        {
          "output_type": "stream",
          "text": [
            "162/162 [==============================] - 185s 1s/step - loss: 0.0095 - acc: 0.9978 - val_loss: 0.0106 - val_acc: 0.9970\n",
            "Epoch 6/100\n",
            "162/162 [==============================] - 176s 1s/step - loss: 0.0105 - acc: 0.9972 - val_loss: 0.0109 - val_acc: 0.9976\n",
            "Epoch 7/100\n",
            "  4/162 [..............................] - ETA: 20s - loss: 0.0082 - acc: 0.9961"
          ],
          "name": "stdout"
        },
        {
          "output_type": "stream",
          "text": [
            "/usr/local/lib/python3.6/dist-packages/keras/callbacks.py:122: UserWarning: Method on_batch_end() is slow compared to the batch update (0.102198). Check your callbacks.\n",
            "  % delta_t_median)\n"
          ],
          "name": "stderr"
        },
        {
          "output_type": "stream",
          "text": [
            "162/162 [==============================] - 164s 1s/step - loss: 0.0103 - acc: 0.9975 - val_loss: 0.0124 - val_acc: 0.9975\n",
            "Epoch 8/100\n",
            "  5/162 [..............................] - ETA: 29s - loss: 0.0277 - acc: 0.9945"
          ],
          "name": "stdout"
        },
        {
          "output_type": "stream",
          "text": [
            "/usr/local/lib/python3.6/dist-packages/keras/callbacks.py:122: UserWarning: Method on_batch_end() is slow compared to the batch update (0.222951). Check your callbacks.\n",
            "  % delta_t_median)\n",
            "/usr/local/lib/python3.6/dist-packages/keras/callbacks.py:122: UserWarning: Method on_batch_end() is slow compared to the batch update (0.176279). Check your callbacks.\n",
            "  % delta_t_median)\n"
          ],
          "name": "stderr"
        },
        {
          "output_type": "stream",
          "text": [
            "162/162 [==============================] - 159s 983ms/step - loss: 0.0089 - acc: 0.9976 - val_loss: 0.0110 - val_acc: 0.9975\n",
            "Epoch 9/100\n",
            "162/162 [==============================] - 155s 956ms/step - loss: 0.0080 - acc: 0.9981 - val_loss: 0.0102 - val_acc: 0.9982\n",
            "Epoch 10/100\n",
            "  2/162 [..............................] - ETA: 32s - loss: 0.0156 - acc: 0.9980"
          ],
          "name": "stdout"
        },
        {
          "output_type": "stream",
          "text": [
            "/usr/local/lib/python3.6/dist-packages/keras/callbacks.py:122: UserWarning: Method on_batch_end() is slow compared to the batch update (0.208228). Check your callbacks.\n",
            "  % delta_t_median)\n"
          ],
          "name": "stderr"
        },
        {
          "output_type": "stream",
          "text": [
            "  9/162 [>.............................] - ETA: 18s - loss: 0.0152 - acc: 0.9978"
          ],
          "name": "stdout"
        },
        {
          "output_type": "stream",
          "text": [
            "/usr/local/lib/python3.6/dist-packages/keras/callbacks.py:122: UserWarning: Method on_batch_end() is slow compared to the batch update (0.115454). Check your callbacks.\n",
            "  % delta_t_median)\n"
          ],
          "name": "stderr"
        },
        {
          "output_type": "stream",
          "text": [
            "162/162 [==============================] - 153s 947ms/step - loss: 0.0089 - acc: 0.9978 - val_loss: 0.0086 - val_acc: 0.9981\n",
            "Epoch 11/100\n",
            "  3/162 [..............................] - ETA: 27s - loss: 0.0160 - acc: 0.9948"
          ],
          "name": "stdout"
        },
        {
          "output_type": "stream",
          "text": [
            "/usr/local/lib/python3.6/dist-packages/keras/callbacks.py:122: UserWarning: Method on_batch_end() is slow compared to the batch update (0.126741). Check your callbacks.\n",
            "  % delta_t_median)\n",
            "/usr/local/lib/python3.6/dist-packages/keras/callbacks.py:122: UserWarning: Method on_batch_end() is slow compared to the batch update (0.130504). Check your callbacks.\n",
            "  % delta_t_median)\n"
          ],
          "name": "stderr"
        },
        {
          "output_type": "stream",
          "text": [
            " 11/162 [=>............................] - ETA: 17s - loss: 0.0083 - acc: 0.9968"
          ],
          "name": "stdout"
        },
        {
          "output_type": "stream",
          "text": [
            "/usr/local/lib/python3.6/dist-packages/keras/callbacks.py:122: UserWarning: Method on_batch_end() is slow compared to the batch update (0.100143). Check your callbacks.\n",
            "  % delta_t_median)\n"
          ],
          "name": "stderr"
        },
        {
          "output_type": "stream",
          "text": [
            "162/162 [==============================] - 154s 951ms/step - loss: 0.0092 - acc: 0.9978 - val_loss: 0.0095 - val_acc: 0.9982\n",
            "Epoch 12/100\n",
            "  3/162 [..............................] - ETA: 32s - loss: 0.0037 - acc: 0.9987"
          ],
          "name": "stdout"
        },
        {
          "output_type": "stream",
          "text": [
            "/usr/local/lib/python3.6/dist-packages/keras/callbacks.py:122: UserWarning: Method on_batch_end() is slow compared to the batch update (0.239607). Check your callbacks.\n",
            "  % delta_t_median)\n"
          ],
          "name": "stderr"
        },
        {
          "output_type": "stream",
          "text": [
            "162/162 [==============================] - 153s 943ms/step - loss: 0.0079 - acc: 0.9983 - val_loss: 0.0116 - val_acc: 0.9974\n",
            "Epoch 13/100\n",
            "162/162 [==============================] - 153s 942ms/step - loss: 0.0088 - acc: 0.9983 - val_loss: 0.0074 - val_acc: 0.9983\n",
            "Epoch 14/100\n",
            "162/162 [==============================] - 151s 934ms/step - loss: 0.0093 - acc: 0.9980 - val_loss: 0.0089 - val_acc: 0.9982\n",
            "Epoch 15/100\n",
            "  3/162 [..............................] - ETA: 23s - loss: 0.0075 - acc: 0.9987"
          ],
          "name": "stdout"
        },
        {
          "output_type": "stream",
          "text": [
            "/usr/local/lib/python3.6/dist-packages/keras/callbacks.py:122: UserWarning: Method on_batch_end() is slow compared to the batch update (0.214172). Check your callbacks.\n",
            "  % delta_t_median)\n",
            "/usr/local/lib/python3.6/dist-packages/keras/callbacks.py:122: UserWarning: Method on_batch_end() is slow compared to the batch update (0.115848). Check your callbacks.\n",
            "  % delta_t_median)\n"
          ],
          "name": "stderr"
        },
        {
          "output_type": "stream",
          "text": [
            "  5/162 [..............................] - ETA: 26s - loss: 0.0051 - acc: 0.9992"
          ],
          "name": "stdout"
        },
        {
          "output_type": "stream",
          "text": [
            "/usr/local/lib/python3.6/dist-packages/keras/callbacks.py:122: UserWarning: Method on_batch_end() is slow compared to the batch update (0.146405). Check your callbacks.\n",
            "  % delta_t_median)\n"
          ],
          "name": "stderr"
        },
        {
          "output_type": "stream",
          "text": [
            " 11/162 [=>............................] - ETA: 18s - loss: 0.0033 - acc: 0.9996"
          ],
          "name": "stdout"
        },
        {
          "output_type": "stream",
          "text": [
            "/usr/local/lib/python3.6/dist-packages/keras/callbacks.py:122: UserWarning: Method on_batch_end() is slow compared to the batch update (0.129964). Check your callbacks.\n",
            "  % delta_t_median)\n"
          ],
          "name": "stderr"
        },
        {
          "output_type": "stream",
          "text": [
            "162/162 [==============================] - 151s 931ms/step - loss: 0.0071 - acc: 0.9986 - val_loss: 0.0093 - val_acc: 0.9979\n",
            "Epoch 16/100\n",
            "  2/162 [..............................] - ETA: 36s - loss: 0.0017 - acc: 1.0000"
          ],
          "name": "stdout"
        },
        {
          "output_type": "stream",
          "text": [
            "/usr/local/lib/python3.6/dist-packages/keras/callbacks.py:122: UserWarning: Method on_batch_end() is slow compared to the batch update (0.335202). Check your callbacks.\n",
            "  % delta_t_median)\n",
            "/usr/local/lib/python3.6/dist-packages/keras/callbacks.py:122: UserWarning: Method on_batch_end() is slow compared to the batch update (0.170371). Check your callbacks.\n",
            "  % delta_t_median)\n"
          ],
          "name": "stderr"
        },
        {
          "output_type": "stream",
          "text": [
            "162/162 [==============================] - 157s 969ms/step - loss: 0.0073 - acc: 0.9981 - val_loss: 0.0097 - val_acc: 0.9974\n",
            "Epoch 17/100\n",
            "162/162 [==============================] - 163s 1s/step - loss: 0.0073 - acc: 0.9985 - val_loss: 0.0090 - val_acc: 0.9982\n",
            "Epoch 18/100\n",
            "162/162 [==============================] - 162s 1s/step - loss: 0.0087 - acc: 0.9980 - val_loss: 0.0092 - val_acc: 0.9980\n"
          ],
          "name": "stdout"
        }
      ]
    },
    {
      "cell_type": "code",
      "metadata": {
        "colab_type": "code",
        "id": "gDlfCNijQ72j",
        "scrolled": true,
        "outputId": "8fd7b55d-2dd9-44b6-dd28-e0d1a34e975f",
        "colab": {
          "base_uri": "https://localhost:8080/",
          "height": 295
        }
      },
      "source": [
        "# Grafische (Verlaufs-)Darstellung des Loss\n",
        "\n",
        "%matplotlib inline  \n",
        "import matplotlib.pyplot as plt\n",
        "\n",
        "acc = history.history['acc']\n",
        "val_acc = history.history['val_acc']\n",
        "loss = history.history['loss']\n",
        "val_loss = history.history['val_loss']\n",
        "\n",
        "epochs = range(1, len(acc) + 1)\n",
        "\n",
        "# \"bo\" = Blauer Punkt\n",
        "plt.plot(epochs, acc, 'bo', label='Training Accuracy')\n",
        "# \"b\" = Blaue Linie\n",
        "plt.plot(epochs, val_acc, 'b', label='Validation Accuracy')\n",
        "plt.title('Training and validation accuracy')\n",
        "plt.xlabel('Epochs')\n",
        "plt.ylabel('Accuracy')\n",
        "plt.legend()\n",
        "\n",
        "plt.show()"
      ],
      "execution_count": 0,
      "outputs": [
        {
          "output_type": "display_data",
          "data": {
            "image/png": "[encoded data removed]",
            "text/plain": [
              "<Figure size 432x288 with 1 Axes>"
            ]
          },
          "metadata": {
            "tags": []
          }
        }
      ]
    },
    {
      "cell_type": "code",
      "metadata": {
        "colab_type": "code",
        "id": "NfrvdBadQ72r",
        "outputId": "3376f961-5117-48e7-94ea-a3a21be9e2aa",
        "colab": {
          "base_uri": "https://localhost:8080/",
          "height": 309
        }
      },
      "source": [
        "!wget --no-check-certificate \"https://onedrive.live.com/download?cid=11F71A1654195330&resid=11F71A1654195330%2145681&authkey=AIicdVtkBEkQgvU\""
      ],
      "execution_count": 0,
      "outputs": [
        {
          "output_type": "stream",
          "text": [
            "--2019-05-08 17:51:09--  https://onedrive.live.com/download?cid=11F71A1654195330&resid=11F71A1654195330%2145681&authkey=AIicdVtkBEkQgvU\n",
            "Resolving onedrive.live.com (onedrive.live.com)... 13.107.42.13\n",
            "Connecting to onedrive.live.com (onedrive.live.com)|13.107.42.13|:443... connected.\n",
            "HTTP request sent, awaiting response... 302 Found\n",
            "Location: https://mwrg1q.am.files.1drv.com/y4mGrOwJbCY3w_Dk59qVuWddrlMLBGEdpvxAYcFv0VFcU1Gt4m-jEfwaIS1TdXyHg_SNCO611ECqu2V5zzuj6mJfL52_PQDxkDjjftht-xtgBI8uilzAI5UTZ7lsh0sI24-WPn953s86_99uIE8r0QtfvTb4LFYwOfu4ScxR61IZglTCcZncMcWtc7lcqp4ObfBsBthADsUqglU61-3vRiH1g/CNR_TEST.zip?download&psid=1 [following]\n",
            "--2019-05-08 17:51:09--  https://mwrg1q.am.files.1drv.com/y4mGrOwJbCY3w_Dk59qVuWddrlMLBGEdpvxAYcFv0VFcU1Gt4m-jEfwaIS1TdXyHg_SNCO611ECqu2V5zzuj6mJfL52_PQDxkDjjftht-xtgBI8uilzAI5UTZ7lsh0sI24-WPn953s86_99uIE8r0QtfvTb4LFYwOfu4ScxR61IZglTCcZncMcWtc7lcqp4ObfBsBthADsUqglU61-3vRiH1g/CNR_TEST.zip?download&psid=1\n",
            "Resolving mwrg1q.am.files.1drv.com (mwrg1q.am.files.1drv.com)... 13.107.42.12\n",
            "Connecting to mwrg1q.am.files.1drv.com (mwrg1q.am.files.1drv.com)|13.107.42.12|:443... connected.\n",
            "HTTP request sent, awaiting response... 200 OK\n",
            "Length: 437835825 (418M) [application/zip]\n",
            "Saving to: ‘download?cid=11F71A1654195330&resid=11F71A1654195330!45681&authkey=AIicdVtkBEkQgvU’\n",
            "\n",
            "download?cid=11F71A 100%[===================>] 417.55M  4.89MB/s    in 59s     \n",
            "\n",
            "2019-05-08 17:52:09 (7.13 MB/s) - ‘download?cid=11F71A1654195330&resid=11F71A1654195330!45681&authkey=AIicdVtkBEkQgvU’ saved [437835825/437835825]\n",
            "\n"
          ],
          "name": "stdout"
        }
      ]
    },
    {
      "cell_type": "code",
      "metadata": {
        "id": "r9TSFzB66SSz",
        "colab_type": "code",
        "colab": {}
      },
      "source": [
        "!unzip -q \"download?cid=11F71A1654195330&resid=11F71A1654195330!45681&authkey=AIicdVtkBEkQgvU\""
      ],
      "execution_count": 0,
      "outputs": []
    },
    {
      "cell_type": "code",
      "metadata": {
        "id": "nPT62hzg6Sl6",
        "colab_type": "code",
        "outputId": "be6e2c82-bbdc-4dad-cbba-1093654d1c51",
        "colab": {
          "base_uri": "https://localhost:8080/",
          "height": 51
        }
      },
      "source": [
        "temp = os.path.join(\"./CNR\", 'test')\n",
        "\n",
        "test_generator = test_datagen.flow_from_directory(\n",
        "        temp,\n",
        "        target_size=(60, 60),\n",
        "        batch_size=200,\n",
        "        class_mode='binary'\n",
        "        )\n",
        "\n",
        "\n",
        "model.evaluate_generator(test_generator,20)"
      ],
      "execution_count": 29,
      "outputs": [
        {
          "output_type": "stream",
          "text": [
            "Found 144965 images belonging to 2 classes.\n"
          ],
          "name": "stdout"
        },
        {
          "output_type": "execute_result",
          "data": {
            "text/plain": [
              "[0.45192054361104966, 0.8850000083446503]"
            ]
          },
          "metadata": {
            "tags": []
          },
          "execution_count": 29
        }
      ]
    }
  ]
}