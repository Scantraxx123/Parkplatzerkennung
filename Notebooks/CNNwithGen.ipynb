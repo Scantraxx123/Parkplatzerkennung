{
  "nbformat": 4,
  "nbformat_minor": 0,
  "metadata": {
    "colab": {
      "name": "CNN.ipynb",
      "version": "0.3.2",
      "provenance": [],
      "collapsed_sections": []
    },
    "language_info": {
      "codemirror_mode": {
        "name": "ipython",
        "version": 3
      },
      "file_extension": ".py",
      "mimetype": "text/x-python",
      "name": "python",
      "nbconvert_exporter": "python",
      "pygments_lexer": "ipython3",
      "version": "3.7.3"
    },
    "kernelspec": {
      "name": "python3",
      "display_name": "Python 3"
    },
    "accelerator": "GPU"
  },
  "cells": [
    {
      "metadata": {
        "id": "EkPo-oGGWq5F",
        "colab_type": "code",
        "outputId": "05459453-c753-4d94-ddba-7cb6b226a156",
        "colab": {
          "base_uri": "https://localhost:8080/",
          "height": 309
        }
      },
      "cell_type": "code",
      "source": [
        "!wget --no-check-certificate \"https://onedrive.live.com/download?cid=11F71A1654195330&resid=11F71A1654195330%2145577&authkey=ADhTTaP_EXHvX0s\""
      ],
      "execution_count": 0,
      "outputs": [
        {
          "output_type": "stream",
          "text": [
            "--2019-04-29 09:20:45--  https://onedrive.live.com/download?cid=11F71A1654195330&resid=11F71A1654195330%2145577&authkey=ADhTTaP_EXHvX0s\n",
            "Resolving onedrive.live.com (onedrive.live.com)... 13.107.42.13\n",
            "Connecting to onedrive.live.com (onedrive.live.com)|13.107.42.13|:443... connected.\n",
            "HTTP request sent, awaiting response... 302 Found\n",
            "Location: https://lgr3dw.am.files.1drv.com/y4m4RkTWN_TDY_vqzsOq5tXfo3co9wxXvBXoPfDo1XNJpZ5vICOVK2Xb2fdOUjhSKWgn2hc0GeKl9nkp_KG2_Nz_yh-ylQqXxut4jiOJbqwngK18asd8V7dOqTFhrfm3gqOf0tsHN3QI0T16mp1uqDvfiachRGFVxCAcglW5m9OZZyup2q50yYZjZOabxzAaRrzO1DeA3_m0bcHxaB53pqHVQ/UFPR04.zip?download&psid=1 [following]\n",
            "--2019-04-29 09:20:51--  https://lgr3dw.am.files.1drv.com/y4m4RkTWN_TDY_vqzsOq5tXfo3co9wxXvBXoPfDo1XNJpZ5vICOVK2Xb2fdOUjhSKWgn2hc0GeKl9nkp_KG2_Nz_yh-ylQqXxut4jiOJbqwngK18asd8V7dOqTFhrfm3gqOf0tsHN3QI0T16mp1uqDvfiachRGFVxCAcglW5m9OZZyup2q50yYZjZOabxzAaRrzO1DeA3_m0bcHxaB53pqHVQ/UFPR04.zip?download&psid=1\n",
            "Resolving lgr3dw.am.files.1drv.com (lgr3dw.am.files.1drv.com)... 13.107.42.12\n",
            "Connecting to lgr3dw.am.files.1drv.com (lgr3dw.am.files.1drv.com)|13.107.42.12|:443... connected.\n",
            "HTTP request sent, awaiting response... 200 OK\n",
            "Length: 271608072 (259M) [application/zip]\n",
            "Saving to: ‘download?cid=11F71A1654195330&resid=11F71A1654195330!45577&authkey=ADhTTaP_EXHvX0s’\n",
            "\n",
            "download?cid=11F71A 100%[===================>] 259.03M  15.3MB/s    in 19s     \n",
            "\n",
            "2019-04-29 09:21:11 (13.8 MB/s) - ‘download?cid=11F71A1654195330&resid=11F71A1654195330!45577&authkey=ADhTTaP_EXHvX0s’ saved [271608072/271608072]\n",
            "\n"
          ],
          "name": "stdout"
        }
      ]
    },
    {
      "metadata": {
        "id": "ZqSyfoiY01E3",
        "colab_type": "code",
        "outputId": "c5feb8fe-2ac3-4ed9-d119-e3a0d5b950a2",
        "colab": {
          "base_uri": "https://localhost:8080/",
          "height": 34
        }
      },
      "cell_type": "code",
      "source": [
        "!info \"download?cid=11F71A1654195330&resid=11F71A1654195330!45577&authkey=ADhTTaP_EXHvX0s\"\n",
        "!unzip -q \"download?cid=11F71A1654195330&resid=11F71A1654195330!45577&authkey=ADhTTaP_EXHvX0s\""
      ],
      "execution_count": 0,
      "outputs": [
        {
          "output_type": "stream",
          "text": [
            "/bin/bash: info: command not found\n"
          ],
          "name": "stdout"
        }
      ]
    },
    {
      "metadata": {
        "id": "JW4ycYhNQ72d",
        "colab_type": "code",
        "outputId": "6b0ae797-f9d2-4722-d1eb-6f1a93b1e50c",
        "colab": {
          "base_uri": "https://localhost:8080/",
          "height": 462
        }
      },
      "cell_type": "code",
      "source": [
        "import numpy as np\n",
        "import tensorflow as tf\n",
        "from keras import models\n",
        "from keras import layers\n",
        "import os\n",
        "\n",
        "\n",
        "data_dir = './UFPR04'\n",
        "base_train_dir = os.path.join(data_dir, 'train')\n",
        "base_test_dir = os.path.join(data_dir, 'test')\n",
        "\n",
        "\n",
        "# Das CNN\n",
        "# Das Model arbeitet sequentiell\n",
        "# Aktivierungsfunktion kann ersetzt werden\n",
        "# Die Anzahl der Neuronen der Layer kann verändert werden\n",
        "model = models.Sequential()\n",
        "model.add(layers.Conv2D(16, (3, 3), activation='relu', input_shape=(40, 80, 3)))\n",
        "model.add(layers.MaxPooling2D(pool_size=(2, 2)))\n",
        "\n",
        "model.add(layers.Conv2D(16, (3, 3), activation='relu'))\n",
        "model.add(layers.MaxPooling2D(pool_size=(2, 2)))\n",
        "\n",
        "model.add(layers.Flatten()) # \"Abflachen\" der Layer zu 1D\n",
        "model.add(layers.Dense(16, activation='relu'))\n",
        "\n",
        "model.add(layers.Dense(1, activation='sigmoid'))\n",
        "\n",
        "model.summary()\n",
        "# Auswahl der Loss-Function und des Optimizers\n",
        "# binary_crossentropy muss bestehen bleiben, da binäres Problem\n",
        "model.compile(loss='binary_crossentropy',\n",
        "              optimizer='adam',\n",
        "              metrics=['accuracy'])\n"
      ],
      "execution_count": 0,
      "outputs": [
        {
          "output_type": "stream",
          "text": [
            "WARNING:tensorflow:From /usr/local/lib/python3.6/dist-packages/tensorflow/python/framework/op_def_library.py:263: colocate_with (from tensorflow.python.framework.ops) is deprecated and will be removed in a future version.\n",
            "Instructions for updating:\n",
            "Colocations handled automatically by placer.\n",
            "_________________________________________________________________\n",
            "Layer (type)                 Output Shape              Param #   \n",
            "=================================================================\n",
            "conv2d_1 (Conv2D)            (None, 38, 78, 16)        448       \n",
            "_________________________________________________________________\n",
            "max_pooling2d_1 (MaxPooling2 (None, 19, 39, 16)        0         \n",
            "_________________________________________________________________\n",
            "conv2d_2 (Conv2D)            (None, 17, 37, 16)        2320      \n",
            "_________________________________________________________________\n",
            "max_pooling2d_2 (MaxPooling2 (None, 8, 18, 16)         0         \n",
            "_________________________________________________________________\n",
            "flatten_1 (Flatten)          (None, 2304)              0         \n",
            "_________________________________________________________________\n",
            "dense_1 (Dense)              (None, 16)                36880     \n",
            "_________________________________________________________________\n",
            "dense_2 (Dense)              (None, 1)                 17        \n",
            "=================================================================\n",
            "Total params: 39,665\n",
            "Trainable params: 39,665\n",
            "Non-trainable params: 0\n",
            "_________________________________________________________________\n"
          ],
          "name": "stdout"
        },
        {
          "output_type": "stream",
          "text": [
            "Using TensorFlow backend.\n"
          ],
          "name": "stderr"
        }
      ]
    },
    {
      "metadata": {
        "id": "hKQN8cy1VsQJ",
        "colab_type": "code",
        "outputId": "0d138cc5-33bd-49b6-e8d4-c5b6986b860c",
        "colab": {
          "base_uri": "https://localhost:8080/",
          "height": 51
        }
      },
      "cell_type": "code",
      "source": [
        "from keras.preprocessing.image import ImageDataGenerator\n",
        "\n",
        "train_datagen = ImageDataGenerator(rescale=1./255,\n",
        "                                   rotation_range=15,\n",
        "                                   width_shift_range=0.3,\n",
        "                                   height_shift_range=0.3,\n",
        "                                   shear_range=0.3,\n",
        "                                   zoom_range=0.3,\n",
        "                                   fill_mode='nearest'\n",
        "                                  )\n",
        "\n",
        "\n",
        "test_datagen = ImageDataGenerator(rescale=1./255)\n",
        "\n",
        "train_generator = train_datagen.flow_from_directory(\n",
        "        base_train_dir,\n",
        "        target_size=(40, 80),\n",
        "        batch_size=500,\n",
        "        class_mode='binary'\n",
        "        )\n",
        "\n",
        "validation_generator = test_datagen.flow_from_directory(\n",
        "        base_test_dir,\n",
        "        target_size=(40, 80),\n",
        "        batch_size=200,\n",
        "        class_mode='binary'\n",
        "        )"
      ],
      "execution_count": 0,
      "outputs": [
        {
          "output_type": "stream",
          "text": [
            "Found 81256 images belonging to 2 classes.\n",
            "Found 22266 images belonging to 2 classes.\n"
          ],
          "name": "stdout"
        }
      ]
    },
    {
      "metadata": {
        "id": "p7IA3_1AV81B",
        "colab_type": "code",
        "outputId": "341b2f37-62b9-44b6-d7cc-64ed1b1bfff0",
        "colab": {
          "base_uri": "https://localhost:8080/",
          "height": 632
        }
      },
      "cell_type": "code",
      "source": [
        "from keras. callbacks import EarlyStopping\n",
        "\n",
        "es = EarlyStopping(monitor='val_acc', patience=5, restore_best_weights=True)\n",
        "\n",
        "history = model.fit_generator(\n",
        "                              train_generator,\n",
        "                              steps_per_epoch=162, \n",
        "                              epochs=100,\n",
        "                              validation_data=validation_generator,\n",
        "                              validation_steps=111, \n",
        "                              callbacks=[es], \n",
        "                             )"
      ],
      "execution_count": 0,
      "outputs": [
        {
          "output_type": "stream",
          "text": [
            "WARNING:tensorflow:From /usr/local/lib/python3.6/dist-packages/tensorflow/python/ops/math_ops.py:3066: to_int32 (from tensorflow.python.ops.math_ops) is deprecated and will be removed in a future version.\n",
            "Instructions for updating:\n",
            "Use tf.cast instead.\n",
            "Epoch 1/100\n",
            "162/162 [==============================] - 133s 823ms/step - loss: 0.2952 - acc: 0.8740 - val_loss: 0.0697 - val_acc: 0.9779\n",
            "Epoch 2/100\n",
            "162/162 [==============================] - 119s 734ms/step - loss: 0.1212 - acc: 0.9558 - val_loss: 0.0809 - val_acc: 0.9715\n",
            "Epoch 3/100\n",
            "162/162 [==============================] - 121s 747ms/step - loss: 0.0934 - acc: 0.9663 - val_loss: 0.0806 - val_acc: 0.9706\n",
            "Epoch 4/100\n",
            "162/162 [==============================] - 121s 746ms/step - loss: 0.0850 - acc: 0.9683 - val_loss: 0.0678 - val_acc: 0.9764\n",
            "Epoch 5/100\n",
            "162/162 [==============================] - 121s 745ms/step - loss: 0.0795 - acc: 0.9703 - val_loss: 0.0556 - val_acc: 0.9812\n",
            "Epoch 6/100\n",
            "162/162 [==============================] - 121s 744ms/step - loss: 0.0698 - acc: 0.9745 - val_loss: 0.0453 - val_acc: 0.9854\n",
            "Epoch 7/100\n",
            "162/162 [==============================] - 122s 751ms/step - loss: 0.0676 - acc: 0.9751 - val_loss: 0.0534 - val_acc: 0.9824\n",
            "Epoch 8/100\n",
            "162/162 [==============================] - 120s 739ms/step - loss: 0.0658 - acc: 0.9763 - val_loss: 0.0665 - val_acc: 0.9797\n",
            "Epoch 9/100\n",
            "162/162 [==============================] - 123s 758ms/step - loss: 0.0621 - acc: 0.9777 - val_loss: 0.0530 - val_acc: 0.9826\n",
            "Epoch 10/100\n",
            "162/162 [==============================] - 118s 728ms/step - loss: 0.0598 - acc: 0.9774 - val_loss: 0.0436 - val_acc: 0.9858\n",
            "Epoch 11/100\n",
            "162/162 [==============================] - 120s 741ms/step - loss: 0.0550 - acc: 0.9801 - val_loss: 0.0294 - val_acc: 0.9906\n",
            "Epoch 12/100\n",
            "162/162 [==============================] - 120s 738ms/step - loss: 0.0541 - acc: 0.9809 - val_loss: 0.0522 - val_acc: 0.9839\n",
            "Epoch 13/100\n",
            "162/162 [==============================] - 119s 733ms/step - loss: 0.0505 - acc: 0.9819 - val_loss: 0.0382 - val_acc: 0.9874\n",
            "Epoch 14/100\n",
            "162/162 [==============================] - 120s 740ms/step - loss: 0.0481 - acc: 0.9829 - val_loss: 0.0321 - val_acc: 0.9891\n",
            "Epoch 15/100\n",
            "162/162 [==============================] - 118s 727ms/step - loss: 0.0452 - acc: 0.9836 - val_loss: 0.0404 - val_acc: 0.9865\n",
            "Epoch 16/100\n",
            "162/162 [==============================] - 118s 728ms/step - loss: 0.0419 - acc: 0.9853 - val_loss: 0.0350 - val_acc: 0.9888\n"
          ],
          "name": "stdout"
        }
      ]
    },
    {
      "metadata": {
        "scrolled": true,
        "id": "gDlfCNijQ72j",
        "colab_type": "code",
        "outputId": "9464f7dd-244e-4165-af5b-d33dabf3f76e",
        "colab": {
          "base_uri": "https://localhost:8080/",
          "height": 295
        }
      },
      "cell_type": "code",
      "source": [
        "# Grafische (Verlaufs-)Darstellung des Loss\n",
        "\n",
        "%matplotlib inline  \n",
        "import matplotlib.pyplot as plt\n",
        "\n",
        "acc = history.history['acc']\n",
        "val_acc = history.history['val_acc']\n",
        "loss = history.history['loss']\n",
        "val_loss = history.history['val_loss']\n",
        "\n",
        "epochs = range(1, len(acc) + 1)\n",
        "\n",
        "# \"bo\" = Blauer Punkt\n",
        "plt.plot(epochs, acc, 'bo', label='Training Accuracy')\n",
        "# \"b\" = Blaue Linie\n",
        "plt.plot(epochs, val_acc, 'b', label='Validation Accuracy')\n",
        "plt.title('Training and validation accuracy')\n",
        "plt.xlabel('Epochs')\n",
        "plt.ylabel('Accuracy')\n",
        "plt.legend()\n",
        "\n",
        "plt.show()"
      ],
      "execution_count": 0,
      "outputs": [
        {
          "output_type": "display_data",
          "data": {
            "image/png": "[encoded data removed]",
            "text/plain": [
              "<Figure size 432x288 with 1 Axes>"
            ]
          },
          "metadata": {
            "tags": []
          }
        }
      ]
    },
    {
      "metadata": {
        "id": "NfrvdBadQ72r",
        "colab_type": "code",
        "colab": {}
      },
      "cell_type": "code",
      "source": [
        ""
      ],
      "execution_count": 0,
      "outputs": []
    }
  ]
}