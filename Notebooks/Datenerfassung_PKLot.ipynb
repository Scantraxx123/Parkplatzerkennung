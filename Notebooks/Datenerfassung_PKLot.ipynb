{
 "cells": [
  {
   "cell_type": "code",
   "execution_count": 1,
   "metadata": {},
   "outputs": [],
   "source": [
    "import numpy as np\n",
    "import matplotlib.pyplot as plt\n",
    "import os\n",
    "import cv2\n",
    "import random\n",
    "\n",
    "%matplotlib inline\n",
    "\n",
    "# Pfad der Daten\n",
    "DIRECTORY = \"F:/Machine Learning Data/PKLot/PKLotSegmented\"\n",
    "\n",
    "# Ordner der Daten; der Index entspricht dem Label\n",
    "PARKING_LOT = [\"Empty\", \"Occupied\"]\n",
    "\n",
    "# Array für die Trainingsdaten\n",
    "training_data = []\n",
    "\n",
    "# Festlegen der Größe der Images\n",
    "IMG_SIZE_X = 40\n",
    "IMG_SIZE_Y = 80\n",
    "\n",
    "# Trainingsdaten erzeugen\n",
    "for parkinglot in PARKING_LOT: # Durchgehen der Pfade\n",
    "    path = os.path.join(DIRECTORY, parkinglot) # Aktueller Pfad\n",
    "    label = PARKING_LOT.index(parkinglot) # Aktuelles label\n",
    "    for img in os.listdir(path): # Jedes Image im aktuellen Pfad durchgehen\n",
    "        img_array = cv2.imread(os.path.join(path, img), cv2.IMREAD_GRAYSCALE) # Image als Array einlesen\n",
    "        scaled_array = cv2.resize(img_array, (IMG_SIZE_X, IMG_SIZE_Y)) # Skalieren des Images\n",
    "        training_data.append([scaled_array, label]) # Image-Array zu Trainingsdaten hinzufügen        "
   ]
  },
  {
   "cell_type": "code",
   "execution_count": 2,
   "metadata": {},
   "outputs": [],
   "source": [
    "# Zum optimalen Lernen werden die Daten gemischt\n",
    "random.shuffle(training_data)"
   ]
  },
  {
   "cell_type": "code",
   "execution_count": 3,
   "metadata": {},
   "outputs": [],
   "source": [
    "# Listen für die Daten\n",
    "train_data = []\n",
    "train_label = []\n",
    "\n",
    "for features, label in training_data:\n",
    "    train_data.append(features)\n",
    "    train_label.append(label)\n",
    "\n",
    "# Trainingsdaten müssen in ein Numpy-Array umgewandelt werden\n",
    "train_data = np.array(train_data).reshape(-1, IMG_SIZE_X, IMG_SIZE_Y, 1)"
   ]
  },
  {
   "cell_type": "code",
   "execution_count": 4,
   "metadata": {},
   "outputs": [],
   "source": [
    "# Speichern der Daten\n",
    "np.save('features.npy', train_data)\n",
    "np.save('labels.npy', train_label)"
   ]
  },
  {
   "cell_type": "code",
   "execution_count": null,
   "metadata": {},
   "outputs": [],
   "source": []
  }
 ],
 "metadata": {
  "kernelspec": {
   "display_name": "Python 3",
   "language": "python",
   "name": "python3"
  },
  "language_info": {
   "codemirror_mode": {
    "name": "ipython",
    "version": 3
   },
   "file_extension": ".py",
   "mimetype": "text/x-python",
   "name": "python",
   "nbconvert_exporter": "python",
   "pygments_lexer": "ipython3",
   "version": "3.7.1"
  }
 },
 "nbformat": 4,
 "nbformat_minor": 2
}
