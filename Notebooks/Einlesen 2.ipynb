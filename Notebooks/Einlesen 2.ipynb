{
 "cells": [
  {
   "cell_type": "code",
   "execution_count": 1,
   "metadata": {},
   "outputs": [
    {
     "ename": "IndentationError",
     "evalue": "expected an indented block (<ipython-input-1-0b6111745816>, line 37)",
     "output_type": "error",
     "traceback": [
      "\u001b[0;36m  File \u001b[0;32m\"<ipython-input-1-0b6111745816>\"\u001b[0;36m, line \u001b[0;32m37\u001b[0m\n\u001b[0;31m    fobj_in.close()\u001b[0m\n\u001b[0m                   ^\u001b[0m\n\u001b[0;31mIndentationError\u001b[0m\u001b[0;31m:\u001b[0m expected an indented block\n"
     ]
    }
   ],
   "source": [
    "import numpy as np\n",
    "import matplotlib.pyplot as plt\n",
    "import os\n",
    "import cv2\n",
    "import random\n",
    "\n",
    "%matplotlib inline\n",
    "\n",
    "# Pfad der Daten\n",
    "\n",
    "\n",
    "# Ordner der Daten; der Index entspricht dem Label\n",
    "\n",
    "\n",
    "# Array für die Trainingsdaten\n",
    "training_data = []\n",
    "\n",
    "# Festlegen der Größe der Images\n",
    "IMG_SIZE_X = 40\n",
    "IMG_SIZE_Y = 80\n",
    "\n",
    "fixpath = \"/CNR-EXT-Patches-150x150/PATCHES/\"\n",
    "\n",
    "\n",
    "fobj_in = open(\"all.txt\")\n",
    "for line in fobj_in:\n",
    "    lineSplit = line.split()\n",
    "    try:\n",
    "        mypath = fixpath + lineSplit[0] \n",
    "        label =  lineSplit[1]\n",
    "        print(mypath)\n",
    "        img_array = cv2.imread(mypath, cv2.IMREAD_GRAYSCALE) # Image als Array einlesen\n",
    "        scaled_array = cv2.resize(img_array, (IMG_SIZE_X, IMG_SIZE_Y)) # Skalieren des Images\n",
    "        training_data.append([scaled_array, label])\n",
    "    except Exception as e:\n",
    "        print(str(e))\n",
    "fobj_in.close()\n",
    "\n",
    "# Trainingsdaten erzeugen\n"
   ]
  },
  {
   "cell_type": "code",
   "execution_count": 9,
   "metadata": {},
   "outputs": [],
   "source": [
    "# Listen für die Daten\n",
    "train_data = []\n",
    "train_label = []\n",
    "\n",
    "for features, label in training_data:\n",
    "    train_data.append(features)\n",
    "    train_label.append(label)\n",
    "\n",
    "# Trainingsdaten müssen in ein Numpy-Array umgewandelt werden\n",
    "train_data = np.array(train_data).reshape(-1, IMG_SIZE_X, IMG_SIZE_Y, 1)"
   ]
  },
  {
   "cell_type": "code",
   "execution_count": 10,
   "metadata": {},
   "outputs": [],
   "source": [
    "# Speichern der Daten\n",
    "np.save('features2.npy', train_data)\n",
    "np.save('labels2.npy', train_label)"
   ]
  },
  {
   "cell_type": "code",
   "execution_count": null,
   "metadata": {},
   "outputs": [],
   "source": []
  }
 ],
 "metadata": {
  "kernelspec": {
   "display_name": "Python 3",
   "language": "python",
   "name": "python3"
  },
  "language_info": {
   "codemirror_mode": {
    "name": "ipython",
    "version": 3
   },
   "file_extension": ".py",
   "mimetype": "text/x-python",
   "name": "python",
   "nbconvert_exporter": "python",
   "pygments_lexer": "ipython3",
   "version": "3.7.1"
  }
 },
 "nbformat": 4,
 "nbformat_minor": 2
}
