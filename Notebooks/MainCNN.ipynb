{
  "nbformat": 4,
  "nbformat_minor": 0,
  "metadata": {
    "colab": {
      "name": "CNNwithGen2.ipynb",
      "version": "0.3.2",
      "provenance": [],
      "collapsed_sections": []
    },
    "language_info": {
      "codemirror_mode": {
        "name": "ipython",
        "version": 3
      },
      "file_extension": ".py",
      "mimetype": "text/x-python",
      "name": "python",
      "nbconvert_exporter": "python",
      "pygments_lexer": "ipython3",
      "version": "3.7.1"
    },
    "kernelspec": {
      "display_name": "Python 3",
      "language": "python",
      "name": "python3"
    },
    "accelerator": "GPU"
  },
  "cells": [
    {
      "cell_type": "code",
      "metadata": {
        "colab_type": "code",
        "id": "EkPo-oGGWq5F",
        "outputId": "81403a50-329f-46fa-fe40-e16d65e4c82e",
        "colab": {
          "base_uri": "https://localhost:8080/",
          "height": 309
        }
      },
      "source": [
        "!wget --no-check-certificate \"https://onedrive.live.com/download?cid=11F71A1654195330&resid=11F71A1654195330%2145779&authkey=AHYqi-q2jYSmI5k\""
      ],
      "execution_count": 1,
      "outputs": [
        {
          "output_type": "stream",
          "text": [
            "--2019-05-14 15:27:26--  https://onedrive.live.com/download?cid=11F71A1654195330&resid=11F71A1654195330%2145779&authkey=AHYqi-q2jYSmI5k\n",
            "Resolving onedrive.live.com (onedrive.live.com)... 13.107.42.13\n",
            "Connecting to onedrive.live.com (onedrive.live.com)|13.107.42.13|:443... connected.\n",
            "HTTP request sent, awaiting response... 302 Found\n",
            "Location: https://lgojyq.am.files.1drv.com/y4mJEEFKzw_iUS2JMivZ2ySVk1HhfIMHTHiuPjAFJUDWT17Ah46FEUzg4RWBpMwih4XqX03734v1ZeJYIN-Yz50unf7PHCmgTWdjt-ziB5yeJpQ6taiifmWB3c22VNndLkHml-QYIozegO-MnfzY5EDL_XD9kkamm_YDuALhdZOgcBKwaqNs6wLAiCrUeCCstGKamJSJXfIYsZDIxMDM4tfcw/ALL_50K.zip?download&psid=1 [following]\n",
            "--2019-05-14 15:27:26--  https://lgojyq.am.files.1drv.com/y4mJEEFKzw_iUS2JMivZ2ySVk1HhfIMHTHiuPjAFJUDWT17Ah46FEUzg4RWBpMwih4XqX03734v1ZeJYIN-Yz50unf7PHCmgTWdjt-ziB5yeJpQ6taiifmWB3c22VNndLkHml-QYIozegO-MnfzY5EDL_XD9kkamm_YDuALhdZOgcBKwaqNs6wLAiCrUeCCstGKamJSJXfIYsZDIxMDM4tfcw/ALL_50K.zip?download&psid=1\n",
            "Resolving lgojyq.am.files.1drv.com (lgojyq.am.files.1drv.com)... 13.107.42.12\n",
            "Connecting to lgojyq.am.files.1drv.com (lgojyq.am.files.1drv.com)|13.107.42.12|:443... connected.\n",
            "HTTP request sent, awaiting response... 200 OK\n",
            "Length: 124427118 (119M) [application/zip]\n",
            "Saving to: ‘download?cid=11F71A1654195330&resid=11F71A1654195330!45779&authkey=AHYqi-q2jYSmI5k’\n",
            "\n",
            "download?cid=11F71A 100%[===================>] 118.66M  28.8MB/s    in 5.9s    \n",
            "\n",
            "2019-05-14 15:27:33 (20.2 MB/s) - ‘download?cid=11F71A1654195330&resid=11F71A1654195330!45779&authkey=AHYqi-q2jYSmI5k’ saved [124427118/124427118]\n",
            "\n"
          ],
          "name": "stdout"
        }
      ]
    },
    {
      "cell_type": "code",
      "metadata": {
        "colab_type": "code",
        "id": "ZqSyfoiY01E3",
        "colab": {}
      },
      "source": [
        "!unzip -q \"download?cid=11F71A1654195330&resid=11F71A1654195330!45779&authkey=AHYqi-q2jYSmI5k\""
      ],
      "execution_count": 0,
      "outputs": []
    },
    {
      "cell_type": "code",
      "metadata": {
        "colab_type": "code",
        "id": "JW4ycYhNQ72d",
        "outputId": "b27d1fd5-35e4-4b02-8c70-7993fad1079a",
        "colab": {
          "base_uri": "https://localhost:8080/",
          "height": 442
        }
      },
      "source": [
        "import numpy as np\n",
        "import tensorflow as tf\n",
        "from keras import models\n",
        "from keras import layers\n",
        "import os\n",
        "\n",
        "\n",
        "data_dir = './ALL_50K'\n",
        "base_train_dir = os.path.join(data_dir, 'train')\n",
        "base_test_dir = os.path.join(data_dir, 'test')\n",
        "\n",
        "\n",
        "# Das CNN\n",
        "# Das Model arbeitet sequentiell\n",
        "# Aktivierungsfunktion kann ersetzt werden\n",
        "# Die Anzahl der Neuronen der Layer kann verändert werden\n",
        "model = models.Sequential()\n",
        "model.add(layers.Conv2D(16, (3, 3), activation='relu', input_shape=(60, 60, 3), use_bias=False))\n",
        "model.add(layers.BatchNormalization())\n",
        "model.add(layers.MaxPooling2D(pool_size=(2, 2)))\n",
        "\n",
        "model.add(layers.Conv2D(16, (3, 3), activation='relu', use_bias=False))\n",
        "model.add(layers.BatchNormalization())\n",
        "model.add(layers.MaxPooling2D(pool_size=(2, 2)))\n",
        "\n",
        "model.add(layers.Flatten()) # \"Abflachen\" der Layer zu 1D\n",
        "model.add(layers.Dense(10, activation='relu'))\n",
        "\n",
        "model.add(layers.Dense(1, activation='sigmoid'))\n",
        "\n",
        "model.summary()\n",
        "# Auswahl der Loss-Function und des Optimizers\n",
        "# binary_crossentropy muss bestehen bleiben, da binäres Problem\n",
        "model.compile(loss='binary_crossentropy',\n",
        "              optimizer='adam',\n",
        "              metrics=['accuracy'])\n"
      ],
      "execution_count": 9,
      "outputs": [
        {
          "output_type": "stream",
          "text": [
            "_________________________________________________________________\n",
            "Layer (type)                 Output Shape              Param #   \n",
            "=================================================================\n",
            "conv2d_11 (Conv2D)           (None, 58, 58, 16)        432       \n",
            "_________________________________________________________________\n",
            "batch_normalization_1 (Batch (None, 58, 58, 16)        64        \n",
            "_________________________________________________________________\n",
            "max_pooling2d_11 (MaxPooling (None, 29, 29, 16)        0         \n",
            "_________________________________________________________________\n",
            "conv2d_12 (Conv2D)           (None, 27, 27, 16)        2304      \n",
            "_________________________________________________________________\n",
            "batch_normalization_2 (Batch (None, 27, 27, 16)        64        \n",
            "_________________________________________________________________\n",
            "max_pooling2d_12 (MaxPooling (None, 13, 13, 16)        0         \n",
            "_________________________________________________________________\n",
            "flatten_5 (Flatten)          (None, 2704)              0         \n",
            "_________________________________________________________________\n",
            "dense_9 (Dense)              (None, 10)                27050     \n",
            "_________________________________________________________________\n",
            "dense_10 (Dense)             (None, 1)                 11        \n",
            "=================================================================\n",
            "Total params: 29,925\n",
            "Trainable params: 29,861\n",
            "Non-trainable params: 64\n",
            "_________________________________________________________________\n"
          ],
          "name": "stdout"
        }
      ]
    },
    {
      "cell_type": "code",
      "metadata": {
        "colab_type": "code",
        "id": "hKQN8cy1VsQJ",
        "outputId": "30252235-b6c4-4ca9-f072-d59a2246420a",
        "colab": {
          "base_uri": "https://localhost:8080/",
          "height": 51
        }
      },
      "source": [
        "from keras.preprocessing.image import ImageDataGenerator\n",
        "\n",
        "train_datagen = ImageDataGenerator(rescale=1./255)\n",
        "\n",
        "\n",
        "\n",
        "test_datagen = ImageDataGenerator(rescale=1./255)\n",
        "\n",
        "train_generator = train_datagen.flow_from_directory(\n",
        "        base_train_dir,\n",
        "        target_size=(60, 60),\n",
        "        batch_size=128,\n",
        "        class_mode='binary'\n",
        "        )\n",
        "\n",
        "validation_generator = test_datagen.flow_from_directory(\n",
        "        base_test_dir,\n",
        "        target_size=(60, 60),\n",
        "        batch_size=128,\n",
        "        class_mode='binary'\n",
        "        )"
      ],
      "execution_count": 10,
      "outputs": [
        {
          "output_type": "stream",
          "text": [
            "Found 43412 images belonging to 2 classes.\n",
            "Found 11590 images belonging to 2 classes.\n"
          ],
          "name": "stdout"
        }
      ]
    },
    {
      "cell_type": "code",
      "metadata": {
        "colab_type": "code",
        "id": "p7IA3_1AV81B",
        "outputId": "ce75d6a9-720f-41a1-9539-4575b64153e1",
        "colab": {
          "base_uri": "https://localhost:8080/",
          "height": 425
        }
      },
      "source": [
        "from keras. callbacks import EarlyStopping\n",
        "\n",
        "es = EarlyStopping(monitor='val_acc', patience=5, restore_best_weights=True)\n",
        "\n",
        "history = model.fit_generator(\n",
        "                              train_generator,\n",
        "                              steps_per_epoch=339, \n",
        "                              epochs=100,\n",
        "                              validation_data=validation_generator,\n",
        "                              validation_steps=90, \n",
        "                              callbacks=[es]\n",
        "                             )"
      ],
      "execution_count": 12,
      "outputs": [
        {
          "output_type": "stream",
          "text": [
            "Epoch 1/100\n",
            "339/339 [==============================] - 45s 131ms/step - loss: 0.0333 - acc: 0.9891 - val_loss: 0.1367 - val_acc: 0.9431\n",
            "Epoch 2/100\n",
            "339/339 [==============================] - 44s 131ms/step - loss: 0.0099 - acc: 0.9974 - val_loss: 0.1008 - val_acc: 0.9588\n",
            "Epoch 3/100\n",
            "339/339 [==============================] - 43s 127ms/step - loss: 0.0063 - acc: 0.9986 - val_loss: 0.0782 - val_acc: 0.9709\n",
            "Epoch 4/100\n",
            "339/339 [==============================] - 45s 132ms/step - loss: 0.0058 - acc: 0.9988 - val_loss: 0.2693 - val_acc: 0.9196\n",
            "Epoch 5/100\n",
            "339/339 [==============================] - 43s 126ms/step - loss: 0.0058 - acc: 0.9988 - val_loss: 0.2763 - val_acc: 0.9215\n",
            "Epoch 6/100\n",
            "339/339 [==============================] - 44s 130ms/step - loss: 0.0053 - acc: 0.9988 - val_loss: 0.2252 - val_acc: 0.9426\n",
            "Epoch 7/100\n",
            "339/339 [==============================] - 42s 125ms/step - loss: 0.0050 - acc: 0.9989 - val_loss: 0.0502 - val_acc: 0.9873\n",
            "Epoch 8/100\n",
            "339/339 [==============================] - 43s 128ms/step - loss: 0.0051 - acc: 0.9989 - val_loss: 0.2392 - val_acc: 0.9413\n",
            "Epoch 9/100\n",
            "339/339 [==============================] - 42s 124ms/step - loss: 0.0043 - acc: 0.9991 - val_loss: 0.1032 - val_acc: 0.9661\n",
            "Epoch 10/100\n",
            "339/339 [==============================] - 43s 127ms/step - loss: 0.0043 - acc: 0.9989 - val_loss: 0.0896 - val_acc: 0.9723\n",
            "Epoch 11/100\n",
            "339/339 [==============================] - 42s 125ms/step - loss: 0.0050 - acc: 0.9990 - val_loss: 0.1341 - val_acc: 0.9589\n",
            "Epoch 12/100\n",
            "339/339 [==============================] - 44s 129ms/step - loss: 0.0041 - acc: 0.9990 - val_loss: 0.1083 - val_acc: 0.9784\n"
          ],
          "name": "stdout"
        }
      ]
    },
    {
      "cell_type": "code",
      "metadata": {
        "colab_type": "code",
        "id": "gDlfCNijQ72j",
        "scrolled": true,
        "outputId": "47ee7436-8400-4e51-8935-03eefe78f3be",
        "colab": {
          "base_uri": "https://localhost:8080/",
          "height": 295
        }
      },
      "source": [
        "# Grafische (Verlaufs-)Darstellung des Loss\n",
        "\n",
        "%matplotlib inline  \n",
        "import matplotlib.pyplot as plt\n",
        "\n",
        "acc = history.history['acc']\n",
        "val_acc = history.history['val_acc']\n",
        "loss = history.history['loss']\n",
        "val_loss = history.history['val_loss']\n",
        "\n",
        "epochs = range(1, len(acc) + 1)\n",
        "\n",
        "# \"bo\" = Blauer Punkt\n",
        "plt.plot(epochs, acc, 'bo', label='Training Accuracy')\n",
        "# \"b\" = Blaue Linie\n",
        "plt.plot(epochs, val_acc, 'b', label='Validation Accuracy')\n",
        "plt.title('Training and validation accuracy')\n",
        "plt.xlabel('Epochs')\n",
        "plt.ylabel('Accuracy')\n",
        "plt.legend()\n",
        "\n",
        "plt.show()"
      ],
      "execution_count": 13,
      "outputs": [
        {
          "output_type": "display_data",
          "data": {
            "image/png": "[encoded data removed]",
            "text/plain": [
              "<Figure size 432x288 with 1 Axes>"
            ]
          },
          "metadata": {
            "tags": []
          }
        }
      ]
    },
    {
      "cell_type": "code",
      "metadata": {
        "colab_type": "code",
        "id": "NfrvdBadQ72r",
        "outputId": "5b1e7567-a668-49bc-beaa-ed87c0129cf3",
        "colab": {
          "base_uri": "https://localhost:8080/",
          "height": 309
        }
      },
      "source": [
        "!wget --no-check-certificate \"https://onedrive.live.com/download?cid=11F71A1654195330&resid=11F71A1654195330%2145681&authkey=AIicdVtkBEkQgvU\""
      ],
      "execution_count": 14,
      "outputs": [
        {
          "output_type": "stream",
          "text": [
            "--2019-05-14 15:50:48--  https://onedrive.live.com/download?cid=11F71A1654195330&resid=11F71A1654195330%2145681&authkey=AIicdVtkBEkQgvU\n",
            "Resolving onedrive.live.com (onedrive.live.com)... 13.107.42.13\n",
            "Connecting to onedrive.live.com (onedrive.live.com)|13.107.42.13|:443... connected.\n",
            "HTTP request sent, awaiting response... 302 Found\n",
            "Location: https://mwrg1q.am.files.1drv.com/y4mzg7OQlh_U2TC3Y5W_gH21GH-EyZnG_Q7c6eA9uIShh4uRn2qKbAientQjHVfLKs7VhvCclUC6S6oYSO__zoq0nKA2bwmfsXJEv2_Q5zjMC1CsmktIQcJemcobs99YjTR02Lpwev_ep1mNWuP71pdwDXmB-SPKzxUIPnS1_lu5bYynU2pARNPEwM8yGDvV4KUUMjk8mcoyJ1hlqQ2H18iBw/CNR_TEST.zip?download&psid=1 [following]\n",
            "--2019-05-14 15:50:49--  https://mwrg1q.am.files.1drv.com/y4mzg7OQlh_U2TC3Y5W_gH21GH-EyZnG_Q7c6eA9uIShh4uRn2qKbAientQjHVfLKs7VhvCclUC6S6oYSO__zoq0nKA2bwmfsXJEv2_Q5zjMC1CsmktIQcJemcobs99YjTR02Lpwev_ep1mNWuP71pdwDXmB-SPKzxUIPnS1_lu5bYynU2pARNPEwM8yGDvV4KUUMjk8mcoyJ1hlqQ2H18iBw/CNR_TEST.zip?download&psid=1\n",
            "Resolving mwrg1q.am.files.1drv.com (mwrg1q.am.files.1drv.com)... 13.107.42.12\n",
            "Connecting to mwrg1q.am.files.1drv.com (mwrg1q.am.files.1drv.com)|13.107.42.12|:443... connected.\n",
            "HTTP request sent, awaiting response... 200 OK\n",
            "Length: 437835825 (418M) [application/zip]\n",
            "Saving to: ‘download?cid=11F71A1654195330&resid=11F71A1654195330!45681&authkey=AIicdVtkBEkQgvU’\n",
            "\n",
            "download?cid=11F71A 100%[===================>] 417.55M  38.9MB/s    in 14s     \n",
            "\n",
            "2019-05-14 15:51:05 (28.9 MB/s) - ‘download?cid=11F71A1654195330&resid=11F71A1654195330!45681&authkey=AIicdVtkBEkQgvU’ saved [437835825/437835825]\n",
            "\n"
          ],
          "name": "stdout"
        }
      ]
    },
    {
      "cell_type": "code",
      "metadata": {
        "id": "r9TSFzB66SSz",
        "colab_type": "code",
        "colab": {}
      },
      "source": [
        "!unzip -q \"download?cid=11F71A1654195330&resid=11F71A1654195330!45681&authkey=AIicdVtkBEkQgvU\""
      ],
      "execution_count": 0,
      "outputs": []
    },
    {
      "cell_type": "code",
      "metadata": {
        "id": "nPT62hzg6Sl6",
        "colab_type": "code",
        "outputId": "de2186a9-a646-488c-ad57-db59967185da",
        "colab": {
          "base_uri": "https://localhost:8080/",
          "height": 51
        }
      },
      "source": [
        "temp = os.path.join(\"./CNR\", 'test')\n",
        "\n",
        "test_generator = test_datagen.flow_from_directory(\n",
        "        temp,\n",
        "        target_size=(60, 60),\n",
        "        batch_size=200,\n",
        "        class_mode='binary'\n",
        "        )\n",
        "\n",
        "\n",
        "model.evaluate_generator(test_generator,20)"
      ],
      "execution_count": 16,
      "outputs": [
        {
          "output_type": "stream",
          "text": [
            "Found 144965 images belonging to 2 classes.\n"
          ],
          "name": "stdout"
        },
        {
          "output_type": "execute_result",
          "data": {
            "text/plain": [
              "[0.5833205178380012, 0.8722499936819077]"
            ]
          },
          "metadata": {
            "tags": []
          },
          "execution_count": 16
        }
      ]
    },
    {
      "cell_type": "code",
      "metadata": {
        "id": "L8-4Hk1TJeNO",
        "colab_type": "code",
        "colab": {}
      },
      "source": [
        ""
      ],
      "execution_count": 0,
      "outputs": []
    }
  ]
}