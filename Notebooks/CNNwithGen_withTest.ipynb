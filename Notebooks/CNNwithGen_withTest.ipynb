{
  "nbformat": 4,
  "nbformat_minor": 0,
  "metadata": {
    "colab": {
      "name": "CNNwithGen.ipynb",
      "version": "0.3.2",
      "provenance": [],
      "collapsed_sections": []
    },
    "language_info": {
      "codemirror_mode": {
        "name": "ipython",
        "version": 3
      },
      "file_extension": ".py",
      "mimetype": "text/x-python",
      "name": "python",
      "nbconvert_exporter": "python",
      "pygments_lexer": "ipython3",
      "version": "3.7.1"
    },
    "kernelspec": {
      "display_name": "Python 3",
      "language": "python",
      "name": "python3"
    },
    "accelerator": "GPU"
  },
  "cells": [
    {
      "cell_type": "code",
      "metadata": {
        "colab_type": "code",
        "id": "EkPo-oGGWq5F",
        "outputId": "6477dcd2-d4d1-4d69-c8e4-0304a77934cd",
        "colab": {
          "base_uri": "https://localhost:8080/",
          "height": 309
        }
      },
      "source": [
        "!wget --no-check-certificate \"https://onedrive.live.com/download?cid=11F71A1654195330&resid=11F71A1654195330%2145577&authkey=ADhTTaP_EXHvX0s\""
      ],
      "execution_count": 0,
      "outputs": [
        {
          "output_type": "stream",
          "text": [
            "--2019-05-05 17:19:15--  https://onedrive.live.com/download?cid=11F71A1654195330&resid=11F71A1654195330%2145577&authkey=ADhTTaP_EXHvX0s\n",
            "Resolving onedrive.live.com (onedrive.live.com)... 13.107.42.13\n",
            "Connecting to onedrive.live.com (onedrive.live.com)|13.107.42.13|:443... connected.\n",
            "HTTP request sent, awaiting response... 302 Found\n",
            "Location: https://lgr3dw.am.files.1drv.com/y4mZ9Uq7BMdkIaYtlrUM0qn3tF9kN6Mv1lk1Y4KjpZte0pchHU4uulbYxqof3CohMdifQj7aNKOCSjKWC_Wm4LhUwsSnk-jqU41y_jB9-CUaY996vintiywudNx783vTvqPx-VRC-2jBHbwmexYti6vmuj2O1Aw7hRopgQzVcYcrF-E4-22CZC-l3wCXSSUi-AK0fsLEPbGCPKAZAWFuW7O3g/UFPR04.zip?download&psid=1 [following]\n",
            "--2019-05-05 17:19:16--  https://lgr3dw.am.files.1drv.com/y4mZ9Uq7BMdkIaYtlrUM0qn3tF9kN6Mv1lk1Y4KjpZte0pchHU4uulbYxqof3CohMdifQj7aNKOCSjKWC_Wm4LhUwsSnk-jqU41y_jB9-CUaY996vintiywudNx783vTvqPx-VRC-2jBHbwmexYti6vmuj2O1Aw7hRopgQzVcYcrF-E4-22CZC-l3wCXSSUi-AK0fsLEPbGCPKAZAWFuW7O3g/UFPR04.zip?download&psid=1\n",
            "Resolving lgr3dw.am.files.1drv.com (lgr3dw.am.files.1drv.com)... 13.107.42.12\n",
            "Connecting to lgr3dw.am.files.1drv.com (lgr3dw.am.files.1drv.com)|13.107.42.12|:443... connected.\n",
            "HTTP request sent, awaiting response... 200 OK\n",
            "Length: 271608072 (259M) [application/zip]\n",
            "Saving to: ‘download?cid=11F71A1654195330&resid=11F71A1654195330!45577&authkey=ADhTTaP_EXHvX0s’\n",
            "\n",
            "download?cid=11F71A 100%[===================>] 259.03M  32.1MB/s    in 8.4s    \n",
            "\n",
            "2019-05-05 17:19:25 (30.9 MB/s) - ‘download?cid=11F71A1654195330&resid=11F71A1654195330!45577&authkey=ADhTTaP_EXHvX0s’ saved [271608072/271608072]\n",
            "\n"
          ],
          "name": "stdout"
        }
      ]
    },
    {
      "cell_type": "code",
      "metadata": {
        "id": "vMSIdiWmAZH3",
        "colab_type": "code",
        "colab": {}
      },
      "source": [
        ""
      ],
      "execution_count": 0,
      "outputs": []
    },
    {
      "cell_type": "markdown",
      "metadata": {
        "id": "4HR3netLAYma",
        "colab_type": "text"
      },
      "source": [
        ""
      ]
    },
    {
      "cell_type": "code",
      "metadata": {
        "colab_type": "code",
        "id": "ZqSyfoiY01E3",
        "outputId": "5de9257e-e91b-476c-b6ad-9d0188a089f9",
        "colab": {
          "base_uri": "https://localhost:8080/",
          "height": 34
        }
      },
      "source": [
        "!info \"download?cid=11F71A1654195330&resid=11F71A1654195330!45577&authkey=ADhTTaP_EXHvX0s\"\n",
        "!unzip -q \"download?cid=11F71A1654195330&resid=11F71A1654195330!45577&authkey=ADhTTaP_EXHvX0s\""
      ],
      "execution_count": 0,
      "outputs": [
        {
          "output_type": "stream",
          "text": [
            "/bin/bash: info: command not found\n"
          ],
          "name": "stdout"
        }
      ]
    },
    {
      "cell_type": "code",
      "metadata": {
        "colab_type": "code",
        "id": "JW4ycYhNQ72d",
        "outputId": "d5521251-2bed-4f5c-a956-4e7bbfa82f8f",
        "colab": {
          "base_uri": "https://localhost:8080/",
          "height": 442
        }
      },
      "source": [
        "import numpy as np\n",
        "import tensorflow as tf\n",
        "from keras import models\n",
        "from keras import layers\n",
        "import os\n",
        "\n",
        "\n",
        "data_dir = './UFPR04'\n",
        "base_train_dir = os.path.join(data_dir, 'train')\n",
        "base_test_dir = os.path.join(data_dir, 'test')\n",
        "\n",
        "\n",
        "# Das CNN\n",
        "# Das Model arbeitet sequentiell\n",
        "# Aktivierungsfunktion kann ersetzt werden\n",
        "# Die Anzahl der Neuronen der Layer kann verändert werden\n",
        "model = models.Sequential()\n",
        "model.add(layers.Conv2D(16, (3, 3), activation='relu', input_shape=(40, 80, 3)))\n",
        "model.add(layers.MaxPooling2D(pool_size=(2, 2)))\n",
        "\n",
        "model.add(layers.Conv2D(16, (3, 3), activation='relu'))\n",
        "model.add(layers.MaxPooling2D(pool_size=(2, 2)))\n",
        "\n",
        "model.add(layers.Flatten()) # \"Abflachen\" der Layer zu 1D\n",
        "model.add(layers.Dense(16, activation='relu'))\n",
        "\n",
        "model.add(layers.Dense(1, activation='sigmoid'))\n",
        "\n",
        "model.summary()\n",
        "# Auswahl der Loss-Function und des Optimizers\n",
        "# binary_crossentropy muss bestehen bleiben, da binäres Problem\n",
        "model.compile(loss='binary_crossentropy',\n",
        "              optimizer='adam',\n",
        "              metrics=['accuracy'])\n"
      ],
      "execution_count": 0,
      "outputs": [
        {
          "output_type": "stream",
          "text": [
            "WARNING:tensorflow:From /usr/local/lib/python3.6/dist-packages/tensorflow/python/framework/op_def_library.py:263: colocate_with (from tensorflow.python.framework.ops) is deprecated and will be removed in a future version.\n",
            "Instructions for updating:\n",
            "Colocations handled automatically by placer.\n",
            "_________________________________________________________________\n",
            "Layer (type)                 Output Shape              Param #   \n",
            "=================================================================\n",
            "conv2d_1 (Conv2D)            (None, 38, 78, 16)        448       \n",
            "_________________________________________________________________\n",
            "max_pooling2d_1 (MaxPooling2 (None, 19, 39, 16)        0         \n",
            "_________________________________________________________________\n",
            "conv2d_2 (Conv2D)            (None, 17, 37, 16)        2320      \n",
            "_________________________________________________________________\n",
            "max_pooling2d_2 (MaxPooling2 (None, 8, 18, 16)         0         \n",
            "_________________________________________________________________\n",
            "flatten_1 (Flatten)          (None, 2304)              0         \n",
            "_________________________________________________________________\n",
            "dense_1 (Dense)              (None, 16)                36880     \n",
            "_________________________________________________________________\n",
            "dense_2 (Dense)              (None, 1)                 17        \n",
            "=================================================================\n",
            "Total params: 39,665\n",
            "Trainable params: 39,665\n",
            "Non-trainable params: 0\n",
            "_________________________________________________________________\n"
          ],
          "name": "stdout"
        },
        {
          "output_type": "stream",
          "text": [
            "Using TensorFlow backend.\n"
          ],
          "name": "stderr"
        }
      ]
    },
    {
      "cell_type": "code",
      "metadata": {
        "colab_type": "code",
        "id": "hKQN8cy1VsQJ",
        "outputId": "6a15d0c7-7070-4c49-9a09-7e9dfdda4961",
        "colab": {
          "base_uri": "https://localhost:8080/",
          "height": 51
        }
      },
      "source": [
        "from keras.preprocessing.image import ImageDataGenerator\n",
        "\n",
        "train_datagen = ImageDataGenerator(rescale=1./255,\n",
        "                                   rotation_range=15,\n",
        "                                   width_shift_range=0.3,\n",
        "                                   height_shift_range=0.3,\n",
        "                                   shear_range=0.3,\n",
        "                                   zoom_range=0.3,\n",
        "                                   fill_mode='nearest'\n",
        "                                  )\n",
        "\n",
        "\n",
        "test_datagen = ImageDataGenerator(rescale=1./255)\n",
        "\n",
        "train_generator = train_datagen.flow_from_directory(\n",
        "        base_train_dir,\n",
        "        target_size=(40, 80),\n",
        "        batch_size=500,\n",
        "        class_mode='binary'\n",
        "        )\n",
        "\n",
        "validation_generator = test_datagen.flow_from_directory(\n",
        "        base_test_dir,\n",
        "        target_size=(40, 80),\n",
        "        batch_size=200,\n",
        "        class_mode='binary'\n",
        "        )"
      ],
      "execution_count": 0,
      "outputs": [
        {
          "output_type": "stream",
          "text": [
            "Found 81256 images belonging to 2 classes.\n",
            "Found 22266 images belonging to 2 classes.\n"
          ],
          "name": "stdout"
        }
      ]
    },
    {
      "cell_type": "code",
      "metadata": {
        "colab_type": "code",
        "id": "p7IA3_1AV81B",
        "outputId": "e40de858-4aed-4ebd-b4c1-3af90bc47262",
        "colab": {
          "base_uri": "https://localhost:8080/",
          "height": 816
        }
      },
      "source": [
        "from keras. callbacks import EarlyStopping\n",
        "\n",
        "es = EarlyStopping(monitor='val_acc', patience=5, restore_best_weights=True)\n",
        "\n",
        "history = model.fit_generator(\n",
        "                              train_generator,\n",
        "                              steps_per_epoch=162, \n",
        "                              epochs=100,\n",
        "                              validation_data=validation_generator,\n",
        "                              validation_steps=111, \n",
        "                              callbacks=[es], \n",
        "                             )"
      ],
      "execution_count": 0,
      "outputs": [
        {
          "output_type": "stream",
          "text": [
            "WARNING:tensorflow:From /usr/local/lib/python3.6/dist-packages/tensorflow/python/ops/math_ops.py:3066: to_int32 (from tensorflow.python.ops.math_ops) is deprecated and will be removed in a future version.\n",
            "Instructions for updating:\n",
            "Use tf.cast instead.\n",
            "Epoch 1/100\n",
            "162/162 [==============================] - 131s 806ms/step - loss: 0.2501 - acc: 0.8971 - val_loss: 0.1641 - val_acc: 0.9545\n",
            "Epoch 2/100\n",
            "162/162 [==============================] - 117s 721ms/step - loss: 0.1140 - acc: 0.9586 - val_loss: 0.1005 - val_acc: 0.9712\n",
            "Epoch 3/100\n",
            "162/162 [==============================] - 119s 736ms/step - loss: 0.0843 - acc: 0.9707 - val_loss: 0.0524 - val_acc: 0.9825\n",
            "Epoch 4/100\n",
            "162/162 [==============================] - 118s 729ms/step - loss: 0.0767 - acc: 0.9728 - val_loss: 0.0550 - val_acc: 0.9830\n",
            "Epoch 5/100\n",
            "162/162 [==============================] - 118s 729ms/step - loss: 0.0629 - acc: 0.9780 - val_loss: 0.0743 - val_acc: 0.9792\n",
            "Epoch 6/100\n",
            "162/162 [==============================] - 118s 728ms/step - loss: 0.0607 - acc: 0.9791 - val_loss: 0.0720 - val_acc: 0.9811\n",
            "Epoch 7/100\n",
            "162/162 [==============================] - 117s 722ms/step - loss: 0.0525 - acc: 0.9818 - val_loss: 0.0303 - val_acc: 0.9900\n",
            "Epoch 8/100\n",
            "162/162 [==============================] - 118s 730ms/step - loss: 0.0446 - acc: 0.9848 - val_loss: 0.0380 - val_acc: 0.9885\n",
            "Epoch 9/100\n",
            "162/162 [==============================] - 117s 724ms/step - loss: 0.0477 - acc: 0.9841 - val_loss: 0.0409 - val_acc: 0.9885\n",
            "Epoch 10/100\n",
            "162/162 [==============================] - 118s 729ms/step - loss: 0.0436 - acc: 0.9850 - val_loss: 0.0373 - val_acc: 0.9894\n",
            "Epoch 11/100\n",
            "162/162 [==============================] - 119s 732ms/step - loss: 0.0397 - acc: 0.9863 - val_loss: 0.0491 - val_acc: 0.9869\n",
            "Epoch 12/100\n",
            "162/162 [==============================] - 119s 733ms/step - loss: 0.0392 - acc: 0.9862 - val_loss: 0.0272 - val_acc: 0.9914\n",
            "Epoch 13/100\n",
            "162/162 [==============================] - 117s 725ms/step - loss: 0.0379 - acc: 0.9868 - val_loss: 0.0462 - val_acc: 0.9861\n",
            "Epoch 14/100\n",
            "162/162 [==============================] - 120s 739ms/step - loss: 0.0376 - acc: 0.9874 - val_loss: 0.0195 - val_acc: 0.9931\n",
            "Epoch 15/100\n",
            "162/162 [==============================] - 116s 719ms/step - loss: 0.0364 - acc: 0.9877 - val_loss: 0.0343 - val_acc: 0.9901\n",
            "Epoch 16/100\n",
            "162/162 [==============================] - 119s 732ms/step - loss: 0.0345 - acc: 0.9884 - val_loss: 0.0222 - val_acc: 0.9926\n",
            "Epoch 17/100\n",
            "162/162 [==============================] - 118s 731ms/step - loss: 0.0333 - acc: 0.9893 - val_loss: 0.0207 - val_acc: 0.9939\n",
            "Epoch 18/100\n",
            "162/162 [==============================] - 118s 731ms/step - loss: 0.0313 - acc: 0.9899 - val_loss: 0.0440 - val_acc: 0.9878\n",
            "Epoch 19/100\n",
            "162/162 [==============================] - 118s 730ms/step - loss: 0.0333 - acc: 0.9886 - val_loss: 0.0372 - val_acc: 0.9885\n",
            "Epoch 20/100\n",
            "162/162 [==============================] - 118s 729ms/step - loss: 0.0287 - acc: 0.9904 - val_loss: 0.0207 - val_acc: 0.9931\n",
            "Epoch 21/100\n",
            "162/162 [==============================] - 118s 726ms/step - loss: 0.0317 - acc: 0.9894 - val_loss: 0.0845 - val_acc: 0.9796\n",
            "Epoch 22/100\n",
            "162/162 [==============================] - 120s 739ms/step - loss: 0.0312 - acc: 0.9896 - val_loss: 0.0341 - val_acc: 0.9901\n"
          ],
          "name": "stdout"
        }
      ]
    },
    {
      "cell_type": "code",
      "metadata": {
        "colab_type": "code",
        "id": "gDlfCNijQ72j",
        "outputId": "4122586a-5113-4566-c9b0-4fb9d1c9de77",
        "scrolled": true,
        "colab": {
          "base_uri": "https://localhost:8080/",
          "height": 295
        }
      },
      "source": [
        "# Grafische (Verlaufs-)Darstellung des Loss\n",
        "\n",
        "%matplotlib inline  \n",
        "import matplotlib.pyplot as plt\n",
        "\n",
        "acc = history.history['acc']\n",
        "val_acc = history.history['val_acc']\n",
        "loss = history.history['loss']\n",
        "val_loss = history.history['val_loss']\n",
        "\n",
        "epochs = range(1, len(acc) + 1)\n",
        "\n",
        "# \"bo\" = Blauer Punkt\n",
        "plt.plot(epochs, acc, 'bo', label='Training Accuracy')\n",
        "# \"b\" = Blaue Linie\n",
        "plt.plot(epochs, val_acc, 'b', label='Validation Accuracy')\n",
        "plt.title('Training and validation accuracy')\n",
        "plt.xlabel('Epochs')\n",
        "plt.ylabel('Accuracy')\n",
        "plt.legend()\n",
        "\n",
        "plt.show()"
      ],
      "execution_count": 0,
      "outputs": [
        {
          "output_type": "display_data",
          "data": {
            "image/png": "[encoded data removed]",
            "text/plain": [
              "<Figure size 432x288 with 1 Axes>"
            ]
          },
          "metadata": {
            "tags": []
          }
        }
      ]
    },
    {
      "cell_type": "code",
      "metadata": {
        "colab_type": "code",
        "id": "NfrvdBadQ72r",
        "colab": {
          "base_uri": "https://localhost:8080/",
          "height": 309
        },
        "outputId": "c6e21529-29af-46e2-8949-f41c1528708c"
      },
      "source": [
        "!wget --no-check-certificate \"https://onedrive.live.com/download?cid=11F71A1654195330&resid=11F71A1654195330%2145681&authkey=AIicdVtkBEkQgvU\""
      ],
      "execution_count": 7,
      "outputs": [
        {
          "output_type": "stream",
          "text": [
            "--2019-05-05 19:31:21--  https://onedrive.live.com/download?cid=11F71A1654195330&resid=11F71A1654195330%2145681&authkey=AIicdVtkBEkQgvU\n",
            "Resolving onedrive.live.com (onedrive.live.com)... 13.107.42.13\n",
            "Connecting to onedrive.live.com (onedrive.live.com)|13.107.42.13|:443... connected.\n",
            "HTTP request sent, awaiting response... 302 Found\n",
            "Location: https://mwrg1q.am.files.1drv.com/y4mZ2BwmxI9vShK0aX3W5GBOd9RhJCSj8Hd23H4D6ymb_T9hO2q5hSGgkcD9LiIVL2ezXvP2WQPGm1J-fnjggwEselr9sGm14fZbe1uCWZBj0tHmAXEc-Flyt1spFrZ9JPLFi0Kg0VRL24mbfKLqZoFlH_NOpjS087-geE1QJA660wkVRfTyErVfsWtoQF3jjuAze6l4-VMLU-38SLBeODv2Q/CNR_TEST.zip?download&psid=1 [following]\n",
            "--2019-05-05 19:31:22--  https://mwrg1q.am.files.1drv.com/y4mZ2BwmxI9vShK0aX3W5GBOd9RhJCSj8Hd23H4D6ymb_T9hO2q5hSGgkcD9LiIVL2ezXvP2WQPGm1J-fnjggwEselr9sGm14fZbe1uCWZBj0tHmAXEc-Flyt1spFrZ9JPLFi0Kg0VRL24mbfKLqZoFlH_NOpjS087-geE1QJA660wkVRfTyErVfsWtoQF3jjuAze6l4-VMLU-38SLBeODv2Q/CNR_TEST.zip?download&psid=1\n",
            "Resolving mwrg1q.am.files.1drv.com (mwrg1q.am.files.1drv.com)... 13.107.42.12\n",
            "Connecting to mwrg1q.am.files.1drv.com (mwrg1q.am.files.1drv.com)|13.107.42.12|:443... connected.\n",
            "HTTP request sent, awaiting response... 200 OK\n",
            "Length: 437835825 (418M) [application/zip]\n",
            "Saving to: ‘download?cid=11F71A1654195330&resid=11F71A1654195330!45681&authkey=AIicdVtkBEkQgvU’\n",
            "\n",
            "download?cid=11F71A 100%[===================>] 417.55M  33.6MB/s    in 16s     \n",
            "\n",
            "2019-05-05 19:31:39 (25.8 MB/s) - ‘download?cid=11F71A1654195330&resid=11F71A1654195330!45681&authkey=AIicdVtkBEkQgvU’ saved [437835825/437835825]\n",
            "\n"
          ],
          "name": "stdout"
        }
      ]
    },
    {
      "cell_type": "code",
      "metadata": {
        "id": "xKfhKEIvewJu",
        "colab_type": "code",
        "colab": {}
      },
      "source": [
        "!unzip -q \"download?cid=11F71A1654195330&resid=11F71A1654195330!45681&authkey=AIicdVtkBEkQgvU\""
      ],
      "execution_count": 0,
      "outputs": []
    },
    {
      "cell_type": "code",
      "metadata": {
        "id": "bd6yjSYPe6Jv",
        "colab_type": "code",
        "colab": {
          "base_uri": "https://localhost:8080/",
          "height": 51
        },
        "outputId": "85c18690-f8cb-4b1c-f85f-cd29a639c79e"
      },
      "source": [
        "temp = os.path.join(\"./CNR\", 'test')\n",
        "\n",
        "\n",
        "test_generator = test_datagen.flow_from_directory(\n",
        "        temp,\n",
        "        target_size=(40, 80),\n",
        "        batch_size=128,\n",
        "        class_mode='binary'\n",
        "        )\n",
        "\n",
        "\n",
        "model.evaluate_generator(test_generator,20)"
      ],
      "execution_count": 15,
      "outputs": [
        {
          "output_type": "stream",
          "text": [
            "Found 144965 images belonging to 2 classes.\n"
          ],
          "name": "stdout"
        },
        {
          "output_type": "execute_result",
          "data": {
            "text/plain": [
              "[0.6182978987693787, 0.826953125]"
            ]
          },
          "metadata": {
            "tags": []
          },
          "execution_count": 15
        }
      ]
    }
  ]
}