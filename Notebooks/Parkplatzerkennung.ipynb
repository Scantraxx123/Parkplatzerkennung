{
  "nbformat": 4,
  "nbformat_minor": 0,
  "metadata": {
    "colab": {
      "name": "Parkplatzerkennung.ipynb",
      "version": "0.3.2",
      "provenance": [],
      "collapsed_sections": []
    },
    "language_info": {
      "codemirror_mode": {
        "name": "ipython",
        "version": 3
      },
      "file_extension": ".py",
      "mimetype": "text/x-python",
      "name": "python",
      "nbconvert_exporter": "python",
      "pygments_lexer": "ipython3",
      "version": "3.7.1"
    },
    "kernelspec": {
      "display_name": "Python 3",
      "language": "python",
      "name": "python3"
    },
    "accelerator": "GPU"
  },
  "cells": [
    {
      "cell_type": "code",
      "metadata": {
        "colab_type": "code",
        "id": "EkPo-oGGWq5F",
        "outputId": "516de8a6-e705-4e9e-97f8-e07bdaf0d196",
        "colab": {
          "base_uri": "https://localhost:8080/",
          "height": 309
        }
      },
      "source": [
        "!wget --no-check-certificate \"https://onedrive.live.com/download?cid=11F71A1654195330&resid=11F71A1654195330%2145939&authkey=AE2mvzAS3IHwVOs\""
      ],
      "execution_count": 0,
      "outputs": [
        {
          "output_type": "stream",
          "text": [
            "--2019-05-24 17:21:06--  https://onedrive.live.com/download?cid=11F71A1654195330&resid=11F71A1654195330%2145939&authkey=AE2mvzAS3IHwVOs\n",
            "Resolving onedrive.live.com (onedrive.live.com)... 13.107.42.13\n",
            "Connecting to onedrive.live.com (onedrive.live.com)|13.107.42.13|:443... connected.\n",
            "HTTP request sent, awaiting response... 302 Found\n",
            "Location: https://kgox7w.am.files.1drv.com/y4mmkNWmsnLc_oosD-yfkwARwJHK5ymJPdJ_XJAEpCRxpifctbAVPCLkythcr58AtInFwiNHadaGsr9GW-0tRZ5kcpxj85vqqwYH5UFTZmsb9-pKzkni5Lt7I84nD_2YxDbIrH_wwI4xGw72QLtppYRIsIycfHe9YIzuBxosHyEkBzPOgsdFhm91V1opukxhekZCKE3PFK1HIR38PcPp_tQ0g/UFPR04_05_train_val_test.zip?download&psid=1 [following]\n",
            "--2019-05-24 17:21:07--  https://kgox7w.am.files.1drv.com/y4mmkNWmsnLc_oosD-yfkwARwJHK5ymJPdJ_XJAEpCRxpifctbAVPCLkythcr58AtInFwiNHadaGsr9GW-0tRZ5kcpxj85vqqwYH5UFTZmsb9-pKzkni5Lt7I84nD_2YxDbIrH_wwI4xGw72QLtppYRIsIycfHe9YIzuBxosHyEkBzPOgsdFhm91V1opukxhekZCKE3PFK1HIR38PcPp_tQ0g/UFPR04_05_train_val_test.zip?download&psid=1\n",
            "Resolving kgox7w.am.files.1drv.com (kgox7w.am.files.1drv.com)... 13.107.42.12\n",
            "Connecting to kgox7w.am.files.1drv.com (kgox7w.am.files.1drv.com)|13.107.42.12|:443... connected.\n",
            "HTTP request sent, awaiting response... 200 OK\n",
            "Length: 187934255 (179M) [application/zip]\n",
            "Saving to: ‘download?cid=11F71A1654195330&resid=11F71A1654195330!45939&authkey=AE2mvzAS3IHwVOs’\n",
            "\n",
            "download?cid=11F71A 100%[===================>] 179.23M  16.7MB/s    in 12s     \n",
            "\n",
            "2019-05-24 17:21:20 (15.0 MB/s) - ‘download?cid=11F71A1654195330&resid=11F71A1654195330!45939&authkey=AE2mvzAS3IHwVOs’ saved [187934255/187934255]\n",
            "\n"
          ],
          "name": "stdout"
        }
      ]
    },
    {
      "cell_type": "code",
      "metadata": {
        "colab_type": "code",
        "id": "ZqSyfoiY01E3",
        "colab": {}
      },
      "source": [
        "!unzip -q \"download?cid=11F71A1654195330&resid=11F71A1654195330!45939&authkey=AE2mvzAS3IHwVOs\""
      ],
      "execution_count": 0,
      "outputs": []
    },
    {
      "cell_type": "code",
      "metadata": {
        "id": "yldqpMeB4Gcw",
        "colab_type": "code",
        "outputId": "ebbe1c5b-a79d-450d-8315-19ad08c8dad8",
        "colab": {
          "base_uri": "https://localhost:8080/",
          "height": 34
        }
      },
      "source": [
        "import numpy as np\n",
        "import tensorflow as tf\n",
        "from keras import models\n",
        "from keras import layers\n",
        "import os\n",
        "from keras import applications"
      ],
      "execution_count": 0,
      "outputs": [
        {
          "output_type": "stream",
          "text": [
            "Using TensorFlow backend.\n"
          ],
          "name": "stderr"
        }
      ]
    },
    {
      "cell_type": "code",
      "metadata": {
        "id": "yxdkJM-KQn6Y",
        "colab_type": "code",
        "colab": {}
      },
      "source": [
        "data_dir = './UFPR04_05_train_val_test'\n",
        "base_train_dir = os.path.join(data_dir, 'train')\n",
        "base_val_dir = os.path.join(data_dir, 'val')\n",
        "base_test_dir = os.path.join(data_dir, 'test')"
      ],
      "execution_count": 0,
      "outputs": []
    },
    {
      "cell_type": "code",
      "metadata": {
        "colab_type": "code",
        "id": "JW4ycYhNQ72d",
        "outputId": "3f217810-c8cb-4136-c0a3-60ea29850adf",
        "colab": {
          "base_uri": "https://localhost:8080/",
          "height": 1122
        }
      },
      "source": [
        "\n",
        "model = models.Sequential()\n",
        "\n",
        "model.add(layers.Conv2D(16, (3, 3), input_shape=(60, 60, 3), use_bias=False))\n",
        "model.add(layers.BatchNormalization())\n",
        "model.add(layers.Activation('relu')) \n",
        "model.add(layers.MaxPooling2D((2, 2)))\n",
        "\n",
        "model.add(layers.Dropout(0.4))\n",
        "\n",
        "model.add(layers.Conv2D(32, (3, 3), use_bias=False))\n",
        "model.add(layers.BatchNormalization())\n",
        "model.add(layers.Activation('relu'))\n",
        "model.add(layers.Conv2D(64, (3, 3), use_bias=False))\n",
        "model.add(layers.BatchNormalization())\n",
        "model.add(layers.Activation('relu'))\n",
        "model.add(layers.MaxPooling2D((2, 2)))\n",
        "\n",
        "model.add(layers.Conv2D(128, (3, 3), use_bias=False))\n",
        "model.add(layers.BatchNormalization())\n",
        "model.add(layers.Activation('relu'))\n",
        "model.add(layers.Conv2D(128, (3, 3), use_bias=False))\n",
        "model.add(layers.BatchNormalization())\n",
        "model.add(layers.Activation('relu'))\n",
        "model.add(layers.MaxPooling2D((2, 2)))\n",
        "\n",
        "model.add(layers.Conv2D(128, (3, 3), use_bias=False))\n",
        "model.add(layers.BatchNormalization())\n",
        "model.add(layers.Activation('relu'))\n",
        "\n",
        "model.add(layers.Flatten())\n",
        "\n",
        "model.add(layers.Dropout(0.4))\n",
        "\n",
        "model.add(layers.Dense(512, activation='relu'))\n",
        "model.add(layers.Dense(1, activation='sigmoid'))\n",
        "\n",
        "model.summary() \n",
        "\n",
        "\n",
        "model.compile(loss='binary_crossentropy',\n",
        "              optimizer='adam',\n",
        "              metrics=['accuracy'])\n"
      ],
      "execution_count": 0,
      "outputs": [
        {
          "output_type": "stream",
          "text": [
            "WARNING:tensorflow:From /usr/local/lib/python3.6/dist-packages/tensorflow/python/framework/op_def_library.py:263: colocate_with (from tensorflow.python.framework.ops) is deprecated and will be removed in a future version.\n",
            "Instructions for updating:\n",
            "Colocations handled automatically by placer.\n",
            "WARNING:tensorflow:From /usr/local/lib/python3.6/dist-packages/keras/backend/tensorflow_backend.py:3445: calling dropout (from tensorflow.python.ops.nn_ops) with keep_prob is deprecated and will be removed in a future version.\n",
            "Instructions for updating:\n",
            "Please use `rate` instead of `keep_prob`. Rate should be set to `rate = 1 - keep_prob`.\n",
            "_________________________________________________________________\n",
            "Layer (type)                 Output Shape              Param #   \n",
            "=================================================================\n",
            "conv2d_1 (Conv2D)            (None, 58, 58, 16)        432       \n",
            "_________________________________________________________________\n",
            "batch_normalization_1 (Batch (None, 58, 58, 16)        64        \n",
            "_________________________________________________________________\n",
            "activation_1 (Activation)    (None, 58, 58, 16)        0         \n",
            "_________________________________________________________________\n",
            "max_pooling2d_1 (MaxPooling2 (None, 29, 29, 16)        0         \n",
            "_________________________________________________________________\n",
            "dropout_1 (Dropout)          (None, 29, 29, 16)        0         \n",
            "_________________________________________________________________\n",
            "conv2d_2 (Conv2D)            (None, 27, 27, 32)        4608      \n",
            "_________________________________________________________________\n",
            "batch_normalization_2 (Batch (None, 27, 27, 32)        128       \n",
            "_________________________________________________________________\n",
            "activation_2 (Activation)    (None, 27, 27, 32)        0         \n",
            "_________________________________________________________________\n",
            "conv2d_3 (Conv2D)            (None, 25, 25, 64)        18432     \n",
            "_________________________________________________________________\n",
            "batch_normalization_3 (Batch (None, 25, 25, 64)        256       \n",
            "_________________________________________________________________\n",
            "activation_3 (Activation)    (None, 25, 25, 64)        0         \n",
            "_________________________________________________________________\n",
            "max_pooling2d_2 (MaxPooling2 (None, 12, 12, 64)        0         \n",
            "_________________________________________________________________\n",
            "conv2d_4 (Conv2D)            (None, 10, 10, 128)       73728     \n",
            "_________________________________________________________________\n",
            "batch_normalization_4 (Batch (None, 10, 10, 128)       512       \n",
            "_________________________________________________________________\n",
            "activation_4 (Activation)    (None, 10, 10, 128)       0         \n",
            "_________________________________________________________________\n",
            "conv2d_5 (Conv2D)            (None, 8, 8, 128)         147456    \n",
            "_________________________________________________________________\n",
            "batch_normalization_5 (Batch (None, 8, 8, 128)         512       \n",
            "_________________________________________________________________\n",
            "activation_5 (Activation)    (None, 8, 8, 128)         0         \n",
            "_________________________________________________________________\n",
            "max_pooling2d_3 (MaxPooling2 (None, 4, 4, 128)         0         \n",
            "_________________________________________________________________\n",
            "conv2d_6 (Conv2D)            (None, 2, 2, 128)         147456    \n",
            "_________________________________________________________________\n",
            "batch_normalization_6 (Batch (None, 2, 2, 128)         512       \n",
            "_________________________________________________________________\n",
            "activation_6 (Activation)    (None, 2, 2, 128)         0         \n",
            "_________________________________________________________________\n",
            "flatten_1 (Flatten)          (None, 512)               0         \n",
            "_________________________________________________________________\n",
            "dropout_2 (Dropout)          (None, 512)               0         \n",
            "_________________________________________________________________\n",
            "dense_1 (Dense)              (None, 512)               262656    \n",
            "_________________________________________________________________\n",
            "dense_2 (Dense)              (None, 1)                 513       \n",
            "=================================================================\n",
            "Total params: 657,265\n",
            "Trainable params: 656,273\n",
            "Non-trainable params: 992\n",
            "_________________________________________________________________\n"
          ],
          "name": "stdout"
        }
      ]
    },
    {
      "cell_type": "code",
      "metadata": {
        "colab_type": "code",
        "id": "hKQN8cy1VsQJ",
        "outputId": "6c327fb4-3a80-43cf-989d-5450428857c2",
        "colab": {
          "base_uri": "https://localhost:8080/",
          "height": 51
        }
      },
      "source": [
        "from keras.preprocessing.image import ImageDataGenerator\n",
        "\n",
        "train_datagen = ImageDataGenerator(rescale=1./255)\n",
        "\n",
        "test_datagen = ImageDataGenerator(rescale=1./255)\n",
        "\n",
        "val_datagen = ImageDataGenerator(rescale=1./255)\n",
        "\n",
        "\n",
        "train_generator = train_datagen.flow_from_directory(\n",
        "        base_train_dir,\n",
        "        target_size=(60, 60),\n",
        "        batch_size=128,\n",
        "        class_mode='binary'\n",
        "        )\n",
        "\n",
        "validation_generator = val_datagen.flow_from_directory(\n",
        "        base_val_dir,\n",
        "        target_size=(60, 60),\n",
        "        batch_size=128,\n",
        "        class_mode='binary'\n",
        "        )"
      ],
      "execution_count": 0,
      "outputs": [
        {
          "output_type": "stream",
          "text": [
            "Found 41997 images belonging to 2 classes.\n",
            "Found 12253 images belonging to 2 classes.\n"
          ],
          "name": "stdout"
        }
      ]
    },
    {
      "cell_type": "code",
      "metadata": {
        "colab_type": "code",
        "id": "p7IA3_1AV81B",
        "outputId": "ad53aaf6-7ea0-436a-ddad-e0644b56c8b0",
        "colab": {
          "base_uri": "https://localhost:8080/",
          "height": 510
        }
      },
      "source": [
        "from keras. callbacks import EarlyStopping\n",
        "\n",
        "es = EarlyStopping(monitor='val_acc', patience=5, restore_best_weights=True, verbose = 2)\n",
        "\n",
        "history = model.fit_generator(\n",
        "                              train_generator,\n",
        "                              steps_per_epoch=328, \n",
        "                              epochs=100,\n",
        "                              validation_data=validation_generator,\n",
        "                              validation_steps=95, \n",
        "                              callbacks=[es]\n",
        "                             )"
      ],
      "execution_count": 0,
      "outputs": [
        {
          "output_type": "stream",
          "text": [
            "WARNING:tensorflow:From /usr/local/lib/python3.6/dist-packages/tensorflow/python/ops/math_ops.py:3066: to_int32 (from tensorflow.python.ops.math_ops) is deprecated and will be removed in a future version.\n",
            "Instructions for updating:\n",
            "Use tf.cast instead.\n",
            "Epoch 1/100\n",
            "328/328 [==============================] - 52s 157ms/step - loss: 0.0313 - acc: 0.9896 - val_loss: 0.2272 - val_acc: 0.9256\n",
            "Epoch 2/100\n",
            "328/328 [==============================] - 45s 138ms/step - loss: 0.0149 - acc: 0.9956 - val_loss: 0.0842 - val_acc: 0.9828\n",
            "Epoch 3/100\n",
            "328/328 [==============================] - 44s 133ms/step - loss: 0.0116 - acc: 0.9969 - val_loss: 0.0845 - val_acc: 0.9771\n",
            "Epoch 4/100\n",
            "328/328 [==============================] - 45s 136ms/step - loss: 0.0086 - acc: 0.9974 - val_loss: 0.0521 - val_acc: 0.9834\n",
            "Epoch 5/100\n",
            "328/328 [==============================] - 43s 132ms/step - loss: 0.0154 - acc: 0.9961 - val_loss: 0.0562 - val_acc: 0.9799\n",
            "Epoch 6/100\n",
            "328/328 [==============================] - 44s 135ms/step - loss: 0.0058 - acc: 0.9984 - val_loss: 0.0397 - val_acc: 0.9887\n",
            "Epoch 7/100\n",
            "328/328 [==============================] - 46s 140ms/step - loss: 0.0054 - acc: 0.9985 - val_loss: 0.0334 - val_acc: 0.9909\n",
            "Epoch 8/100\n",
            "328/328 [==============================] - 44s 135ms/step - loss: 0.0055 - acc: 0.9983 - val_loss: 0.1466 - val_acc: 0.9620\n",
            "Epoch 9/100\n",
            "328/328 [==============================] - 44s 135ms/step - loss: 0.0054 - acc: 0.9984 - val_loss: 0.0606 - val_acc: 0.9855\n",
            "Epoch 10/100\n",
            "328/328 [==============================] - 43s 131ms/step - loss: 0.0073 - acc: 0.9978 - val_loss: 0.1333 - val_acc: 0.9769\n",
            "Epoch 11/100\n",
            "328/328 [==============================] - 44s 136ms/step - loss: 0.0042 - acc: 0.9988 - val_loss: 0.0592 - val_acc: 0.9840\n",
            "Epoch 12/100\n",
            "328/328 [==============================] - 43s 132ms/step - loss: 0.0044 - acc: 0.9987 - val_loss: 0.0604 - val_acc: 0.9861\n",
            "Restoring model weights from the end of the best epoch\n",
            "Epoch 00012: early stopping\n"
          ],
          "name": "stdout"
        }
      ]
    },
    {
      "cell_type": "code",
      "metadata": {
        "colab_type": "code",
        "id": "gDlfCNijQ72j",
        "scrolled": true,
        "outputId": "f697ea1a-97ff-4f3a-d7a5-ae916a2a2294",
        "colab": {
          "base_uri": "https://localhost:8080/",
          "height": 295
        }
      },
      "source": [
        "# Grafische (Verlaufs-)Darstellung des Loss\n",
        "\n",
        "%matplotlib inline  \n",
        "import matplotlib.pyplot as plt\n",
        "\n",
        "acc = history.history['acc']\n",
        "val_acc = history.history['val_acc']\n",
        "loss = history.history['loss']\n",
        "val_loss = history.history['val_loss']\n",
        "\n",
        "epochs = range(1, len(acc) + 1)\n",
        "\n",
        "# \"bo\" = Blauer Punkt\n",
        "plt.plot(epochs, acc, 'bo', label='Training Accuracy')\n",
        "# \"b\" = Blaue Linie\n",
        "plt.plot(epochs, val_acc, 'b', label='Validation Accuracy')\n",
        "plt.title('Training and validation accuracy')\n",
        "plt.xlabel('Epochs')\n",
        "plt.ylabel('Accuracy')\n",
        "plt.legend()\n",
        "\n",
        "plt.show()"
      ],
      "execution_count": 0,
      "outputs": [
        {
          "output_type": "display_data",
          "data": {
            "image/png": "[encoded data removed]",
            "text/plain": [
              "<Figure size 432x288 with 1 Axes>"
            ]
          },
          "metadata": {
            "tags": []
          }
        }
      ]
    },
    {
      "cell_type": "code",
      "metadata": {
        "id": "825c8W4XLwIw",
        "colab_type": "code",
        "outputId": "86895262-371d-479d-ed94-9ad8299616f9",
        "colab": {
          "base_uri": "https://localhost:8080/",
          "height": 51
        }
      },
      "source": [
        "test_generator = test_datagen.flow_from_directory(\n",
        "                  base_test_dir,\n",
        "                  target_size = (60, 60),\n",
        "                  batch_size = 128,\n",
        "                  class_mode = 'binary')\n",
        "\n",
        "model.evaluate_generator(test_generator, 93)"
      ],
      "execution_count": 0,
      "outputs": [
        {
          "output_type": "stream",
          "text": [
            "Found 11799 images belonging to 2 classes.\n"
          ],
          "name": "stdout"
        },
        {
          "output_type": "execute_result",
          "data": {
            "text/plain": [
              "[0.006244050321402028, 0.9979166686534882]"
            ]
          },
          "metadata": {
            "tags": []
          },
          "execution_count": 9
        }
      ]
    }
  ]
}