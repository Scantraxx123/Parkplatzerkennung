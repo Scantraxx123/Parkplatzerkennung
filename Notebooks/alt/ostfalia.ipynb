{
 "cells": [
  {
   "cell_type": "code",
   "execution_count": 1,
   "metadata": {
    "scrolled": false
   },
   "outputs": [],
   "source": [
    "%matplotlib inline  "
   ]
  },
  {
   "cell_type": "code",
   "execution_count": 2,
   "metadata": {
    "scrolled": false
   },
   "outputs": [
    {
     "name": "stderr",
     "output_type": "stream",
     "text": [
      "Using TensorFlow backend.\n"
     ]
    }
   ],
   "source": [
    "import matplotlib.pyplot as plt\n",
    "from keras.preprocessing import image\n",
    "import numpy as np\n"
   ]
  },
  {
   "cell_type": "code",
   "execution_count": 3,
   "metadata": {
    "scrolled": false
   },
   "outputs": [],
   "source": [
    "import os\n",
    "\n",
    "data_dir = './data'\n",
    "base_train_dir = os.path.join(data_dir, 'train')\n",
    "base_test_dir = os.path.join(data_dir, 'test')"
   ]
  },
  {
   "cell_type": "code",
   "execution_count": 4,
   "metadata": {},
   "outputs": [
    {
     "name": "stdout",
     "output_type": "stream",
     "text": [
      "Model: \"sequential_1\"\n",
      "_________________________________________________________________\n",
      "Layer (type)                 Output Shape              Param #   \n",
      "=================================================================\n",
      "conv2d_1 (Conv2D)            (None, 58, 58, 16)        432       \n",
      "_________________________________________________________________\n",
      "batch_normalization_1 (Batch (None, 58, 58, 16)        64        \n",
      "_________________________________________________________________\n",
      "activation_1 (Activation)    (None, 58, 58, 16)        0         \n",
      "_________________________________________________________________\n",
      "max_pooling2d_1 (MaxPooling2 (None, 29, 29, 16)        0         \n",
      "_________________________________________________________________\n",
      "dropout_1 (Dropout)          (None, 29, 29, 16)        0         \n",
      "_________________________________________________________________\n",
      "conv2d_2 (Conv2D)            (None, 27, 27, 32)        4608      \n",
      "_________________________________________________________________\n",
      "batch_normalization_2 (Batch (None, 27, 27, 32)        128       \n",
      "_________________________________________________________________\n",
      "activation_2 (Activation)    (None, 27, 27, 32)        0         \n",
      "_________________________________________________________________\n",
      "conv2d_3 (Conv2D)            (None, 25, 25, 64)        18432     \n",
      "_________________________________________________________________\n",
      "batch_normalization_3 (Batch (None, 25, 25, 64)        256       \n",
      "_________________________________________________________________\n",
      "activation_3 (Activation)    (None, 25, 25, 64)        0         \n",
      "_________________________________________________________________\n",
      "max_pooling2d_2 (MaxPooling2 (None, 12, 12, 64)        0         \n",
      "_________________________________________________________________\n",
      "conv2d_4 (Conv2D)            (None, 10, 10, 128)       73728     \n",
      "_________________________________________________________________\n",
      "batch_normalization_4 (Batch (None, 10, 10, 128)       512       \n",
      "_________________________________________________________________\n",
      "activation_4 (Activation)    (None, 10, 10, 128)       0         \n",
      "_________________________________________________________________\n",
      "conv2d_5 (Conv2D)            (None, 8, 8, 128)         147456    \n",
      "_________________________________________________________________\n",
      "batch_normalization_5 (Batch (None, 8, 8, 128)         512       \n",
      "_________________________________________________________________\n",
      "activation_5 (Activation)    (None, 8, 8, 128)         0         \n",
      "_________________________________________________________________\n",
      "max_pooling2d_3 (MaxPooling2 (None, 4, 4, 128)         0         \n",
      "_________________________________________________________________\n",
      "conv2d_6 (Conv2D)            (None, 2, 2, 128)         147456    \n",
      "_________________________________________________________________\n",
      "batch_normalization_6 (Batch (None, 2, 2, 128)         512       \n",
      "_________________________________________________________________\n",
      "activation_6 (Activation)    (None, 2, 2, 128)         0         \n",
      "_________________________________________________________________\n",
      "flatten_1 (Flatten)          (None, 512)               0         \n",
      "_________________________________________________________________\n",
      "dropout_2 (Dropout)          (None, 512)               0         \n",
      "_________________________________________________________________\n",
      "dense_1 (Dense)              (None, 512)               262144    \n",
      "_________________________________________________________________\n",
      "batch_normalization_7 (Batch (None, 512)               2048      \n",
      "_________________________________________________________________\n",
      "activation_7 (Activation)    (None, 512)               0         \n",
      "_________________________________________________________________\n",
      "dense_2 (Dense)              (None, 1)                 513       \n",
      "=================================================================\n",
      "Total params: 658,801\n",
      "Trainable params: 656,785\n",
      "Non-trainable params: 2,016\n",
      "_________________________________________________________________\n"
     ]
    }
   ],
   "source": [
    "from keras import layers\n",
    "from keras import models\n",
    "\n",
    "model = models.Sequential()\n",
    "\n",
    "model.add(layers.Conv2D(16, (3, 3), input_shape=(60, 60, 3), use_bias=False))\n",
    "model.add(layers.BatchNormalization())\n",
    "model.add(layers.Activation('relu')) \n",
    "model.add(layers.MaxPooling2D((2, 2)))\n",
    "\n",
    "model.add(layers.Dropout(0.4))\n",
    "\n",
    "model.add(layers.Conv2D(32, (3, 3), use_bias=False))\n",
    "model.add(layers.BatchNormalization())\n",
    "model.add(layers.Activation('relu'))\n",
    "model.add(layers.Conv2D(64, (3, 3), use_bias=False))\n",
    "model.add(layers.BatchNormalization())\n",
    "model.add(layers.Activation('relu'))\n",
    "model.add(layers.MaxPooling2D((2, 2)))\n",
    "\n",
    "model.add(layers.Conv2D(128, (3, 3), use_bias=False))\n",
    "model.add(layers.BatchNormalization())\n",
    "model.add(layers.Activation('relu'))\n",
    "model.add(layers.Conv2D(128, (3, 3), use_bias=False))\n",
    "model.add(layers.BatchNormalization())\n",
    "model.add(layers.Activation('relu'))\n",
    "model.add(layers.MaxPooling2D((2, 2)))\n",
    "\n",
    "model.add(layers.Conv2D(128, (3, 3), use_bias=False))\n",
    "model.add(layers.BatchNormalization())\n",
    "model.add(layers.Activation('relu'))\n",
    "#model.add(layers.Conv2D(64, (3, 3), use_bias=False))\n",
    "#model.add(layers.BatchNormalization())\n",
    "#model.add(layers.Activation('relu'))\n",
    "#model.add(layers.MaxPooling2D((2, 2)))\n",
    "\n",
    "model.add(layers.Flatten())\n",
    "\n",
    "model.add(layers.Dropout(0.4))\n",
    "\n",
    "model.add(layers.Dense(512, use_bias=False))\n",
    "model.add(layers.BatchNormalization())\n",
    "model.add(layers.Activation('relu'))\n",
    "model.add(layers.Dense(1, activation='sigmoid'))\n",
    "\n",
    "model.summary() "
   ]
  },
  {
   "cell_type": "code",
   "execution_count": 5,
   "metadata": {
    "scrolled": false
   },
   "outputs": [],
   "source": [
    "from keras import optimizers\n",
    "\n",
    "model.compile(loss='binary_crossentropy',\n",
    "              optimizer=optimizers.Adam(),\n",
    "              metrics=['acc'])"
   ]
  },
  {
   "cell_type": "code",
   "execution_count": 6,
   "metadata": {
    "scrolled": false
   },
   "outputs": [
    {
     "name": "stdout",
     "output_type": "stream",
     "text": [
      "Found 17016 images belonging to 2 classes.\n",
      "Found 10991 images belonging to 2 classes.\n"
     ]
    }
   ],
   "source": [
    "from keras.preprocessing.image import ImageDataGenerator\n",
    "\n",
    "# VACC 9441 DO 0.2 0.2\n",
    "#train_datagen = ImageDataGenerator(rescale=1./255,\n",
    "#                                   rotation_range=20,\n",
    "#                                   width_shift_range=0.2,\n",
    "#                                   height_shift_range=0.2,\n",
    "#                                   shear_range=0.2,\n",
    "#                                   zoom_range=0.2,\n",
    "#                                   horizontal_flip=True,\n",
    "#                                   fill_mode='nearest'\n",
    "#                                  )\n",
    "\n",
    "#9495 DO 0.2 0.2 mit horizontal\n",
    "#9808 DO 0.2 0.2 ohne horizontal\n",
    "#train_datagen = ImageDataGenerator(rescale=1./255,\n",
    "#                                   rotation_range=5,\n",
    "#                                   width_shift_range=0.1,\n",
    "#                                   height_shift_range=0.1,\n",
    "#                                   shear_range=0.1,\n",
    "#                                   zoom_range=0.1,\n",
    "#                                   #horizontal_flip=True,\n",
    "#                                   fill_mode='nearest'\n",
    "#                                  )\n",
    "\n",
    "#9844 DO 0.2 0.2\n",
    "#train_datagen = ImageDataGenerator(rescale=1./255,\n",
    "#                                   rotation_range=10,\n",
    "#                                   width_shift_range=0.2,\n",
    "#                                   height_shift_range=0.2,\n",
    "#                                   shear_range=0.2,\n",
    "#                                   zoom_range=0.2,\n",
    "#                                   fill_mode='nearest'\n",
    "#                                  )\n",
    "\n",
    "#9738 0.2 0.2\n",
    "#9561 0 0\n",
    "#9854 0.4 0.4\n",
    "#9727 0.5 0.5\n",
    "#9745 0.3 0.3\n",
    "#9802 0.5 0.3\n",
    "#9809 0.3 0.5\n",
    "train_datagen = ImageDataGenerator(rescale=1./255,\n",
    "                                   rotation_range=15,\n",
    "                                   width_shift_range=0.3,\n",
    "                                   height_shift_range=0.3,\n",
    "                                   shear_range=0.3,\n",
    "                                   zoom_range=0.3,\n",
    "                                   fill_mode='nearest'\n",
    "                                  )\n",
    "\n",
    "\n",
    "test_datagen = ImageDataGenerator(rescale=1./255)\n",
    "\n",
    "train_generator = train_datagen.flow_from_directory(\n",
    "        base_train_dir,\n",
    "        target_size=(60, 60),\n",
    "        batch_size=128,\n",
    "        class_mode='binary'\n",
    "        )\n",
    "\n",
    "validation_generator = test_datagen.flow_from_directory(\n",
    "        base_test_dir,\n",
    "        target_size=(60, 60),\n",
    "        batch_size=128,\n",
    "        class_mode='binary'\n",
    "        )"
   ]
  },
  {
   "cell_type": "code",
   "execution_count": 7,
   "metadata": {
    "scrolled": false
   },
   "outputs": [
    {
     "name": "stdout",
     "output_type": "stream",
     "text": [
      "Epoch 1/100\n",
      "142/142 [==============================] - 23s 161ms/step - loss: 0.0380 - acc: 0.9865 - val_loss: 0.0204 - val_acc: 0.9955\n",
      "Epoch 2/100\n",
      "142/142 [==============================] - 20s 143ms/step - loss: 0.0250 - acc: 0.9925 - val_loss: 0.0321 - val_acc: 0.9903\n",
      "Epoch 3/100\n",
      "142/142 [==============================] - 20s 141ms/step - loss: 0.0153 - acc: 0.9950 - val_loss: 0.0643 - val_acc: 0.9727\n",
      "Epoch 4/100\n",
      "142/142 [==============================] - 20s 143ms/step - loss: 0.0188 - acc: 0.9938 - val_loss: 0.0385 - val_acc: 0.9861\n",
      "Epoch 5/100\n",
      "142/142 [==============================] - 20s 142ms/step - loss: 0.0138 - acc: 0.9959 - val_loss: 0.0500 - val_acc: 0.9846\n",
      "Epoch 6/100\n",
      "142/142 [==============================] - 20s 142ms/step - loss: 0.0170 - acc: 0.9944 - val_loss: 0.0084 - val_acc: 0.9979\n",
      "Epoch 7/100\n",
      "142/142 [==============================] - 20s 142ms/step - loss: 0.0139 - acc: 0.9955 - val_loss: 0.0069 - val_acc: 0.9990\n",
      "Epoch 8/100\n",
      "142/142 [==============================] - 20s 143ms/step - loss: 0.0132 - acc: 0.9964 - val_loss: 0.0099 - val_acc: 0.9963\n",
      "Epoch 9/100\n",
      "142/142 [==============================] - 20s 142ms/step - loss: 0.0110 - acc: 0.9962 - val_loss: 0.0108 - val_acc: 0.9982\n",
      "Epoch 10/100\n",
      "142/142 [==============================] - 20s 142ms/step - loss: 0.0143 - acc: 0.9964 - val_loss: 0.0209 - val_acc: 0.9941\n",
      "Epoch 11/100\n",
      "142/142 [==============================] - 20s 142ms/step - loss: 0.0093 - acc: 0.9975 - val_loss: 0.0053 - val_acc: 0.9992\n",
      "Epoch 12/100\n",
      "142/142 [==============================] - 20s 142ms/step - loss: 0.0087 - acc: 0.9973 - val_loss: 0.0125 - val_acc: 0.9949\n",
      "Epoch 13/100\n",
      "142/142 [==============================] - 20s 142ms/step - loss: 0.0100 - acc: 0.9969 - val_loss: 0.0170 - val_acc: 0.9934\n",
      "Epoch 14/100\n",
      "142/142 [==============================] - 20s 141ms/step - loss: 0.0085 - acc: 0.9974 - val_loss: 0.0156 - val_acc: 0.9946\n",
      "Epoch 15/100\n",
      "142/142 [==============================] - 20s 144ms/step - loss: 0.0090 - acc: 0.9971 - val_loss: 0.0058 - val_acc: 0.9993\n",
      "Epoch 16/100\n",
      "142/142 [==============================] - 20s 141ms/step - loss: 0.0062 - acc: 0.9981 - val_loss: 0.0204 - val_acc: 0.9925\n",
      "Epoch 17/100\n",
      "142/142 [==============================] - 20s 143ms/step - loss: 0.0087 - acc: 0.9975 - val_loss: 0.0098 - val_acc: 0.9963\n",
      "Epoch 18/100\n",
      "142/142 [==============================] - 20s 143ms/step - loss: 0.0079 - acc: 0.9979 - val_loss: 0.0065 - val_acc: 0.9986\n",
      "Epoch 19/100\n",
      "142/142 [==============================] - 20s 143ms/step - loss: 0.0099 - acc: 0.9974 - val_loss: 0.0148 - val_acc: 0.9954\n",
      "Epoch 20/100\n",
      "142/142 [==============================] - 20s 141ms/step - loss: 0.0063 - acc: 0.9985 - val_loss: 0.0216 - val_acc: 0.9928\n",
      "Epoch 21/100\n",
      "142/142 [==============================] - 20s 141ms/step - loss: 0.0086 - acc: 0.9979 - val_loss: 0.0146 - val_acc: 0.9946\n",
      "Epoch 22/100\n",
      "142/142 [==============================] - 20s 142ms/step - loss: 0.0079 - acc: 0.9976 - val_loss: 0.0184 - val_acc: 0.9948\n",
      "Epoch 23/100\n",
      "142/142 [==============================] - 20s 141ms/step - loss: 0.0079 - acc: 0.9977 - val_loss: 0.0307 - val_acc: 0.9922\n",
      "Epoch 24/100\n",
      "142/142 [==============================] - 20s 142ms/step - loss: 0.0062 - acc: 0.9986 - val_loss: 0.0127 - val_acc: 0.9950\n",
      "Epoch 25/100\n",
      "142/142 [==============================] - 20s 141ms/step - loss: 0.0072 - acc: 0.9985 - val_loss: 0.0101 - val_acc: 0.9963\n"
     ]
    }
   ],
   "source": [
    "from keras. callbacks import EarlyStopping\n",
    "\n",
    "es = EarlyStopping(monitor='val_acc', patience=5+5, restore_best_weights=True)\n",
    "\n",
    "history = model.fit_generator(\n",
    "                              train_generator,\n",
    "                              steps_per_epoch=142, #39209 - find . -name \"*.ppm\" | wc -l\n",
    "                              epochs=100,\n",
    "                              validation_data=validation_generator,\n",
    "                              validation_steps=86, #12630 - find . -name \"*.ppm\" | wc -l\n",
    "                              callbacks=[es], \n",
    "                             )"
   ]
  },
  {
   "cell_type": "code",
   "execution_count": 8,
   "metadata": {},
   "outputs": [
    {
     "data": {
      "text/plain": [
       "0.9992721317441543"
      ]
     },
     "execution_count": 8,
     "metadata": {},
     "output_type": "execute_result"
    }
   ],
   "source": [
    "max(history.history['val_acc'])"
   ]
  },
  {
   "cell_type": "code",
   "execution_count": null,
   "metadata": {},
   "outputs": [],
   "source": []
  }
 ],
 "metadata": {
  "kernelspec": {
   "display_name": "Python 3",
   "language": "python",
   "name": "python3"
  },
  "language_info": {
   "codemirror_mode": {
    "name": "ipython",
    "version": 3
   },
   "file_extension": ".py",
   "mimetype": "text/x-python",
   "name": "python",
   "nbconvert_exporter": "python",
   "pygments_lexer": "ipython3",
   "version": "3.6.8"
  }
 },
 "nbformat": 4,
 "nbformat_minor": 2
}
